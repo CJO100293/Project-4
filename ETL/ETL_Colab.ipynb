{
  "cells": [
    {
      "cell_type": "markdown",
      "metadata": {
        "id": "view-in-github",
        "colab_type": "text"
      },
      "source": [
        "<a href=\"https://colab.research.google.com/github/CJO100293/Project-4/blob/main/ETL/ETL_Colab.ipynb\" target=\"_parent\"><img src=\"https://colab.research.google.com/assets/colab-badge.svg\" alt=\"Open In Colab\"/></a>"
      ]
    },
    {
      "cell_type": "code",
      "execution_count": null,
      "id": "73059ea0",
      "metadata": {
        "id": "73059ea0"
      },
      "outputs": [],
      "source": [
        "# Importing the Needed Dependencies\n",
        "import warnings\n",
        "from warnings import simplefilter\n",
        "warnings.simplefilter(action='ignore', category=FutureWarning)\n",
        "import pandas as pd\n",
        "import numpy as np\n",
        "pd.set_option('max_colwidth', 400)\n",
        "import os\n",
        "import csv\n",
        "from pprint import pprint\n",
        "from pathlib import Path\n",
        "from google.colab import drive"
      ]
    },
    {
      "cell_type": "code",
      "execution_count": null,
      "id": "cb63a836",
      "metadata": {
        "id": "cb63a836"
      },
      "outputs": [],
      "source": [
        "# Mouting Google Drive Account\n",
        "drive.mount('/content/drive')"
      ]
    },
    {
      "cell_type": "code",
      "execution_count": null,
      "id": "faf321c1",
      "metadata": {
        "id": "faf321c1"
      },
      "outputs": [],
      "source": [
        "# Create reference to CSV file\n",
        "url = \"https://nextcloud.unknowntunnel.com/s/9sPFBptTjtyPDKK/download/credit_data.csv\"\n",
        "\n",
        "# Import the CSV into a pandas DataFrame\n",
        "credit_data_df = pd.read_csv(url)\n",
        "\n",
        "# Display dataframe\n",
        "credit_data_df.head()"
      ]
    },
    {
      "cell_type": "code",
      "execution_count": null,
      "id": "86df6abb",
      "metadata": {
        "id": "86df6abb"
      },
      "outputs": [],
      "source": [
        "# Dropping unneeded columns\n",
        "credit_data_df = credit_data_df.drop(['Term', 'Years in current job',\n",
        "                                      'Loan ID', 'Customer ID',\n",
        "                                      'Home Ownership', 'Tax Liens'], axis=1)\n",
        "# Display dataframe\n",
        "credit_data_df.head()"
      ]
    },
    {
      "cell_type": "code",
      "execution_count": null,
      "id": "19869415",
      "metadata": {
        "id": "19869415",
        "scrolled": true
      },
      "outputs": [],
      "source": [
        "# Adding \"Monthly Income\" column by taking the \"Annual Income\" column and dividing it by 12.\n",
        "\n",
        "# Adding months variable\n",
        "months = 12\n",
        "\n",
        "# Adding new \"monthly income\" column by deviding the \"Annual Income\" column by 12.\n",
        "credit_data_df['Monthly Income'] = (credit_data_df['Annual Income'] / months).round(2)\n",
        "\n",
        "# Display Dataframe\n",
        "credit_data_df.head()"
      ]
    },
    {
      "cell_type": "code",
      "execution_count": null,
      "id": "701c1668",
      "metadata": {
        "id": "701c1668"
      },
      "outputs": [],
      "source": [
        "# Adding \"Debt-Income Ratio\" column by taking the \"Monthly Debt\" column and dividing it by the 'Monthly Income' column.\n",
        "#credit_data_df['Debt / Income Ratio'] = credit_data_df['Monthly Debt']/credit_data_df['Monthly Income']*100\n",
        "credit_data_df['Debt / Income Ratio'] = credit_data_df['Monthly Debt']/credit_data_df['Monthly Income']\n",
        "\n",
        "#Display Dataframe\n",
        "credit_data_df.head()"
      ]
    },
    {
      "cell_type": "code",
      "execution_count": null,
      "id": "e4d9fd18",
      "metadata": {
        "id": "e4d9fd18"
      },
      "outputs": [],
      "source": [
        "# Adding \"Credit Usage Ratio\" column by taking the \"Current Credit Balance\" column and\n",
        "# dividing it by the 'Maximum Open Credit' column.\n",
        "credit_data_df['Credit Usage Ratio'] = credit_data_df['Current Credit Balance']/credit_data_df['Maximum Open Credit']\n",
        "\n",
        "#Display Dataframe\n",
        "credit_data_df.head()"
      ]
    },
    {
      "cell_type": "code",
      "execution_count": null,
      "id": "83f1d5d7",
      "metadata": {
        "id": "83f1d5d7"
      },
      "outputs": [],
      "source": [
        "# Changing all \"NaN\" values in all columns to \"0\"\n",
        "credit_data_df = credit_data_df.fillna(0)\n",
        "credit_data_df.head()"
      ]
    },
    {
      "cell_type": "code",
      "execution_count": null,
      "id": "4012339c",
      "metadata": {
        "id": "4012339c"
      },
      "outputs": [],
      "source": [
        "# Changing Values in \"Bankrupcies\" columns from anything >=2 to be 1 for to represent a true value\n",
        "# and keeping values of 0 as their original value to represent a false value.\n",
        "credit_data_df['Bankruptcies'] = credit_data_df['Bankruptcies'].replace({2: 1})\n",
        "credit_data_df['Bankruptcies'] = credit_data_df['Bankruptcies'].replace({3: 1})\n",
        "credit_data_df['Bankruptcies'] = credit_data_df['Bankruptcies'].replace({5: 1})\n",
        "credit_data_df"
      ]
    },
    {
      "cell_type": "code",
      "execution_count": null,
      "id": "a3b5d690",
      "metadata": {
        "id": "a3b5d690"
      },
      "outputs": [],
      "source": [
        "# Dropping Rows 452, 537, 1752, 2680, 5861, 7083 and 9968 because we believe it has some erroneous data\n",
        "# See README.md for further explanation\n",
        "credit_data_df = credit_data_df.drop([452, 537, 1752, 2680, 5861, 7083, 9968])"
      ]
    },
    {
      "cell_type": "code",
      "execution_count": null,
      "id": "a411daa5",
      "metadata": {
        "id": "a411daa5",
        "scrolled": false
      },
      "outputs": [],
      "source": [
        "# Changing order of columns\n",
        "credit_data_df = credit_data_df.reindex(['Current Loan Amount', 'Credit Score',\n",
        "                                         'Annual Income', 'Monthly Income',\n",
        "                                         'Monthly Debt', 'Debt / Income Ratio', 'Years of Credit History',\n",
        "                                         'Months since last delinquent',\n",
        "                                         'Number of Open Accounts', 'Number of Credit Problems',\n",
        "                                         'Current Credit Balance' ,'Maximum Open Credit',\n",
        "                                         'Credit Usage Ratio', 'Bankruptcies', 'Purpose'], axis=1)\n",
        "# Display dataframe\n",
        "credit_data_df.head()"
      ]
    },
    {
      "cell_type": "code",
      "execution_count": null,
      "id": "41ffabc7",
      "metadata": {
        "id": "41ffabc7",
        "scrolled": true
      },
      "outputs": [],
      "source": [
        "# Renaming the \"Years of Credit History\", \"Months since last delinquent\",\n",
        "# \"Number of Open Accounts\", \"Number of Credit Problems\", \"Current Credit Balance\",\n",
        "# \"Maximum Open Credit\" and \"Purpose\" columns.\n",
        "credit_data_df = credit_data_df.rename(columns={\"Years of Credit History\":\"Credit History(Years)\",\n",
        "                                                \"Months since last delinquent\":\"Months Delinquent\",\n",
        "                                                \"Number of Open Accounts\":\"Open Accounts\",\n",
        "                                                \"Number of Credit Problems\":\"Credit Problems\",\n",
        "                                                \"Current Credit Balance\":\"Credit Balance\",\n",
        "                                                \"Maximum Open Credit\":\"Total Credit\",\n",
        "                                                \"Purpose\":\"Loan Purpose\"})\n",
        "\n",
        "# Display dataframe\n",
        "credit_data_df.head()"
      ]
    },
    {
      "cell_type": "code",
      "execution_count": null,
      "id": "7b75b220",
      "metadata": {
        "id": "7b75b220"
      },
      "outputs": [],
      "source": [
        "# Export the newly transformed dataframe into a csv\n",
        "credit_data_df.to_csv(\"/content/drive/My Drive/Colab-Notebooks/Project-4/output_data/ETL_credit_data.csv\", index=False)"
      ]
    },
    {
      "cell_type": "code",
      "execution_count": null,
      "id": "dFZ3WNRCciUs",
      "metadata": {
        "id": "dFZ3WNRCciUs"
      },
      "outputs": [],
      "source": [
        "# Un-Mouting Google Drive Account\n",
        "drive.flush_and_unmount()"
      ]
    }
  ],
  "metadata": {
    "colab": {
      "provenance": [],
      "include_colab_link": true
    },
    "kernelspec": {
      "display_name": "Python 3 (ipykernel)",
      "language": "python",
      "name": "python3"
    },
    "language_info": {
      "codemirror_mode": {
        "name": "ipython",
        "version": 3
      },
      "file_extension": ".py",
      "mimetype": "text/x-python",
      "name": "python",
      "nbconvert_exporter": "python",
      "pygments_lexer": "ipython3",
      "version": "3.9.13"
    }
  },
  "nbformat": 4,
  "nbformat_minor": 5
}