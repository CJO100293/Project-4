{
  "cells": [
    {
      "cell_type": "markdown",
      "metadata": {
        "id": "view-in-github",
        "colab_type": "text"
      },
      "source": [
        "<a href=\"https://colab.research.google.com/github/CJO100293/Project-4/blob/main/ETL/ETL_Visualizations_Colab.ipynb\" target=\"_parent\"><img src=\"https://colab.research.google.com/assets/colab-badge.svg\" alt=\"Open In Colab\"/></a>"
      ]
    },
    {
      "cell_type": "code",
      "execution_count": null,
      "id": "f379a27f",
      "metadata": {
        "id": "f379a27f"
      },
      "outputs": [],
      "source": [
        "# Importing the Needed Dependencies\n",
        "import warnings\n",
        "warnings.simplefilter(action='ignore', category=FutureWarning)\n",
        "import pandas as pd\n",
        "import numpy as np\n",
        "pd.set_option('max_colwidth', 400)\n",
        "import os\n",
        "import csv\n",
        "from pprint import pprint\n",
        "from pathlib import Path\n",
        "from google.colab import drive"
      ]
    },
    {
      "cell_type": "code",
      "execution_count": null,
      "id": "fef47293",
      "metadata": {
        "id": "fef47293"
      },
      "outputs": [],
      "source": [
        "# Mouting Google Drive Account\n",
        "drive.mount('/content/drive')"
      ]
    },
    {
      "cell_type": "code",
      "execution_count": null,
      "id": "785041d6",
      "metadata": {
        "id": "785041d6"
      },
      "outputs": [],
      "source": [
        "# Create reference to CSV file\n",
        "url = \"https://nextcloud.unknowntunnel.com/s/ybcswYZDTBWi3Nx/download/ETL_credit_data.csv\"\n",
        "\n",
        "# Import the CSV into a pandas DataFrame\n",
        "credit_data_df = pd.read_csv(url)\n",
        "\n",
        "# Display dataframe\n",
        "credit_data_df.head()"
      ]
    },
    {
      "cell_type": "code",
      "execution_count": null,
      "id": "89f30fbd",
      "metadata": {
        "id": "89f30fbd"
      },
      "outputs": [],
      "source": [
        "# renaming \"0\" to \"No\" and \"1\" to \"Yes\" in the \"Bankruptcies\" column\n",
        "credit_data_df['Bankruptcies'] = credit_data_df['Bankruptcies'].replace({0: 'No'})\n",
        "credit_data_df['Bankruptcies'] = credit_data_df['Bankruptcies'].replace({1: 'Yes'})\n",
        "credit_data_df"
      ]
    },
    {
      "cell_type": "code",
      "execution_count": null,
      "id": "ad28c4af",
      "metadata": {
        "id": "ad28c4af"
      },
      "outputs": [],
      "source": [
        "# Export the newly transformed dataframe into a csv\n",
        "credit_data_df.to_csv(\"/content/drive/My Drive/Colab-Notebooks/Project-4/output_data/ETL_Visualizations_credit_data.csv\", index=False)"
      ]
    },
    {
      "cell_type": "code",
      "execution_count": null,
      "id": "a0546f4b",
      "metadata": {
        "id": "a0546f4b"
      },
      "outputs": [],
      "source": [
        "# Un-Mouting Google Drive Account\n",
        "drive.flush_and_unmount()"
      ]
    }
  ],
  "metadata": {
    "kernelspec": {
      "display_name": "Python 3 (ipykernel)",
      "language": "python",
      "name": "python3"
    },
    "language_info": {
      "codemirror_mode": {
        "name": "ipython",
        "version": 3
      },
      "file_extension": ".py",
      "mimetype": "text/x-python",
      "name": "python",
      "nbconvert_exporter": "python",
      "pygments_lexer": "ipython3",
      "version": "3.10.10"
    },
    "colab": {
      "provenance": [],
      "include_colab_link": true
    }
  },
  "nbformat": 4,
  "nbformat_minor": 5
}