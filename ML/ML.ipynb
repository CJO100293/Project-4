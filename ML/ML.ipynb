{
 "cells": [
  {
   "cell_type": "code",
   "execution_count": 1,
   "id": "055b5e52",
   "metadata": {},
   "outputs": [
    {
     "name": "stdout",
     "output_type": "stream",
     "text": [
      "Requirement already satisfied: imblearn in c:\\users\\cody\\anaconda3\\envs\\dev\\lib\\site-packages (0.0)\n",
      "Requirement already satisfied: imbalanced-learn in c:\\users\\cody\\anaconda3\\envs\\dev\\lib\\site-packages (from imblearn) (0.11.0)\n",
      "Requirement already satisfied: numpy>=1.17.3 in c:\\users\\cody\\anaconda3\\envs\\dev\\lib\\site-packages (from imbalanced-learn->imblearn) (1.24.3)\n",
      "Requirement already satisfied: scipy>=1.5.0 in c:\\users\\cody\\anaconda3\\envs\\dev\\lib\\site-packages (from imbalanced-learn->imblearn) (1.11.1)\n",
      "Requirement already satisfied: scikit-learn>=1.0.2 in c:\\users\\cody\\anaconda3\\envs\\dev\\lib\\site-packages (from imbalanced-learn->imblearn) (1.2.2)\n",
      "Requirement already satisfied: joblib>=1.1.1 in c:\\users\\cody\\anaconda3\\envs\\dev\\lib\\site-packages (from imbalanced-learn->imblearn) (1.1.1)\n",
      "Requirement already satisfied: threadpoolctl>=2.0.0 in c:\\users\\cody\\anaconda3\\envs\\dev\\lib\\site-packages (from imbalanced-learn->imblearn) (2.2.0)\n"
     ]
    }
   ],
   "source": [
    "# Installing the needed dependencies\n",
    "import sys\n",
    "!{sys.executable} -m pip install imblearn"
   ]
  },
  {
   "cell_type": "code",
   "execution_count": 2,
   "id": "0eb72b7e",
   "metadata": {},
   "outputs": [],
   "source": [
    "# Importing the Needed Dependencies\n",
    "from warnings import simplefilter\n",
    "simplefilter(action='ignore', category=FutureWarning)\n",
    "import numpy as np\n",
    "import pandas as pd\n",
    "from pathlib import Path\n",
    "from sklearn.metrics import balanced_accuracy_score, confusion_matrix, classification_report\n",
    "from sklearn.utils.validation import check_array\n",
    "from sklearn.metrics import accuracy_score\n",
    "from sklearn.metrics import precision_score\n",
    "from sklearn.metrics import recall_score\n",
    "from sklearn.model_selection import train_test_split\n",
    "from sklearn.linear_model import LogisticRegression\n",
    "from pprint import pprint\n",
    "import csv\n",
    "from imblearn.over_sampling import RandomOverSampler"
   ]
  },
  {
   "cell_type": "markdown",
   "id": "ea48a813",
   "metadata": {},
   "source": [
    "## Loading \"ETL_credit_data.csv\" Into Dataframe"
   ]
  },
  {
   "cell_type": "code",
   "execution_count": 3,
   "id": "e1c646b9",
   "metadata": {},
   "outputs": [
    {
     "data": {
      "text/html": [
       "<div>\n",
       "<style scoped>\n",
       "    .dataframe tbody tr th:only-of-type {\n",
       "        vertical-align: middle;\n",
       "    }\n",
       "\n",
       "    .dataframe tbody tr th {\n",
       "        vertical-align: top;\n",
       "    }\n",
       "\n",
       "    .dataframe thead th {\n",
       "        text-align: right;\n",
       "    }\n",
       "</style>\n",
       "<table border=\"1\" class=\"dataframe\">\n",
       "  <thead>\n",
       "    <tr style=\"text-align: right;\">\n",
       "      <th></th>\n",
       "      <th>Current Loan Amount</th>\n",
       "      <th>Credit Score</th>\n",
       "      <th>Annual Income</th>\n",
       "      <th>Monthly Income</th>\n",
       "      <th>Monthly Debt</th>\n",
       "      <th>Debt / Income Ratio</th>\n",
       "      <th>Credit History(Years)</th>\n",
       "      <th>Months Delinquent</th>\n",
       "      <th>Open Accounts</th>\n",
       "      <th>Credit Problems</th>\n",
       "      <th>Credit Balance</th>\n",
       "      <th>Total Credit</th>\n",
       "      <th>Credit Usage Ratio</th>\n",
       "      <th>Bankruptcies</th>\n",
       "    </tr>\n",
       "  </thead>\n",
       "  <tbody>\n",
       "    <tr>\n",
       "      <th>0</th>\n",
       "      <td>611314</td>\n",
       "      <td>747.0</td>\n",
       "      <td>2074116.0</td>\n",
       "      <td>172843.00</td>\n",
       "      <td>42000.83</td>\n",
       "      <td>0.243000</td>\n",
       "      <td>21.8</td>\n",
       "      <td>0.0</td>\n",
       "      <td>9</td>\n",
       "      <td>0</td>\n",
       "      <td>621908</td>\n",
       "      <td>1058970</td>\n",
       "      <td>0.587276</td>\n",
       "      <td>0.0</td>\n",
       "    </tr>\n",
       "    <tr>\n",
       "      <th>1</th>\n",
       "      <td>266662</td>\n",
       "      <td>734.0</td>\n",
       "      <td>1919190.0</td>\n",
       "      <td>159932.50</td>\n",
       "      <td>36624.40</td>\n",
       "      <td>0.228999</td>\n",
       "      <td>19.4</td>\n",
       "      <td>0.0</td>\n",
       "      <td>11</td>\n",
       "      <td>0</td>\n",
       "      <td>679573</td>\n",
       "      <td>904442</td>\n",
       "      <td>0.751373</td>\n",
       "      <td>0.0</td>\n",
       "    </tr>\n",
       "    <tr>\n",
       "      <th>2</th>\n",
       "      <td>153494</td>\n",
       "      <td>709.0</td>\n",
       "      <td>871112.0</td>\n",
       "      <td>72592.67</td>\n",
       "      <td>8391.73</td>\n",
       "      <td>0.115600</td>\n",
       "      <td>12.5</td>\n",
       "      <td>10.0</td>\n",
       "      <td>10</td>\n",
       "      <td>0</td>\n",
       "      <td>38532</td>\n",
       "      <td>388036</td>\n",
       "      <td>0.099300</td>\n",
       "      <td>0.0</td>\n",
       "    </tr>\n",
       "    <tr>\n",
       "      <th>3</th>\n",
       "      <td>176242</td>\n",
       "      <td>727.0</td>\n",
       "      <td>780083.0</td>\n",
       "      <td>65006.92</td>\n",
       "      <td>16771.87</td>\n",
       "      <td>0.258001</td>\n",
       "      <td>16.5</td>\n",
       "      <td>27.0</td>\n",
       "      <td>16</td>\n",
       "      <td>1</td>\n",
       "      <td>156940</td>\n",
       "      <td>531322</td>\n",
       "      <td>0.295376</td>\n",
       "      <td>1.0</td>\n",
       "    </tr>\n",
       "    <tr>\n",
       "      <th>4</th>\n",
       "      <td>321992</td>\n",
       "      <td>744.0</td>\n",
       "      <td>1761148.0</td>\n",
       "      <td>146762.33</td>\n",
       "      <td>39478.77</td>\n",
       "      <td>0.268998</td>\n",
       "      <td>26.0</td>\n",
       "      <td>44.0</td>\n",
       "      <td>14</td>\n",
       "      <td>0</td>\n",
       "      <td>359765</td>\n",
       "      <td>468072</td>\n",
       "      <td>0.768610</td>\n",
       "      <td>0.0</td>\n",
       "    </tr>\n",
       "  </tbody>\n",
       "</table>\n",
       "</div>"
      ],
      "text/plain": [
       "   Current Loan Amount  Credit Score  Annual Income  Monthly Income  \\\n",
       "0               611314         747.0      2074116.0       172843.00   \n",
       "1               266662         734.0      1919190.0       159932.50   \n",
       "2               153494         709.0       871112.0        72592.67   \n",
       "3               176242         727.0       780083.0        65006.92   \n",
       "4               321992         744.0      1761148.0       146762.33   \n",
       "\n",
       "   Monthly Debt  Debt / Income Ratio  Credit History(Years)  \\\n",
       "0      42000.83             0.243000                   21.8   \n",
       "1      36624.40             0.228999                   19.4   \n",
       "2       8391.73             0.115600                   12.5   \n",
       "3      16771.87             0.258001                   16.5   \n",
       "4      39478.77             0.268998                   26.0   \n",
       "\n",
       "   Months Delinquent  Open Accounts  Credit Problems  Credit Balance  \\\n",
       "0                0.0              9                0          621908   \n",
       "1                0.0             11                0          679573   \n",
       "2               10.0             10                0           38532   \n",
       "3               27.0             16                1          156940   \n",
       "4               44.0             14                0          359765   \n",
       "\n",
       "   Total Credit  Credit Usage Ratio  Bankruptcies  \n",
       "0       1058970            0.587276           0.0  \n",
       "1        904442            0.751373           0.0  \n",
       "2        388036            0.099300           0.0  \n",
       "3        531322            0.295376           1.0  \n",
       "4        468072            0.768610           0.0  "
      ]
     },
     "execution_count": 3,
     "metadata": {},
     "output_type": "execute_result"
    }
   ],
   "source": [
    "# Create reference to CSV file\n",
    "csv_path = Path(\"../output_data/ETL/csv/ETL_credit_data.csv\")\n",
    "\n",
    "# Import the CSV into a pandas DataFrame\n",
    "credit_data_df = pd.read_csv(csv_path)\n",
    "\n",
    "# Display dataframe\n",
    "credit_data_df.head()"
   ]
  },
  {
   "cell_type": "markdown",
   "id": "440d26cd",
   "metadata": {},
   "source": [
    "## Split the Data into Training and Testing Sets"
   ]
  },
  {
   "cell_type": "markdown",
   "id": "63e35864",
   "metadata": {},
   "source": [
    "### Step 1: Create the labels set (y) from the “Bankruptcies” column, and then create the features (X) DataFrame from the remaining columns"
   ]
  },
  {
   "cell_type": "code",
   "execution_count": 4,
   "id": "689e950d",
   "metadata": {},
   "outputs": [],
   "source": [
    "# Separate the data into labels and features\n",
    "# Separate the y variable, the labels\n",
    "y = credit_data_df['Bankruptcies']\n",
    "\n",
    "# Separate the X variable, the features\n",
    "X = credit_data_df.drop(columns='Bankruptcies')"
   ]
  },
  {
   "cell_type": "code",
   "execution_count": 5,
   "id": "9e894ab8",
   "metadata": {},
   "outputs": [
    {
     "data": {
      "text/plain": [
       "0    0.0\n",
       "1    0.0\n",
       "2    0.0\n",
       "3    1.0\n",
       "4    0.0\n",
       "Name: Bankruptcies, dtype: float64"
      ]
     },
     "execution_count": 5,
     "metadata": {},
     "output_type": "execute_result"
    }
   ],
   "source": [
    "# Review the y variable Series\n",
    "y.head()"
   ]
  },
  {
   "cell_type": "code",
   "execution_count": 6,
   "id": "5fa0146e",
   "metadata": {},
   "outputs": [
    {
     "data": {
      "text/html": [
       "<div>\n",
       "<style scoped>\n",
       "    .dataframe tbody tr th:only-of-type {\n",
       "        vertical-align: middle;\n",
       "    }\n",
       "\n",
       "    .dataframe tbody tr th {\n",
       "        vertical-align: top;\n",
       "    }\n",
       "\n",
       "    .dataframe thead th {\n",
       "        text-align: right;\n",
       "    }\n",
       "</style>\n",
       "<table border=\"1\" class=\"dataframe\">\n",
       "  <thead>\n",
       "    <tr style=\"text-align: right;\">\n",
       "      <th></th>\n",
       "      <th>Current Loan Amount</th>\n",
       "      <th>Credit Score</th>\n",
       "      <th>Annual Income</th>\n",
       "      <th>Monthly Income</th>\n",
       "      <th>Monthly Debt</th>\n",
       "      <th>Debt / Income Ratio</th>\n",
       "      <th>Credit History(Years)</th>\n",
       "      <th>Months Delinquent</th>\n",
       "      <th>Open Accounts</th>\n",
       "      <th>Credit Problems</th>\n",
       "      <th>Credit Balance</th>\n",
       "      <th>Total Credit</th>\n",
       "      <th>Credit Usage Ratio</th>\n",
       "    </tr>\n",
       "  </thead>\n",
       "  <tbody>\n",
       "    <tr>\n",
       "      <th>0</th>\n",
       "      <td>611314</td>\n",
       "      <td>747.0</td>\n",
       "      <td>2074116.0</td>\n",
       "      <td>172843.00</td>\n",
       "      <td>42000.83</td>\n",
       "      <td>0.243000</td>\n",
       "      <td>21.8</td>\n",
       "      <td>0.0</td>\n",
       "      <td>9</td>\n",
       "      <td>0</td>\n",
       "      <td>621908</td>\n",
       "      <td>1058970</td>\n",
       "      <td>0.587276</td>\n",
       "    </tr>\n",
       "    <tr>\n",
       "      <th>1</th>\n",
       "      <td>266662</td>\n",
       "      <td>734.0</td>\n",
       "      <td>1919190.0</td>\n",
       "      <td>159932.50</td>\n",
       "      <td>36624.40</td>\n",
       "      <td>0.228999</td>\n",
       "      <td>19.4</td>\n",
       "      <td>0.0</td>\n",
       "      <td>11</td>\n",
       "      <td>0</td>\n",
       "      <td>679573</td>\n",
       "      <td>904442</td>\n",
       "      <td>0.751373</td>\n",
       "    </tr>\n",
       "    <tr>\n",
       "      <th>2</th>\n",
       "      <td>153494</td>\n",
       "      <td>709.0</td>\n",
       "      <td>871112.0</td>\n",
       "      <td>72592.67</td>\n",
       "      <td>8391.73</td>\n",
       "      <td>0.115600</td>\n",
       "      <td>12.5</td>\n",
       "      <td>10.0</td>\n",
       "      <td>10</td>\n",
       "      <td>0</td>\n",
       "      <td>38532</td>\n",
       "      <td>388036</td>\n",
       "      <td>0.099300</td>\n",
       "    </tr>\n",
       "    <tr>\n",
       "      <th>3</th>\n",
       "      <td>176242</td>\n",
       "      <td>727.0</td>\n",
       "      <td>780083.0</td>\n",
       "      <td>65006.92</td>\n",
       "      <td>16771.87</td>\n",
       "      <td>0.258001</td>\n",
       "      <td>16.5</td>\n",
       "      <td>27.0</td>\n",
       "      <td>16</td>\n",
       "      <td>1</td>\n",
       "      <td>156940</td>\n",
       "      <td>531322</td>\n",
       "      <td>0.295376</td>\n",
       "    </tr>\n",
       "    <tr>\n",
       "      <th>4</th>\n",
       "      <td>321992</td>\n",
       "      <td>744.0</td>\n",
       "      <td>1761148.0</td>\n",
       "      <td>146762.33</td>\n",
       "      <td>39478.77</td>\n",
       "      <td>0.268998</td>\n",
       "      <td>26.0</td>\n",
       "      <td>44.0</td>\n",
       "      <td>14</td>\n",
       "      <td>0</td>\n",
       "      <td>359765</td>\n",
       "      <td>468072</td>\n",
       "      <td>0.768610</td>\n",
       "    </tr>\n",
       "  </tbody>\n",
       "</table>\n",
       "</div>"
      ],
      "text/plain": [
       "   Current Loan Amount  Credit Score  Annual Income  Monthly Income  \\\n",
       "0               611314         747.0      2074116.0       172843.00   \n",
       "1               266662         734.0      1919190.0       159932.50   \n",
       "2               153494         709.0       871112.0        72592.67   \n",
       "3               176242         727.0       780083.0        65006.92   \n",
       "4               321992         744.0      1761148.0       146762.33   \n",
       "\n",
       "   Monthly Debt  Debt / Income Ratio  Credit History(Years)  \\\n",
       "0      42000.83             0.243000                   21.8   \n",
       "1      36624.40             0.228999                   19.4   \n",
       "2       8391.73             0.115600                   12.5   \n",
       "3      16771.87             0.258001                   16.5   \n",
       "4      39478.77             0.268998                   26.0   \n",
       "\n",
       "   Months Delinquent  Open Accounts  Credit Problems  Credit Balance  \\\n",
       "0                0.0              9                0          621908   \n",
       "1                0.0             11                0          679573   \n",
       "2               10.0             10                0           38532   \n",
       "3               27.0             16                1          156940   \n",
       "4               44.0             14                0          359765   \n",
       "\n",
       "   Total Credit  Credit Usage Ratio  \n",
       "0       1058970            0.587276  \n",
       "1        904442            0.751373  \n",
       "2        388036            0.099300  \n",
       "3        531322            0.295376  \n",
       "4        468072            0.768610  "
      ]
     },
     "execution_count": 6,
     "metadata": {},
     "output_type": "execute_result"
    }
   ],
   "source": [
    "# Review the X variable DataFrame\n",
    "X.head()"
   ]
  },
  {
   "cell_type": "markdown",
   "id": "471cfe1c",
   "metadata": {},
   "source": [
    "### Step 2: Check the balance of the labels variable (y) by using the value_counts function"
   ]
  },
  {
   "cell_type": "code",
   "execution_count": 7,
   "id": "a64dc78c",
   "metadata": {},
   "outputs": [
    {
     "data": {
      "text/plain": [
       "Bankruptcies\n",
       "0.0    8911\n",
       "1.0    1082\n",
       "Name: count, dtype: int64"
      ]
     },
     "execution_count": 7,
     "metadata": {},
     "output_type": "execute_result"
    }
   ],
   "source": [
    "# Check the balance of our target values\n",
    "y.value_counts()"
   ]
  },
  {
   "cell_type": "code",
   "execution_count": 8,
   "id": "148247f8",
   "metadata": {},
   "outputs": [
    {
     "data": {
      "text/plain": [
       "(7494, 13)"
      ]
     },
     "execution_count": 8,
     "metadata": {},
     "output_type": "execute_result"
    }
   ],
   "source": [
    "# Split the data using train_test_split\n",
    "# Assign a random_state of 1 to the function\n",
    "X_train, X_test, y_train, y_test = train_test_split(X, \n",
    "                                                    y, \n",
    "                                                    random_state=1, \n",
    "                                                    stratify=y)\n",
    "X_train.shape"
   ]
  },
  {
   "cell_type": "markdown",
   "id": "0e572c1c",
   "metadata": {},
   "source": [
    "## Create a Logistic Regression Model with the Original Data"
   ]
  },
  {
   "cell_type": "markdown",
   "id": "bf803cd7",
   "metadata": {},
   "source": [
    "### Step 1: Fit a logistic regression model by using the training data (X_train and y_train)"
   ]
  },
  {
   "cell_type": "code",
   "execution_count": 9,
   "id": "b5f69103",
   "metadata": {},
   "outputs": [
    {
     "data": {
      "text/html": [
       "<style>#sk-container-id-1 {color: black;background-color: white;}#sk-container-id-1 pre{padding: 0;}#sk-container-id-1 div.sk-toggleable {background-color: white;}#sk-container-id-1 label.sk-toggleable__label {cursor: pointer;display: block;width: 100%;margin-bottom: 0;padding: 0.3em;box-sizing: border-box;text-align: center;}#sk-container-id-1 label.sk-toggleable__label-arrow:before {content: \"▸\";float: left;margin-right: 0.25em;color: #696969;}#sk-container-id-1 label.sk-toggleable__label-arrow:hover:before {color: black;}#sk-container-id-1 div.sk-estimator:hover label.sk-toggleable__label-arrow:before {color: black;}#sk-container-id-1 div.sk-toggleable__content {max-height: 0;max-width: 0;overflow: hidden;text-align: left;background-color: #f0f8ff;}#sk-container-id-1 div.sk-toggleable__content pre {margin: 0.2em;color: black;border-radius: 0.25em;background-color: #f0f8ff;}#sk-container-id-1 input.sk-toggleable__control:checked~div.sk-toggleable__content {max-height: 200px;max-width: 100%;overflow: auto;}#sk-container-id-1 input.sk-toggleable__control:checked~label.sk-toggleable__label-arrow:before {content: \"▾\";}#sk-container-id-1 div.sk-estimator input.sk-toggleable__control:checked~label.sk-toggleable__label {background-color: #d4ebff;}#sk-container-id-1 div.sk-label input.sk-toggleable__control:checked~label.sk-toggleable__label {background-color: #d4ebff;}#sk-container-id-1 input.sk-hidden--visually {border: 0;clip: rect(1px 1px 1px 1px);clip: rect(1px, 1px, 1px, 1px);height: 1px;margin: -1px;overflow: hidden;padding: 0;position: absolute;width: 1px;}#sk-container-id-1 div.sk-estimator {font-family: monospace;background-color: #f0f8ff;border: 1px dotted black;border-radius: 0.25em;box-sizing: border-box;margin-bottom: 0.5em;}#sk-container-id-1 div.sk-estimator:hover {background-color: #d4ebff;}#sk-container-id-1 div.sk-parallel-item::after {content: \"\";width: 100%;border-bottom: 1px solid gray;flex-grow: 1;}#sk-container-id-1 div.sk-label:hover label.sk-toggleable__label {background-color: #d4ebff;}#sk-container-id-1 div.sk-serial::before {content: \"\";position: absolute;border-left: 1px solid gray;box-sizing: border-box;top: 0;bottom: 0;left: 50%;z-index: 0;}#sk-container-id-1 div.sk-serial {display: flex;flex-direction: column;align-items: center;background-color: white;padding-right: 0.2em;padding-left: 0.2em;position: relative;}#sk-container-id-1 div.sk-item {position: relative;z-index: 1;}#sk-container-id-1 div.sk-parallel {display: flex;align-items: stretch;justify-content: center;background-color: white;position: relative;}#sk-container-id-1 div.sk-item::before, #sk-container-id-1 div.sk-parallel-item::before {content: \"\";position: absolute;border-left: 1px solid gray;box-sizing: border-box;top: 0;bottom: 0;left: 50%;z-index: -1;}#sk-container-id-1 div.sk-parallel-item {display: flex;flex-direction: column;z-index: 1;position: relative;background-color: white;}#sk-container-id-1 div.sk-parallel-item:first-child::after {align-self: flex-end;width: 50%;}#sk-container-id-1 div.sk-parallel-item:last-child::after {align-self: flex-start;width: 50%;}#sk-container-id-1 div.sk-parallel-item:only-child::after {width: 0;}#sk-container-id-1 div.sk-dashed-wrapped {border: 1px dashed gray;margin: 0 0.4em 0.5em 0.4em;box-sizing: border-box;padding-bottom: 0.4em;background-color: white;}#sk-container-id-1 div.sk-label label {font-family: monospace;font-weight: bold;display: inline-block;line-height: 1.2em;}#sk-container-id-1 div.sk-label-container {text-align: center;}#sk-container-id-1 div.sk-container {/* jupyter's `normalize.less` sets `[hidden] { display: none; }` but bootstrap.min.css set `[hidden] { display: none !important; }` so we also need the `!important` here to be able to override the default hidden behavior on the sphinx rendered scikit-learn.org. See: https://github.com/scikit-learn/scikit-learn/issues/21755 */display: inline-block !important;position: relative;}#sk-container-id-1 div.sk-text-repr-fallback {display: none;}</style><div id=\"sk-container-id-1\" class=\"sk-top-container\"><div class=\"sk-text-repr-fallback\"><pre>LogisticRegression(max_iter=200, random_state=1)</pre><b>In a Jupyter environment, please rerun this cell to show the HTML representation or trust the notebook. <br />On GitHub, the HTML representation is unable to render, please try loading this page with nbviewer.org.</b></div><div class=\"sk-container\" hidden><div class=\"sk-item\"><div class=\"sk-estimator sk-toggleable\"><input class=\"sk-toggleable__control sk-hidden--visually\" id=\"sk-estimator-id-1\" type=\"checkbox\" checked><label for=\"sk-estimator-id-1\" class=\"sk-toggleable__label sk-toggleable__label-arrow\">LogisticRegression</label><div class=\"sk-toggleable__content\"><pre>LogisticRegression(max_iter=200, random_state=1)</pre></div></div></div></div></div>"
      ],
      "text/plain": [
       "LogisticRegression(max_iter=200, random_state=1)"
      ]
     },
     "execution_count": 9,
     "metadata": {},
     "output_type": "execute_result"
    }
   ],
   "source": [
    "# Instantiate the Logistic Regression model\n",
    "Log_Reg_Model = LogisticRegression(solver='lbfgs',\n",
    "                                max_iter=200,\n",
    "                                random_state=1)\n",
    "Log_Reg_Model"
   ]
  },
  {
   "cell_type": "code",
   "execution_count": 10,
   "id": "864e6b08",
   "metadata": {},
   "outputs": [
    {
     "data": {
      "text/html": [
       "<style>#sk-container-id-2 {color: black;background-color: white;}#sk-container-id-2 pre{padding: 0;}#sk-container-id-2 div.sk-toggleable {background-color: white;}#sk-container-id-2 label.sk-toggleable__label {cursor: pointer;display: block;width: 100%;margin-bottom: 0;padding: 0.3em;box-sizing: border-box;text-align: center;}#sk-container-id-2 label.sk-toggleable__label-arrow:before {content: \"▸\";float: left;margin-right: 0.25em;color: #696969;}#sk-container-id-2 label.sk-toggleable__label-arrow:hover:before {color: black;}#sk-container-id-2 div.sk-estimator:hover label.sk-toggleable__label-arrow:before {color: black;}#sk-container-id-2 div.sk-toggleable__content {max-height: 0;max-width: 0;overflow: hidden;text-align: left;background-color: #f0f8ff;}#sk-container-id-2 div.sk-toggleable__content pre {margin: 0.2em;color: black;border-radius: 0.25em;background-color: #f0f8ff;}#sk-container-id-2 input.sk-toggleable__control:checked~div.sk-toggleable__content {max-height: 200px;max-width: 100%;overflow: auto;}#sk-container-id-2 input.sk-toggleable__control:checked~label.sk-toggleable__label-arrow:before {content: \"▾\";}#sk-container-id-2 div.sk-estimator input.sk-toggleable__control:checked~label.sk-toggleable__label {background-color: #d4ebff;}#sk-container-id-2 div.sk-label input.sk-toggleable__control:checked~label.sk-toggleable__label {background-color: #d4ebff;}#sk-container-id-2 input.sk-hidden--visually {border: 0;clip: rect(1px 1px 1px 1px);clip: rect(1px, 1px, 1px, 1px);height: 1px;margin: -1px;overflow: hidden;padding: 0;position: absolute;width: 1px;}#sk-container-id-2 div.sk-estimator {font-family: monospace;background-color: #f0f8ff;border: 1px dotted black;border-radius: 0.25em;box-sizing: border-box;margin-bottom: 0.5em;}#sk-container-id-2 div.sk-estimator:hover {background-color: #d4ebff;}#sk-container-id-2 div.sk-parallel-item::after {content: \"\";width: 100%;border-bottom: 1px solid gray;flex-grow: 1;}#sk-container-id-2 div.sk-label:hover label.sk-toggleable__label {background-color: #d4ebff;}#sk-container-id-2 div.sk-serial::before {content: \"\";position: absolute;border-left: 1px solid gray;box-sizing: border-box;top: 0;bottom: 0;left: 50%;z-index: 0;}#sk-container-id-2 div.sk-serial {display: flex;flex-direction: column;align-items: center;background-color: white;padding-right: 0.2em;padding-left: 0.2em;position: relative;}#sk-container-id-2 div.sk-item {position: relative;z-index: 1;}#sk-container-id-2 div.sk-parallel {display: flex;align-items: stretch;justify-content: center;background-color: white;position: relative;}#sk-container-id-2 div.sk-item::before, #sk-container-id-2 div.sk-parallel-item::before {content: \"\";position: absolute;border-left: 1px solid gray;box-sizing: border-box;top: 0;bottom: 0;left: 50%;z-index: -1;}#sk-container-id-2 div.sk-parallel-item {display: flex;flex-direction: column;z-index: 1;position: relative;background-color: white;}#sk-container-id-2 div.sk-parallel-item:first-child::after {align-self: flex-end;width: 50%;}#sk-container-id-2 div.sk-parallel-item:last-child::after {align-self: flex-start;width: 50%;}#sk-container-id-2 div.sk-parallel-item:only-child::after {width: 0;}#sk-container-id-2 div.sk-dashed-wrapped {border: 1px dashed gray;margin: 0 0.4em 0.5em 0.4em;box-sizing: border-box;padding-bottom: 0.4em;background-color: white;}#sk-container-id-2 div.sk-label label {font-family: monospace;font-weight: bold;display: inline-block;line-height: 1.2em;}#sk-container-id-2 div.sk-label-container {text-align: center;}#sk-container-id-2 div.sk-container {/* jupyter's `normalize.less` sets `[hidden] { display: none; }` but bootstrap.min.css set `[hidden] { display: none !important; }` so we also need the `!important` here to be able to override the default hidden behavior on the sphinx rendered scikit-learn.org. See: https://github.com/scikit-learn/scikit-learn/issues/21755 */display: inline-block !important;position: relative;}#sk-container-id-2 div.sk-text-repr-fallback {display: none;}</style><div id=\"sk-container-id-2\" class=\"sk-top-container\"><div class=\"sk-text-repr-fallback\"><pre>LogisticRegression(max_iter=200, random_state=1)</pre><b>In a Jupyter environment, please rerun this cell to show the HTML representation or trust the notebook. <br />On GitHub, the HTML representation is unable to render, please try loading this page with nbviewer.org.</b></div><div class=\"sk-container\" hidden><div class=\"sk-item\"><div class=\"sk-estimator sk-toggleable\"><input class=\"sk-toggleable__control sk-hidden--visually\" id=\"sk-estimator-id-2\" type=\"checkbox\" checked><label for=\"sk-estimator-id-2\" class=\"sk-toggleable__label sk-toggleable__label-arrow\">LogisticRegression</label><div class=\"sk-toggleable__content\"><pre>LogisticRegression(max_iter=200, random_state=1)</pre></div></div></div></div></div>"
      ],
      "text/plain": [
       "LogisticRegression(max_iter=200, random_state=1)"
      ]
     },
     "execution_count": 10,
     "metadata": {},
     "output_type": "execute_result"
    }
   ],
   "source": [
    "# Fit the model using training data\n",
    "Log_Reg_Model.fit(X_train, y_train)"
   ]
  },
  {
   "cell_type": "markdown",
   "id": "ee7eec88",
   "metadata": {},
   "source": [
    "### Step 2: Save the predictions on the testing data labels by using the testing feature data (X_test) and the fitted model."
   ]
  },
  {
   "cell_type": "code",
   "execution_count": 11,
   "id": "e7a2ba50",
   "metadata": {},
   "outputs": [
    {
     "data": {
      "text/html": [
       "<div>\n",
       "<style scoped>\n",
       "    .dataframe tbody tr th:only-of-type {\n",
       "        vertical-align: middle;\n",
       "    }\n",
       "\n",
       "    .dataframe tbody tr th {\n",
       "        vertical-align: top;\n",
       "    }\n",
       "\n",
       "    .dataframe thead th {\n",
       "        text-align: right;\n",
       "    }\n",
       "</style>\n",
       "<table border=\"1\" class=\"dataframe\">\n",
       "  <thead>\n",
       "    <tr style=\"text-align: right;\">\n",
       "      <th></th>\n",
       "      <th>Prediction</th>\n",
       "      <th>Actual</th>\n",
       "    </tr>\n",
       "  </thead>\n",
       "  <tbody>\n",
       "    <tr>\n",
       "      <th>0</th>\n",
       "      <td>0.0</td>\n",
       "      <td>1.0</td>\n",
       "    </tr>\n",
       "    <tr>\n",
       "      <th>1</th>\n",
       "      <td>0.0</td>\n",
       "      <td>0.0</td>\n",
       "    </tr>\n",
       "    <tr>\n",
       "      <th>2</th>\n",
       "      <td>0.0</td>\n",
       "      <td>0.0</td>\n",
       "    </tr>\n",
       "    <tr>\n",
       "      <th>3</th>\n",
       "      <td>0.0</td>\n",
       "      <td>0.0</td>\n",
       "    </tr>\n",
       "    <tr>\n",
       "      <th>4</th>\n",
       "      <td>0.0</td>\n",
       "      <td>0.0</td>\n",
       "    </tr>\n",
       "    <tr>\n",
       "      <th>5</th>\n",
       "      <td>0.0</td>\n",
       "      <td>1.0</td>\n",
       "    </tr>\n",
       "    <tr>\n",
       "      <th>6</th>\n",
       "      <td>0.0</td>\n",
       "      <td>0.0</td>\n",
       "    </tr>\n",
       "    <tr>\n",
       "      <th>7</th>\n",
       "      <td>0.0</td>\n",
       "      <td>1.0</td>\n",
       "    </tr>\n",
       "    <tr>\n",
       "      <th>8</th>\n",
       "      <td>0.0</td>\n",
       "      <td>0.0</td>\n",
       "    </tr>\n",
       "    <tr>\n",
       "      <th>9</th>\n",
       "      <td>0.0</td>\n",
       "      <td>0.0</td>\n",
       "    </tr>\n",
       "  </tbody>\n",
       "</table>\n",
       "</div>"
      ],
      "text/plain": [
       "   Prediction  Actual\n",
       "0         0.0     1.0\n",
       "1         0.0     0.0\n",
       "2         0.0     0.0\n",
       "3         0.0     0.0\n",
       "4         0.0     0.0\n",
       "5         0.0     1.0\n",
       "6         0.0     0.0\n",
       "7         0.0     1.0\n",
       "8         0.0     0.0\n",
       "9         0.0     0.0"
      ]
     },
     "execution_count": 11,
     "metadata": {},
     "output_type": "execute_result"
    }
   ],
   "source": [
    "# Make a prediction using the testing data\n",
    "testing_data_predictions = Log_Reg_Model.predict(X_test)\n",
    "testing_data_results = pd.DataFrame({\"Prediction\": testing_data_predictions, \"Actual\": y_test}).reset_index(drop=True)\n",
    "testing_data_results.head(10)"
   ]
  },
  {
   "cell_type": "markdown",
   "id": "2cb2396c",
   "metadata": {},
   "source": [
    "### Step 3: Evaluate the model’s performance by doing the following:\n",
    "Calculate the accuracy score of the model.\n",
    "\n",
    "Generate a confusion matrix.\n",
    "\n",
    "Print the classification report."
   ]
  },
  {
   "cell_type": "code",
   "execution_count": 12,
   "id": "4bfb7a40",
   "metadata": {},
   "outputs": [
    {
     "name": "stdout",
     "output_type": "stream",
     "text": [
      "Testing Data Accuracy Score: 0.8915566226490597\n"
     ]
    }
   ],
   "source": [
    "# Grabbing the accuracy score for the test dataset.\n",
    "testing_data_accuracy_score = accuracy_score(y_test, testing_data_predictions)\n",
    "\n",
    "# Displaying the accuracy score for the test dataset.\n",
    "print(f\"Testing Data Accuracy Score: {testing_data_accuracy_score}\")"
   ]
  },
  {
   "cell_type": "code",
   "execution_count": 13,
   "id": "e97d1ae0",
   "metadata": {},
   "outputs": [
    {
     "data": {
      "text/plain": [
       "array([[2228,    0],\n",
       "       [ 271,    0]], dtype=int64)"
      ]
     },
     "execution_count": 13,
     "metadata": {},
     "output_type": "execute_result"
    }
   ],
   "source": [
    "# Generate a confusion matrix for the model\n",
    "confusion_matrix(y_test, testing_data_predictions)"
   ]
  },
  {
   "cell_type": "code",
   "execution_count": 14,
   "id": "b965aa94",
   "metadata": {},
   "outputs": [
    {
     "name": "stdout",
     "output_type": "stream",
     "text": [
      "                    precision    recall  f1-score   support\n",
      "\n",
      "    Loan Defaulted       0.89      1.00      0.94      2228\n",
      "Loan Not Defaulted       0.00      0.00      0.00       271\n",
      "\n",
      "          accuracy                           0.89      2499\n",
      "         macro avg       0.45      0.50      0.47      2499\n",
      "      weighted avg       0.79      0.89      0.84      2499\n",
      "\n"
     ]
    },
    {
     "name": "stderr",
     "output_type": "stream",
     "text": [
      "C:\\Users\\Cody\\anaconda3\\envs\\dev\\lib\\site-packages\\sklearn\\metrics\\_classification.py:1344: UndefinedMetricWarning: Precision and F-score are ill-defined and being set to 0.0 in labels with no predicted samples. Use `zero_division` parameter to control this behavior.\n",
      "  _warn_prf(average, modifier, msg_start, len(result))\n",
      "C:\\Users\\Cody\\anaconda3\\envs\\dev\\lib\\site-packages\\sklearn\\metrics\\_classification.py:1344: UndefinedMetricWarning: Precision and F-score are ill-defined and being set to 0.0 in labels with no predicted samples. Use `zero_division` parameter to control this behavior.\n",
      "  _warn_prf(average, modifier, msg_start, len(result))\n",
      "C:\\Users\\Cody\\anaconda3\\envs\\dev\\lib\\site-packages\\sklearn\\metrics\\_classification.py:1344: UndefinedMetricWarning: Precision and F-score are ill-defined and being set to 0.0 in labels with no predicted samples. Use `zero_division` parameter to control this behavior.\n",
      "  _warn_prf(average, modifier, msg_start, len(result))\n"
     ]
    }
   ],
   "source": [
    "# Printing Classification Report\n",
    "target_names = [\"Loan Defaulted\", \"Loan Not Defaulted\"]\n",
    "print(classification_report(y_test, testing_data_predictions, target_names=target_names))"
   ]
  },
  {
   "cell_type": "code",
   "execution_count": null,
   "id": "ae7d5f3b",
   "metadata": {},
   "outputs": [],
   "source": []
  }
 ],
 "metadata": {
  "kernelspec": {
   "display_name": "Python 3 (ipykernel)",
   "language": "python",
   "name": "python3"
  },
  "language_info": {
   "codemirror_mode": {
    "name": "ipython",
    "version": 3
   },
   "file_extension": ".py",
   "mimetype": "text/x-python",
   "name": "python",
   "nbconvert_exporter": "python",
   "pygments_lexer": "ipython3",
   "version": "3.10.10"
  }
 },
 "nbformat": 4,
 "nbformat_minor": 5
}
