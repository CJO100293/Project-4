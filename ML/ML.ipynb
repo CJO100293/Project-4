{
 "cells": [
  {
   "cell_type": "code",
   "execution_count": 1,
   "id": "055b5e52",
   "metadata": {},
   "outputs": [],
   "source": [
    "# Install the needed dependencies\n",
    "import sys\n",
    "#!{sys.executable} -m pip install imblearn"
   ]
  },
  {
   "cell_type": "code",
   "execution_count": 2,
   "id": "e0d5d114",
   "metadata": {},
   "outputs": [],
   "source": [
    "# Import the modules\n",
    "from warnings import simplefilter\n",
    "simplefilter(action='ignore', category=FutureWarning)\n",
    "import numpy as np\n",
    "import pandas as pd\n",
    "from pathlib import Path\n",
    "from sklearn.metrics import balanced_accuracy_score, confusion_matrix, classification_report\n",
    "from sklearn.utils.validation import check_array\n",
    "from sklearn.metrics import accuracy_score\n",
    "from sklearn.metrics import precision_score\n",
    "from sklearn.metrics import recall_score\n",
    "from pymongo import MongoClient\n",
    "from pprint import pprint"
   ]
  },
  {
   "cell_type": "code",
   "execution_count": 3,
   "id": "e6b43c0f",
   "metadata": {},
   "outputs": [],
   "source": [
    "# Create an instance of MongoClient\n",
    "mongo = MongoClient(port=27017)"
   ]
  },
  {
   "cell_type": "code",
   "execution_count": 4,
   "id": "837188d9",
   "metadata": {},
   "outputs": [],
   "source": [
    "# assign the uk_food database to a variable name\n",
    "db = mongo['credit_data']"
   ]
  },
  {
   "cell_type": "code",
   "execution_count": 5,
   "id": "39013aec",
   "metadata": {},
   "outputs": [
    {
     "name": "stdout",
     "output_type": "stream",
     "text": [
      "['ETL_credit_data']\n"
     ]
    }
   ],
   "source": [
    "# review the collections in our database\n",
    "print(db.list_collection_names())"
   ]
  },
  {
   "cell_type": "code",
   "execution_count": 6,
   "id": "657ecc3b",
   "metadata": {},
   "outputs": [],
   "source": [
    "# assign the collection to a variable\n",
    "credits = db['ETL_credit_data']"
   ]
  },
  {
   "cell_type": "code",
   "execution_count": 7,
   "id": "2f1702a9",
   "metadata": {},
   "outputs": [
    {
     "data": {
      "text/html": [
       "<div>\n",
       "<style scoped>\n",
       "    .dataframe tbody tr th:only-of-type {\n",
       "        vertical-align: middle;\n",
       "    }\n",
       "\n",
       "    .dataframe tbody tr th {\n",
       "        vertical-align: top;\n",
       "    }\n",
       "\n",
       "    .dataframe thead th {\n",
       "        text-align: right;\n",
       "    }\n",
       "</style>\n",
       "<table border=\"1\" class=\"dataframe\">\n",
       "  <thead>\n",
       "    <tr style=\"text-align: right;\">\n",
       "      <th></th>\n",
       "      <th>Current Loan Amount</th>\n",
       "      <th>Credit Score</th>\n",
       "      <th>Annual Income</th>\n",
       "      <th>Monthly Income</th>\n",
       "      <th>Monthly Debt</th>\n",
       "      <th>Debt / Income Ratio</th>\n",
       "      <th>Credit History(Years)</th>\n",
       "      <th>Months Delinquent</th>\n",
       "      <th>Open Accounts</th>\n",
       "      <th>Credit Problems</th>\n",
       "      <th>Credit Balance</th>\n",
       "      <th>Total Credit</th>\n",
       "      <th>Credit Usage Ratio</th>\n",
       "      <th>Bankruptcies</th>\n",
       "      <th>Loan Purpose</th>\n",
       "    </tr>\n",
       "  </thead>\n",
       "  <tbody>\n",
       "  </tbody>\n",
       "</table>\n",
       "</div>"
      ],
      "text/plain": [
       "Empty DataFrame\n",
       "Columns: [Current Loan Amount, Credit Score, Annual Income, Monthly Income, Monthly Debt, Debt / Income Ratio, Credit History(Years), Months Delinquent, Open Accounts, Credit Problems, Credit Balance, Total Credit, Credit Usage Ratio, Bankruptcies, Loan Purpose]\n",
       "Index: []"
      ]
     },
     "execution_count": 7,
     "metadata": {},
     "output_type": "execute_result"
    }
   ],
   "source": [
    "# Create lists to store the data\n",
    "Current_Loan_Amount = []\n",
    "Credit_Score = []\n",
    "Annual_Income = []\n",
    "Monthly_Income = []\n",
    "Monthly_Debt = []\n",
    "Debt_Income_Ratio = []\n",
    "Credit_History = []\n",
    "Months_Delinquent = []\n",
    "Open_Accounts = []\n",
    "Credit_Problems = []\n",
    "Credit_Balance = []\n",
    "Total_Credit = []\n",
    "Credit_Usage_Ratio = []\n",
    "Bankruptcies = []\n",
    "Loan_Purpose = []\n",
    "\n",
    "# for loop to extract the data from 'credits[\"ETL_credit_data\"]'\n",
    "for credit in credits[\"ETL_credit_data\"].find():\n",
    "    Current_Loan_Amount.append(credit['Current Loan Amount'])\n",
    "    Credit_Score.append(credit['Credit Score'])\n",
    "    Annual_Income.append(credit['Annual Income'])\n",
    "    Monthly_Income.append(credit['Monthly Income'])\n",
    "    Monthly_Debt.append(credit['Monthly Debt'])\n",
    "    Debt_Income_Ratio.append(credit['Debt / Income Ratio'])\n",
    "    Credit_History.append(credit['Credit History'])\n",
    "    Months_Delinquent.append(credit['Months Delinquent'])\n",
    "    Open_Accounts.append(credit['Open Accounts'])\n",
    "    Credit_Problems.append(credit['Credit Problems'])\n",
    "    Credit_Balance.append(credit['Credit Balance'])\n",
    "    Total_Credit.append(credit['Total Credit'])\n",
    "    Credit_Usage_Ratio.append(credit['Credit Usage Ratio'])\n",
    "    Bankruptcies.append(credit['Bankruptcies'])\n",
    "    Loan_Purpose.append(credit['Loan Purpose'])\n",
    "    \n",
    "# Create the DataFrame\n",
    "ETL_credit_data = pd.DataFrame({\n",
    "    \"Current Loan Amount\": Current_Loan_Amount,\n",
    "    \"Credit Score\": Credit_Score,\n",
    "    \"Annual Income\": Annual_Income,\n",
    "    \"Monthly Income\": Monthly_Income,\n",
    "    \"Monthly Debt\": Monthly_Debt,\n",
    "    \"Debt / Income Ratio\": Debt_Income_Ratio,\n",
    "    \"Credit History(Years)\": Credit_History,\n",
    "    \"Months Delinquent\": Months_Delinquent,\n",
    "    \"Open Accounts\": Open_Accounts,\n",
    "    \"Credit Problems\": Credit_Problems,\n",
    "    \"Credit Balance\": Credit_Balance,\n",
    "    \"Total Credit\": Total_Credit,\n",
    "    \"Credit Usage Ratio\": Credit_Usage_Ratio,\n",
    "    \"Bankruptcies\": Bankruptcies,\n",
    "    \"Loan Purpose\": Loan_Purpose\n",
    "})\n",
    "\n",
    "# Display Dataframe\n",
    "ETL_credit_data"
   ]
  },
  {
   "cell_type": "code",
   "execution_count": null,
   "id": "292e983c",
   "metadata": {},
   "outputs": [],
   "source": []
  }
 ],
 "metadata": {
  "kernelspec": {
   "display_name": "Python 3 (ipykernel)",
   "language": "python",
   "name": "python3"
  },
  "language_info": {
   "codemirror_mode": {
    "name": "ipython",
    "version": 3
   },
   "file_extension": ".py",
   "mimetype": "text/x-python",
   "name": "python",
   "nbconvert_exporter": "python",
   "pygments_lexer": "ipython3",
   "version": "3.10.10"
  }
 },
 "nbformat": 4,
 "nbformat_minor": 5
}
