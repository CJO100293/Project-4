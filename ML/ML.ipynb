{
 "cells": [
  {
   "cell_type": "code",
   "execution_count": 1,
   "id": "055b5e52",
   "metadata": {},
   "outputs": [
    {
     "name": "stdout",
     "output_type": "stream",
     "text": [
      "Requirement already satisfied: imblearn in c:\\users\\cody\\anaconda3\\envs\\dev\\lib\\site-packages (0.0)\n",
      "Requirement already satisfied: imbalanced-learn in c:\\users\\cody\\anaconda3\\envs\\dev\\lib\\site-packages (from imblearn) (0.11.0)\n",
      "Requirement already satisfied: numpy>=1.17.3 in c:\\users\\cody\\anaconda3\\envs\\dev\\lib\\site-packages (from imbalanced-learn->imblearn) (1.24.3)\n",
      "Requirement already satisfied: scipy>=1.5.0 in c:\\users\\cody\\anaconda3\\envs\\dev\\lib\\site-packages (from imbalanced-learn->imblearn) (1.11.1)\n",
      "Requirement already satisfied: scikit-learn>=1.0.2 in c:\\users\\cody\\anaconda3\\envs\\dev\\lib\\site-packages (from imbalanced-learn->imblearn) (1.2.2)\n",
      "Requirement already satisfied: joblib>=1.1.1 in c:\\users\\cody\\anaconda3\\envs\\dev\\lib\\site-packages (from imbalanced-learn->imblearn) (1.1.1)\n",
      "Requirement already satisfied: threadpoolctl>=2.0.0 in c:\\users\\cody\\anaconda3\\envs\\dev\\lib\\site-packages (from imbalanced-learn->imblearn) (2.2.0)\n"
     ]
    }
   ],
   "source": [
    "# Installing the needed dependencies\n",
    "import sys\n",
    "!{sys.executable} -m pip install imblearn"
   ]
  },
  {
   "cell_type": "code",
   "execution_count": 2,
   "id": "0eb72b7e",
   "metadata": {},
   "outputs": [],
   "source": [
    "# Importing the Needed Dependencies\n",
    "from warnings import simplefilter\n",
    "simplefilter(action='ignore', category=FutureWarning)\n",
    "import numpy as np\n",
    "import pandas as pd\n",
    "from pathlib import Path\n",
    "from sklearn.metrics import balanced_accuracy_score, confusion_matrix, classification_report\n",
    "from sklearn.utils.validation import check_array\n",
    "from sklearn.metrics import accuracy_score\n",
    "from sklearn.metrics import precision_score\n",
    "from sklearn.metrics import recall_score\n",
    "from sklearn.model_selection import train_test_split\n",
    "from sklearn.linear_model import LogisticRegression\n",
    "from sklearn.ensemble import RandomForestClassifier\n",
    "from sklearn.preprocessing import StandardScaler\n",
    "from imblearn.over_sampling import RandomOverSampler\n",
    "import tensorflow as tf\n",
    "from pprint import pprint\n",
    "import csv"
   ]
  },
  {
   "cell_type": "markdown",
   "id": "cb0bed7d",
   "metadata": {},
   "source": [
    "# Creating Model To Train Data Using Logistic Regression Algorithm"
   ]
  },
  {
   "cell_type": "markdown",
   "id": "e4050dd4",
   "metadata": {},
   "source": [
    "### Loading \"ETL_credit_data.csv\" Into Dataframe"
   ]
  },
  {
   "cell_type": "code",
   "execution_count": 3,
   "id": "79176fa4",
   "metadata": {},
   "outputs": [
    {
     "data": {
      "text/html": [
       "<div>\n",
       "<style scoped>\n",
       "    .dataframe tbody tr th:only-of-type {\n",
       "        vertical-align: middle;\n",
       "    }\n",
       "\n",
       "    .dataframe tbody tr th {\n",
       "        vertical-align: top;\n",
       "    }\n",
       "\n",
       "    .dataframe thead th {\n",
       "        text-align: right;\n",
       "    }\n",
       "</style>\n",
       "<table border=\"1\" class=\"dataframe\">\n",
       "  <thead>\n",
       "    <tr style=\"text-align: right;\">\n",
       "      <th></th>\n",
       "      <th>Current Loan Amount</th>\n",
       "      <th>Credit Score</th>\n",
       "      <th>Annual Income</th>\n",
       "      <th>Monthly Income</th>\n",
       "      <th>Monthly Debt</th>\n",
       "      <th>Debt / Income Ratio</th>\n",
       "      <th>Credit History(Years)</th>\n",
       "      <th>Months Delinquent</th>\n",
       "      <th>Open Accounts</th>\n",
       "      <th>Credit Problems</th>\n",
       "      <th>Credit Balance</th>\n",
       "      <th>Total Credit</th>\n",
       "      <th>Credit Usage Ratio</th>\n",
       "      <th>Bankruptcies</th>\n",
       "    </tr>\n",
       "  </thead>\n",
       "  <tbody>\n",
       "    <tr>\n",
       "      <th>0</th>\n",
       "      <td>611314</td>\n",
       "      <td>747.0</td>\n",
       "      <td>2074116.0</td>\n",
       "      <td>172843.00</td>\n",
       "      <td>42000.83</td>\n",
       "      <td>0.243000</td>\n",
       "      <td>21.8</td>\n",
       "      <td>0.0</td>\n",
       "      <td>9</td>\n",
       "      <td>0</td>\n",
       "      <td>621908</td>\n",
       "      <td>1058970</td>\n",
       "      <td>0.587276</td>\n",
       "      <td>0.0</td>\n",
       "    </tr>\n",
       "    <tr>\n",
       "      <th>1</th>\n",
       "      <td>266662</td>\n",
       "      <td>734.0</td>\n",
       "      <td>1919190.0</td>\n",
       "      <td>159932.50</td>\n",
       "      <td>36624.40</td>\n",
       "      <td>0.228999</td>\n",
       "      <td>19.4</td>\n",
       "      <td>0.0</td>\n",
       "      <td>11</td>\n",
       "      <td>0</td>\n",
       "      <td>679573</td>\n",
       "      <td>904442</td>\n",
       "      <td>0.751373</td>\n",
       "      <td>0.0</td>\n",
       "    </tr>\n",
       "    <tr>\n",
       "      <th>2</th>\n",
       "      <td>153494</td>\n",
       "      <td>709.0</td>\n",
       "      <td>871112.0</td>\n",
       "      <td>72592.67</td>\n",
       "      <td>8391.73</td>\n",
       "      <td>0.115600</td>\n",
       "      <td>12.5</td>\n",
       "      <td>10.0</td>\n",
       "      <td>10</td>\n",
       "      <td>0</td>\n",
       "      <td>38532</td>\n",
       "      <td>388036</td>\n",
       "      <td>0.099300</td>\n",
       "      <td>0.0</td>\n",
       "    </tr>\n",
       "    <tr>\n",
       "      <th>3</th>\n",
       "      <td>176242</td>\n",
       "      <td>727.0</td>\n",
       "      <td>780083.0</td>\n",
       "      <td>65006.92</td>\n",
       "      <td>16771.87</td>\n",
       "      <td>0.258001</td>\n",
       "      <td>16.5</td>\n",
       "      <td>27.0</td>\n",
       "      <td>16</td>\n",
       "      <td>1</td>\n",
       "      <td>156940</td>\n",
       "      <td>531322</td>\n",
       "      <td>0.295376</td>\n",
       "      <td>1.0</td>\n",
       "    </tr>\n",
       "    <tr>\n",
       "      <th>4</th>\n",
       "      <td>321992</td>\n",
       "      <td>744.0</td>\n",
       "      <td>1761148.0</td>\n",
       "      <td>146762.33</td>\n",
       "      <td>39478.77</td>\n",
       "      <td>0.268998</td>\n",
       "      <td>26.0</td>\n",
       "      <td>44.0</td>\n",
       "      <td>14</td>\n",
       "      <td>0</td>\n",
       "      <td>359765</td>\n",
       "      <td>468072</td>\n",
       "      <td>0.768610</td>\n",
       "      <td>0.0</td>\n",
       "    </tr>\n",
       "  </tbody>\n",
       "</table>\n",
       "</div>"
      ],
      "text/plain": [
       "   Current Loan Amount  Credit Score  Annual Income  Monthly Income  \\\n",
       "0               611314         747.0      2074116.0       172843.00   \n",
       "1               266662         734.0      1919190.0       159932.50   \n",
       "2               153494         709.0       871112.0        72592.67   \n",
       "3               176242         727.0       780083.0        65006.92   \n",
       "4               321992         744.0      1761148.0       146762.33   \n",
       "\n",
       "   Monthly Debt  Debt / Income Ratio  Credit History(Years)  \\\n",
       "0      42000.83             0.243000                   21.8   \n",
       "1      36624.40             0.228999                   19.4   \n",
       "2       8391.73             0.115600                   12.5   \n",
       "3      16771.87             0.258001                   16.5   \n",
       "4      39478.77             0.268998                   26.0   \n",
       "\n",
       "   Months Delinquent  Open Accounts  Credit Problems  Credit Balance  \\\n",
       "0                0.0              9                0          621908   \n",
       "1                0.0             11                0          679573   \n",
       "2               10.0             10                0           38532   \n",
       "3               27.0             16                1          156940   \n",
       "4               44.0             14                0          359765   \n",
       "\n",
       "   Total Credit  Credit Usage Ratio  Bankruptcies  \n",
       "0       1058970            0.587276           0.0  \n",
       "1        904442            0.751373           0.0  \n",
       "2        388036            0.099300           0.0  \n",
       "3        531322            0.295376           1.0  \n",
       "4        468072            0.768610           0.0  "
      ]
     },
     "execution_count": 3,
     "metadata": {},
     "output_type": "execute_result"
    }
   ],
   "source": [
    "# Create reference to CSV file\n",
    "LR_csv_path = Path(\"../output_data/ETL/csv/ETL_credit_data.csv\")\n",
    "\n",
    "# Import the CSV into a pandas DataFrame\n",
    "LR_credit_data_df = pd.read_csv(LR_csv_path)\n",
    "\n",
    "# Display dataframe\n",
    "LR_credit_data_df.head()"
   ]
  },
  {
   "cell_type": "markdown",
   "id": "de0143d4",
   "metadata": {},
   "source": [
    "### Create the labels set (`y`)  from the “loan_status” column, and then create the features (`X`) DataFrame from the remaining columns."
   ]
  },
  {
   "cell_type": "code",
   "execution_count": 4,
   "id": "8d2551fa",
   "metadata": {},
   "outputs": [],
   "source": [
    "# Separate the data into labels and features\n",
    "# Separate the y variable, the labels\n",
    "LR_y = LR_credit_data_df['Bankruptcies']\n",
    "\n",
    "# Separate the X variable, the features\n",
    "LR_X = LR_credit_data_df.drop(columns='Bankruptcies')"
   ]
  },
  {
   "cell_type": "code",
   "execution_count": 5,
   "id": "04f96574",
   "metadata": {},
   "outputs": [
    {
     "data": {
      "text/plain": [
       "0    0.0\n",
       "1    0.0\n",
       "2    0.0\n",
       "3    1.0\n",
       "4    0.0\n",
       "Name: Bankruptcies, dtype: float64"
      ]
     },
     "execution_count": 5,
     "metadata": {},
     "output_type": "execute_result"
    }
   ],
   "source": [
    "# Review the y variable Series\n",
    "LR_y.head()"
   ]
  },
  {
   "cell_type": "code",
   "execution_count": 6,
   "id": "69b6f423",
   "metadata": {},
   "outputs": [
    {
     "data": {
      "text/html": [
       "<div>\n",
       "<style scoped>\n",
       "    .dataframe tbody tr th:only-of-type {\n",
       "        vertical-align: middle;\n",
       "    }\n",
       "\n",
       "    .dataframe tbody tr th {\n",
       "        vertical-align: top;\n",
       "    }\n",
       "\n",
       "    .dataframe thead th {\n",
       "        text-align: right;\n",
       "    }\n",
       "</style>\n",
       "<table border=\"1\" class=\"dataframe\">\n",
       "  <thead>\n",
       "    <tr style=\"text-align: right;\">\n",
       "      <th></th>\n",
       "      <th>Current Loan Amount</th>\n",
       "      <th>Credit Score</th>\n",
       "      <th>Annual Income</th>\n",
       "      <th>Monthly Income</th>\n",
       "      <th>Monthly Debt</th>\n",
       "      <th>Debt / Income Ratio</th>\n",
       "      <th>Credit History(Years)</th>\n",
       "      <th>Months Delinquent</th>\n",
       "      <th>Open Accounts</th>\n",
       "      <th>Credit Problems</th>\n",
       "      <th>Credit Balance</th>\n",
       "      <th>Total Credit</th>\n",
       "      <th>Credit Usage Ratio</th>\n",
       "    </tr>\n",
       "  </thead>\n",
       "  <tbody>\n",
       "    <tr>\n",
       "      <th>0</th>\n",
       "      <td>611314</td>\n",
       "      <td>747.0</td>\n",
       "      <td>2074116.0</td>\n",
       "      <td>172843.00</td>\n",
       "      <td>42000.83</td>\n",
       "      <td>0.243000</td>\n",
       "      <td>21.8</td>\n",
       "      <td>0.0</td>\n",
       "      <td>9</td>\n",
       "      <td>0</td>\n",
       "      <td>621908</td>\n",
       "      <td>1058970</td>\n",
       "      <td>0.587276</td>\n",
       "    </tr>\n",
       "    <tr>\n",
       "      <th>1</th>\n",
       "      <td>266662</td>\n",
       "      <td>734.0</td>\n",
       "      <td>1919190.0</td>\n",
       "      <td>159932.50</td>\n",
       "      <td>36624.40</td>\n",
       "      <td>0.228999</td>\n",
       "      <td>19.4</td>\n",
       "      <td>0.0</td>\n",
       "      <td>11</td>\n",
       "      <td>0</td>\n",
       "      <td>679573</td>\n",
       "      <td>904442</td>\n",
       "      <td>0.751373</td>\n",
       "    </tr>\n",
       "    <tr>\n",
       "      <th>2</th>\n",
       "      <td>153494</td>\n",
       "      <td>709.0</td>\n",
       "      <td>871112.0</td>\n",
       "      <td>72592.67</td>\n",
       "      <td>8391.73</td>\n",
       "      <td>0.115600</td>\n",
       "      <td>12.5</td>\n",
       "      <td>10.0</td>\n",
       "      <td>10</td>\n",
       "      <td>0</td>\n",
       "      <td>38532</td>\n",
       "      <td>388036</td>\n",
       "      <td>0.099300</td>\n",
       "    </tr>\n",
       "    <tr>\n",
       "      <th>3</th>\n",
       "      <td>176242</td>\n",
       "      <td>727.0</td>\n",
       "      <td>780083.0</td>\n",
       "      <td>65006.92</td>\n",
       "      <td>16771.87</td>\n",
       "      <td>0.258001</td>\n",
       "      <td>16.5</td>\n",
       "      <td>27.0</td>\n",
       "      <td>16</td>\n",
       "      <td>1</td>\n",
       "      <td>156940</td>\n",
       "      <td>531322</td>\n",
       "      <td>0.295376</td>\n",
       "    </tr>\n",
       "    <tr>\n",
       "      <th>4</th>\n",
       "      <td>321992</td>\n",
       "      <td>744.0</td>\n",
       "      <td>1761148.0</td>\n",
       "      <td>146762.33</td>\n",
       "      <td>39478.77</td>\n",
       "      <td>0.268998</td>\n",
       "      <td>26.0</td>\n",
       "      <td>44.0</td>\n",
       "      <td>14</td>\n",
       "      <td>0</td>\n",
       "      <td>359765</td>\n",
       "      <td>468072</td>\n",
       "      <td>0.768610</td>\n",
       "    </tr>\n",
       "  </tbody>\n",
       "</table>\n",
       "</div>"
      ],
      "text/plain": [
       "   Current Loan Amount  Credit Score  Annual Income  Monthly Income  \\\n",
       "0               611314         747.0      2074116.0       172843.00   \n",
       "1               266662         734.0      1919190.0       159932.50   \n",
       "2               153494         709.0       871112.0        72592.67   \n",
       "3               176242         727.0       780083.0        65006.92   \n",
       "4               321992         744.0      1761148.0       146762.33   \n",
       "\n",
       "   Monthly Debt  Debt / Income Ratio  Credit History(Years)  \\\n",
       "0      42000.83             0.243000                   21.8   \n",
       "1      36624.40             0.228999                   19.4   \n",
       "2       8391.73             0.115600                   12.5   \n",
       "3      16771.87             0.258001                   16.5   \n",
       "4      39478.77             0.268998                   26.0   \n",
       "\n",
       "   Months Delinquent  Open Accounts  Credit Problems  Credit Balance  \\\n",
       "0                0.0              9                0          621908   \n",
       "1                0.0             11                0          679573   \n",
       "2               10.0             10                0           38532   \n",
       "3               27.0             16                1          156940   \n",
       "4               44.0             14                0          359765   \n",
       "\n",
       "   Total Credit  Credit Usage Ratio  \n",
       "0       1058970            0.587276  \n",
       "1        904442            0.751373  \n",
       "2        388036            0.099300  \n",
       "3        531322            0.295376  \n",
       "4        468072            0.768610  "
      ]
     },
     "execution_count": 6,
     "metadata": {},
     "output_type": "execute_result"
    }
   ],
   "source": [
    "# Review the X variable DataFrame\n",
    "LR_X.head()"
   ]
  },
  {
   "cell_type": "markdown",
   "id": "c5132c15",
   "metadata": {},
   "source": [
    "### Check the balance of the labels variable (`y`) by using the `value_counts` function."
   ]
  },
  {
   "cell_type": "code",
   "execution_count": 7,
   "id": "694d22fc",
   "metadata": {},
   "outputs": [
    {
     "data": {
      "text/plain": [
       "Bankruptcies\n",
       "0.0    8911\n",
       "1.0    1082\n",
       "Name: count, dtype: int64"
      ]
     },
     "execution_count": 7,
     "metadata": {},
     "output_type": "execute_result"
    }
   ],
   "source": [
    "# Check the balance of our target values\n",
    "LR_y.value_counts()"
   ]
  },
  {
   "cell_type": "markdown",
   "id": "c57764dd",
   "metadata": {},
   "source": [
    "### Split the data into training and testing datasets by using `train_test_split`."
   ]
  },
  {
   "cell_type": "code",
   "execution_count": 8,
   "id": "1c25720f",
   "metadata": {},
   "outputs": [
    {
     "data": {
      "text/plain": [
       "(7494, 13)"
      ]
     },
     "execution_count": 8,
     "metadata": {},
     "output_type": "execute_result"
    }
   ],
   "source": [
    "# Split the data using train_test_split\n",
    "# Assign a random_state of 1 to the function\n",
    "LR_X_train, LR_X_test, LR_y_train, LR_y_test = train_test_split(LR_X, \n",
    "                                                    LR_y, \n",
    "                                                    random_state=1, \n",
    "                                                    stratify=LR_y)\n",
    "LR_X_train.shape"
   ]
  },
  {
   "cell_type": "markdown",
   "id": "28394fc4",
   "metadata": {},
   "source": [
    "## Create a Logistic Regression Model with the Original Data"
   ]
  },
  {
   "cell_type": "markdown",
   "id": "c052bd4d",
   "metadata": {},
   "source": [
    "###  Fit a logistic regression model by using the training data (`X_train` and `y_train`)."
   ]
  },
  {
   "cell_type": "code",
   "execution_count": 9,
   "id": "48d3f4ca",
   "metadata": {},
   "outputs": [
    {
     "data": {
      "text/html": [
       "<style>#sk-container-id-1 {color: black;background-color: white;}#sk-container-id-1 pre{padding: 0;}#sk-container-id-1 div.sk-toggleable {background-color: white;}#sk-container-id-1 label.sk-toggleable__label {cursor: pointer;display: block;width: 100%;margin-bottom: 0;padding: 0.3em;box-sizing: border-box;text-align: center;}#sk-container-id-1 label.sk-toggleable__label-arrow:before {content: \"▸\";float: left;margin-right: 0.25em;color: #696969;}#sk-container-id-1 label.sk-toggleable__label-arrow:hover:before {color: black;}#sk-container-id-1 div.sk-estimator:hover label.sk-toggleable__label-arrow:before {color: black;}#sk-container-id-1 div.sk-toggleable__content {max-height: 0;max-width: 0;overflow: hidden;text-align: left;background-color: #f0f8ff;}#sk-container-id-1 div.sk-toggleable__content pre {margin: 0.2em;color: black;border-radius: 0.25em;background-color: #f0f8ff;}#sk-container-id-1 input.sk-toggleable__control:checked~div.sk-toggleable__content {max-height: 200px;max-width: 100%;overflow: auto;}#sk-container-id-1 input.sk-toggleable__control:checked~label.sk-toggleable__label-arrow:before {content: \"▾\";}#sk-container-id-1 div.sk-estimator input.sk-toggleable__control:checked~label.sk-toggleable__label {background-color: #d4ebff;}#sk-container-id-1 div.sk-label input.sk-toggleable__control:checked~label.sk-toggleable__label {background-color: #d4ebff;}#sk-container-id-1 input.sk-hidden--visually {border: 0;clip: rect(1px 1px 1px 1px);clip: rect(1px, 1px, 1px, 1px);height: 1px;margin: -1px;overflow: hidden;padding: 0;position: absolute;width: 1px;}#sk-container-id-1 div.sk-estimator {font-family: monospace;background-color: #f0f8ff;border: 1px dotted black;border-radius: 0.25em;box-sizing: border-box;margin-bottom: 0.5em;}#sk-container-id-1 div.sk-estimator:hover {background-color: #d4ebff;}#sk-container-id-1 div.sk-parallel-item::after {content: \"\";width: 100%;border-bottom: 1px solid gray;flex-grow: 1;}#sk-container-id-1 div.sk-label:hover label.sk-toggleable__label {background-color: #d4ebff;}#sk-container-id-1 div.sk-serial::before {content: \"\";position: absolute;border-left: 1px solid gray;box-sizing: border-box;top: 0;bottom: 0;left: 50%;z-index: 0;}#sk-container-id-1 div.sk-serial {display: flex;flex-direction: column;align-items: center;background-color: white;padding-right: 0.2em;padding-left: 0.2em;position: relative;}#sk-container-id-1 div.sk-item {position: relative;z-index: 1;}#sk-container-id-1 div.sk-parallel {display: flex;align-items: stretch;justify-content: center;background-color: white;position: relative;}#sk-container-id-1 div.sk-item::before, #sk-container-id-1 div.sk-parallel-item::before {content: \"\";position: absolute;border-left: 1px solid gray;box-sizing: border-box;top: 0;bottom: 0;left: 50%;z-index: -1;}#sk-container-id-1 div.sk-parallel-item {display: flex;flex-direction: column;z-index: 1;position: relative;background-color: white;}#sk-container-id-1 div.sk-parallel-item:first-child::after {align-self: flex-end;width: 50%;}#sk-container-id-1 div.sk-parallel-item:last-child::after {align-self: flex-start;width: 50%;}#sk-container-id-1 div.sk-parallel-item:only-child::after {width: 0;}#sk-container-id-1 div.sk-dashed-wrapped {border: 1px dashed gray;margin: 0 0.4em 0.5em 0.4em;box-sizing: border-box;padding-bottom: 0.4em;background-color: white;}#sk-container-id-1 div.sk-label label {font-family: monospace;font-weight: bold;display: inline-block;line-height: 1.2em;}#sk-container-id-1 div.sk-label-container {text-align: center;}#sk-container-id-1 div.sk-container {/* jupyter's `normalize.less` sets `[hidden] { display: none; }` but bootstrap.min.css set `[hidden] { display: none !important; }` so we also need the `!important` here to be able to override the default hidden behavior on the sphinx rendered scikit-learn.org. See: https://github.com/scikit-learn/scikit-learn/issues/21755 */display: inline-block !important;position: relative;}#sk-container-id-1 div.sk-text-repr-fallback {display: none;}</style><div id=\"sk-container-id-1\" class=\"sk-top-container\"><div class=\"sk-text-repr-fallback\"><pre>LogisticRegression(max_iter=200, random_state=1)</pre><b>In a Jupyter environment, please rerun this cell to show the HTML representation or trust the notebook. <br />On GitHub, the HTML representation is unable to render, please try loading this page with nbviewer.org.</b></div><div class=\"sk-container\" hidden><div class=\"sk-item\"><div class=\"sk-estimator sk-toggleable\"><input class=\"sk-toggleable__control sk-hidden--visually\" id=\"sk-estimator-id-1\" type=\"checkbox\" checked><label for=\"sk-estimator-id-1\" class=\"sk-toggleable__label sk-toggleable__label-arrow\">LogisticRegression</label><div class=\"sk-toggleable__content\"><pre>LogisticRegression(max_iter=200, random_state=1)</pre></div></div></div></div></div>"
      ],
      "text/plain": [
       "LogisticRegression(max_iter=200, random_state=1)"
      ]
     },
     "execution_count": 9,
     "metadata": {},
     "output_type": "execute_result"
    }
   ],
   "source": [
    "# Instantiate the Logistic Regression model\n",
    "Log_Reg_Model = LogisticRegression(solver='lbfgs',\n",
    "                                max_iter=200,\n",
    "                                random_state=1)\n",
    "Log_Reg_Model"
   ]
  },
  {
   "cell_type": "code",
   "execution_count": 10,
   "id": "15ba3bf3",
   "metadata": {},
   "outputs": [
    {
     "data": {
      "text/html": [
       "<style>#sk-container-id-2 {color: black;background-color: white;}#sk-container-id-2 pre{padding: 0;}#sk-container-id-2 div.sk-toggleable {background-color: white;}#sk-container-id-2 label.sk-toggleable__label {cursor: pointer;display: block;width: 100%;margin-bottom: 0;padding: 0.3em;box-sizing: border-box;text-align: center;}#sk-container-id-2 label.sk-toggleable__label-arrow:before {content: \"▸\";float: left;margin-right: 0.25em;color: #696969;}#sk-container-id-2 label.sk-toggleable__label-arrow:hover:before {color: black;}#sk-container-id-2 div.sk-estimator:hover label.sk-toggleable__label-arrow:before {color: black;}#sk-container-id-2 div.sk-toggleable__content {max-height: 0;max-width: 0;overflow: hidden;text-align: left;background-color: #f0f8ff;}#sk-container-id-2 div.sk-toggleable__content pre {margin: 0.2em;color: black;border-radius: 0.25em;background-color: #f0f8ff;}#sk-container-id-2 input.sk-toggleable__control:checked~div.sk-toggleable__content {max-height: 200px;max-width: 100%;overflow: auto;}#sk-container-id-2 input.sk-toggleable__control:checked~label.sk-toggleable__label-arrow:before {content: \"▾\";}#sk-container-id-2 div.sk-estimator input.sk-toggleable__control:checked~label.sk-toggleable__label {background-color: #d4ebff;}#sk-container-id-2 div.sk-label input.sk-toggleable__control:checked~label.sk-toggleable__label {background-color: #d4ebff;}#sk-container-id-2 input.sk-hidden--visually {border: 0;clip: rect(1px 1px 1px 1px);clip: rect(1px, 1px, 1px, 1px);height: 1px;margin: -1px;overflow: hidden;padding: 0;position: absolute;width: 1px;}#sk-container-id-2 div.sk-estimator {font-family: monospace;background-color: #f0f8ff;border: 1px dotted black;border-radius: 0.25em;box-sizing: border-box;margin-bottom: 0.5em;}#sk-container-id-2 div.sk-estimator:hover {background-color: #d4ebff;}#sk-container-id-2 div.sk-parallel-item::after {content: \"\";width: 100%;border-bottom: 1px solid gray;flex-grow: 1;}#sk-container-id-2 div.sk-label:hover label.sk-toggleable__label {background-color: #d4ebff;}#sk-container-id-2 div.sk-serial::before {content: \"\";position: absolute;border-left: 1px solid gray;box-sizing: border-box;top: 0;bottom: 0;left: 50%;z-index: 0;}#sk-container-id-2 div.sk-serial {display: flex;flex-direction: column;align-items: center;background-color: white;padding-right: 0.2em;padding-left: 0.2em;position: relative;}#sk-container-id-2 div.sk-item {position: relative;z-index: 1;}#sk-container-id-2 div.sk-parallel {display: flex;align-items: stretch;justify-content: center;background-color: white;position: relative;}#sk-container-id-2 div.sk-item::before, #sk-container-id-2 div.sk-parallel-item::before {content: \"\";position: absolute;border-left: 1px solid gray;box-sizing: border-box;top: 0;bottom: 0;left: 50%;z-index: -1;}#sk-container-id-2 div.sk-parallel-item {display: flex;flex-direction: column;z-index: 1;position: relative;background-color: white;}#sk-container-id-2 div.sk-parallel-item:first-child::after {align-self: flex-end;width: 50%;}#sk-container-id-2 div.sk-parallel-item:last-child::after {align-self: flex-start;width: 50%;}#sk-container-id-2 div.sk-parallel-item:only-child::after {width: 0;}#sk-container-id-2 div.sk-dashed-wrapped {border: 1px dashed gray;margin: 0 0.4em 0.5em 0.4em;box-sizing: border-box;padding-bottom: 0.4em;background-color: white;}#sk-container-id-2 div.sk-label label {font-family: monospace;font-weight: bold;display: inline-block;line-height: 1.2em;}#sk-container-id-2 div.sk-label-container {text-align: center;}#sk-container-id-2 div.sk-container {/* jupyter's `normalize.less` sets `[hidden] { display: none; }` but bootstrap.min.css set `[hidden] { display: none !important; }` so we also need the `!important` here to be able to override the default hidden behavior on the sphinx rendered scikit-learn.org. See: https://github.com/scikit-learn/scikit-learn/issues/21755 */display: inline-block !important;position: relative;}#sk-container-id-2 div.sk-text-repr-fallback {display: none;}</style><div id=\"sk-container-id-2\" class=\"sk-top-container\"><div class=\"sk-text-repr-fallback\"><pre>LogisticRegression(max_iter=200, random_state=1)</pre><b>In a Jupyter environment, please rerun this cell to show the HTML representation or trust the notebook. <br />On GitHub, the HTML representation is unable to render, please try loading this page with nbviewer.org.</b></div><div class=\"sk-container\" hidden><div class=\"sk-item\"><div class=\"sk-estimator sk-toggleable\"><input class=\"sk-toggleable__control sk-hidden--visually\" id=\"sk-estimator-id-2\" type=\"checkbox\" checked><label for=\"sk-estimator-id-2\" class=\"sk-toggleable__label sk-toggleable__label-arrow\">LogisticRegression</label><div class=\"sk-toggleable__content\"><pre>LogisticRegression(max_iter=200, random_state=1)</pre></div></div></div></div></div>"
      ],
      "text/plain": [
       "LogisticRegression(max_iter=200, random_state=1)"
      ]
     },
     "execution_count": 10,
     "metadata": {},
     "output_type": "execute_result"
    }
   ],
   "source": [
    "# Fit the model using training data\n",
    "Log_Reg_Model.fit(LR_X_train, LR_y_train)"
   ]
  },
  {
   "cell_type": "markdown",
   "id": "5e03dbe5",
   "metadata": {},
   "source": [
    "### Save the predictions on the testing data labels by using the testing feature data (`X_test`) and the fitted model."
   ]
  },
  {
   "cell_type": "code",
   "execution_count": 11,
   "id": "bdf8196f",
   "metadata": {},
   "outputs": [],
   "source": [
    "# Make a prediction using the testing data\n",
    "Log_Reg_Model_Predictions = Log_Reg_Model.predict(LR_X_test)"
   ]
  },
  {
   "cell_type": "markdown",
   "id": "9038564a",
   "metadata": {},
   "source": [
    "### Evaluate the model’s performance by doing the following:\n",
    "\n",
    "* Calculate the accuracy score of the model.\n",
    "\n",
    "* Generate a confusion matrix.\n",
    "\n",
    "* Print the classification report."
   ]
  },
  {
   "cell_type": "code",
   "execution_count": 12,
   "id": "6e1202cd",
   "metadata": {},
   "outputs": [
    {
     "data": {
      "text/plain": [
       "array([[2228,    0],\n",
       "       [ 271,    0]], dtype=int64)"
      ]
     },
     "execution_count": 12,
     "metadata": {},
     "output_type": "execute_result"
    }
   ],
   "source": [
    "# Generate a confusion matrix for the model\n",
    "confusion_matrix(LR_y_test, Log_Reg_Model_Predictions)"
   ]
  },
  {
   "cell_type": "code",
   "execution_count": 13,
   "id": "99a2220c",
   "metadata": {},
   "outputs": [
    {
     "name": "stdout",
     "output_type": "stream",
     "text": [
      "Testing Data Accuracy Score: 0.8915566226490597\n"
     ]
    }
   ],
   "source": [
    "# Calculating the testing data accuracy score\n",
    "LR_acc_score = accuracy_score(LR_y_test, Log_Reg_Model_Predictions)\n",
    "\n",
    "# Print testing data accuracy score\n",
    "print(f\"Testing Data Accuracy Score: {LR_acc_score}\")"
   ]
  },
  {
   "cell_type": "code",
   "execution_count": 14,
   "id": "62a4ff99",
   "metadata": {},
   "outputs": [
    {
     "name": "stdout",
     "output_type": "stream",
     "text": [
      "                    precision    recall  f1-score   support\n",
      "\n",
      "Loan Not Defaulted       0.89      1.00      0.94      2228\n",
      "    Loan Defaulted       0.00      0.00      0.00       271\n",
      "\n",
      "          accuracy                           0.89      2499\n",
      "         macro avg       0.45      0.50      0.47      2499\n",
      "      weighted avg       0.79      0.89      0.84      2499\n",
      "\n"
     ]
    },
    {
     "name": "stderr",
     "output_type": "stream",
     "text": [
      "C:\\Users\\Cody\\anaconda3\\envs\\dev\\lib\\site-packages\\sklearn\\metrics\\_classification.py:1344: UndefinedMetricWarning: Precision and F-score are ill-defined and being set to 0.0 in labels with no predicted samples. Use `zero_division` parameter to control this behavior.\n",
      "  _warn_prf(average, modifier, msg_start, len(result))\n",
      "C:\\Users\\Cody\\anaconda3\\envs\\dev\\lib\\site-packages\\sklearn\\metrics\\_classification.py:1344: UndefinedMetricWarning: Precision and F-score are ill-defined and being set to 0.0 in labels with no predicted samples. Use `zero_division` parameter to control this behavior.\n",
      "  _warn_prf(average, modifier, msg_start, len(result))\n",
      "C:\\Users\\Cody\\anaconda3\\envs\\dev\\lib\\site-packages\\sklearn\\metrics\\_classification.py:1344: UndefinedMetricWarning: Precision and F-score are ill-defined and being set to 0.0 in labels with no predicted samples. Use `zero_division` parameter to control this behavior.\n",
      "  _warn_prf(average, modifier, msg_start, len(result))\n"
     ]
    }
   ],
   "source": [
    "# Printing Classification Report\n",
    "target_names = [\"Loan Not Defaulted\", \"Loan Defaulted\"]\n",
    "print(classification_report(LR_y_test, Log_Reg_Model_Predictions, target_names=target_names))"
   ]
  },
  {
   "cell_type": "markdown",
   "id": "ad8c286b",
   "metadata": {},
   "source": [
    "## Predict a Logistic Regression Model with Resampled Training Data"
   ]
  },
  {
   "cell_type": "markdown",
   "id": "3f2e725f",
   "metadata": {},
   "source": [
    "### Use the `RandomOverSampler` module from the imbalanced-learn library to resample the data. Be sure to confirm that the labels have an equal number of data points. "
   ]
  },
  {
   "cell_type": "code",
   "execution_count": 15,
   "id": "92f40c8f",
   "metadata": {},
   "outputs": [],
   "source": [
    "# Instantiate the random oversampler model\n",
    "# # Assign a random_state parameter of 1 to the model\n",
    "ROS = RandomOverSampler(random_state = 1)\n",
    "\n",
    "# Fit the original training data to the random_oversampler model\n",
    "X_ROS, y_ROS = ROS.fit_resample(LR_X_train, LR_y_train)"
   ]
  },
  {
   "cell_type": "code",
   "execution_count": 16,
   "id": "2a9b0a85",
   "metadata": {},
   "outputs": [
    {
     "data": {
      "text/plain": [
       "Bankruptcies\n",
       "0.0    6683\n",
       "1.0    6683\n",
       "Name: count, dtype: int64"
      ]
     },
     "execution_count": 16,
     "metadata": {},
     "output_type": "execute_result"
    }
   ],
   "source": [
    "# Count the distinct values of the resampled labels data\n",
    "y_ROS.value_counts()"
   ]
  },
  {
   "cell_type": "code",
   "execution_count": 17,
   "id": "0ea02f0b",
   "metadata": {},
   "outputs": [],
   "source": [
    "# Instantiate the Logistic Regression model\n",
    "Log_Reg_ROS = LogisticRegression(solver='lbfgs',\n",
    "                                max_iter=200,\n",
    "                                random_state=1)\n",
    "Log_Reg_ROS\n",
    "\n",
    "# Fit the model using the resampled training data\n",
    "Log_Reg_ROS.fit(X_ROS, y_ROS)\n",
    "\n",
    "# Make a prediction using the testing data\n",
    "Log_Reg_ROS_Predictions = Log_Reg_ROS.predict(LR_X_test)"
   ]
  },
  {
   "cell_type": "markdown",
   "id": "a1fa9293",
   "metadata": {},
   "source": [
    "### Evaluate the model’s performance by doing the following:\n",
    "\n",
    "* Calculate the accuracy score of the model.\n",
    "\n",
    "* Generate a confusion matrix.\n",
    "\n",
    "* Print the classification report."
   ]
  },
  {
   "cell_type": "code",
   "execution_count": 18,
   "id": "dc670ffd",
   "metadata": {},
   "outputs": [
    {
     "data": {
      "text/plain": [
       "array([[1564,  664],\n",
       "       [ 141,  130]], dtype=int64)"
      ]
     },
     "execution_count": 18,
     "metadata": {},
     "output_type": "execute_result"
    }
   ],
   "source": [
    "# Generate a confusion matrix for the model\n",
    "confusion_matrix(LR_y_test, Log_Reg_ROS_Predictions)"
   ]
  },
  {
   "cell_type": "code",
   "execution_count": 19,
   "id": "b725ad6e",
   "metadata": {},
   "outputs": [
    {
     "name": "stdout",
     "output_type": "stream",
     "text": [
      "Testing Data Accuracy Score: 0.6778711484593838\n"
     ]
    }
   ],
   "source": [
    "# Calculating the testing data accuracy score\n",
    "LR_testing_acc_score = accuracy_score(LR_y_test, Log_Reg_ROS_Predictions)\n",
    "\n",
    "# Print testing data accuracy score\n",
    "print(f\"Testing Data Accuracy Score: {LR_testing_acc_score}\")"
   ]
  },
  {
   "cell_type": "code",
   "execution_count": 20,
   "id": "be11111d",
   "metadata": {},
   "outputs": [
    {
     "name": "stdout",
     "output_type": "stream",
     "text": [
      "Testing Data Precision Score Averages: [0.91730205 0.16372796]\n"
     ]
    }
   ],
   "source": [
    "# Calculating Precision Score Averages of the testing data\n",
    "LR_testing_prec_score = precision_score(LR_y_test, Log_Reg_ROS_Predictions, average=None)\n",
    "\n",
    "# Print Precision Score Averages of the testing data\n",
    "print(f\"Testing Data Precision Score Averages: {LR_testing_prec_score}\")"
   ]
  },
  {
   "cell_type": "code",
   "execution_count": 21,
   "id": "db423867",
   "metadata": {},
   "outputs": [
    {
     "name": "stdout",
     "output_type": "stream",
     "text": [
      "Testing Data Recall Score Averages: [0.70197487 0.4797048 ]\n"
     ]
    }
   ],
   "source": [
    "# Calculating Recall Score Averages of the testing data\n",
    "LR_testing_rec_score = recall_score(LR_y_test, Log_Reg_ROS_Predictions, average=None)\n",
    "\n",
    "# Print Recall Score Averages of the testing data\n",
    "print(f\"Testing Data Recall Score Averages: {LR_testing_rec_score}\")"
   ]
  },
  {
   "cell_type": "code",
   "execution_count": 22,
   "id": "fe10ce9c",
   "metadata": {},
   "outputs": [
    {
     "name": "stdout",
     "output_type": "stream",
     "text": [
      "                    precision    recall  f1-score   support\n",
      "\n",
      "Loan Not Defaulted       0.92      0.70      0.80      2228\n",
      "    Loan Defaulted       0.16      0.48      0.24       271\n",
      "\n",
      "          accuracy                           0.68      2499\n",
      "         macro avg       0.54      0.59      0.52      2499\n",
      "      weighted avg       0.84      0.68      0.74      2499\n",
      "\n"
     ]
    }
   ],
   "source": [
    "# Printing Classification Report\n",
    "LR_target_names = [\"Loan Not Defaulted\", \"Loan Defaulted\"]\n",
    "print(classification_report(LR_y_test, Log_Reg_ROS_Predictions, target_names=LR_target_names))"
   ]
  },
  {
   "cell_type": "markdown",
   "id": "e5231f64",
   "metadata": {},
   "source": [
    "# Creating Model To Train Data Using Random Forest Algorithm"
   ]
  },
  {
   "cell_type": "markdown",
   "id": "f6e73a06",
   "metadata": {},
   "source": [
    "## Reloading \"ETL_credit_data.csv\" Into Dataframe"
   ]
  },
  {
   "cell_type": "code",
   "execution_count": 23,
   "id": "95d54ea9",
   "metadata": {},
   "outputs": [
    {
     "data": {
      "text/html": [
       "<div>\n",
       "<style scoped>\n",
       "    .dataframe tbody tr th:only-of-type {\n",
       "        vertical-align: middle;\n",
       "    }\n",
       "\n",
       "    .dataframe tbody tr th {\n",
       "        vertical-align: top;\n",
       "    }\n",
       "\n",
       "    .dataframe thead th {\n",
       "        text-align: right;\n",
       "    }\n",
       "</style>\n",
       "<table border=\"1\" class=\"dataframe\">\n",
       "  <thead>\n",
       "    <tr style=\"text-align: right;\">\n",
       "      <th></th>\n",
       "      <th>Current Loan Amount</th>\n",
       "      <th>Credit Score</th>\n",
       "      <th>Annual Income</th>\n",
       "      <th>Monthly Income</th>\n",
       "      <th>Monthly Debt</th>\n",
       "      <th>Debt / Income Ratio</th>\n",
       "      <th>Credit History(Years)</th>\n",
       "      <th>Months Delinquent</th>\n",
       "      <th>Open Accounts</th>\n",
       "      <th>Credit Problems</th>\n",
       "      <th>Credit Balance</th>\n",
       "      <th>Total Credit</th>\n",
       "      <th>Credit Usage Ratio</th>\n",
       "      <th>Bankruptcies</th>\n",
       "    </tr>\n",
       "  </thead>\n",
       "  <tbody>\n",
       "    <tr>\n",
       "      <th>0</th>\n",
       "      <td>611314</td>\n",
       "      <td>747.0</td>\n",
       "      <td>2074116.0</td>\n",
       "      <td>172843.00</td>\n",
       "      <td>42000.83</td>\n",
       "      <td>0.243000</td>\n",
       "      <td>21.8</td>\n",
       "      <td>0.0</td>\n",
       "      <td>9</td>\n",
       "      <td>0</td>\n",
       "      <td>621908</td>\n",
       "      <td>1058970</td>\n",
       "      <td>0.587276</td>\n",
       "      <td>0.0</td>\n",
       "    </tr>\n",
       "    <tr>\n",
       "      <th>1</th>\n",
       "      <td>266662</td>\n",
       "      <td>734.0</td>\n",
       "      <td>1919190.0</td>\n",
       "      <td>159932.50</td>\n",
       "      <td>36624.40</td>\n",
       "      <td>0.228999</td>\n",
       "      <td>19.4</td>\n",
       "      <td>0.0</td>\n",
       "      <td>11</td>\n",
       "      <td>0</td>\n",
       "      <td>679573</td>\n",
       "      <td>904442</td>\n",
       "      <td>0.751373</td>\n",
       "      <td>0.0</td>\n",
       "    </tr>\n",
       "    <tr>\n",
       "      <th>2</th>\n",
       "      <td>153494</td>\n",
       "      <td>709.0</td>\n",
       "      <td>871112.0</td>\n",
       "      <td>72592.67</td>\n",
       "      <td>8391.73</td>\n",
       "      <td>0.115600</td>\n",
       "      <td>12.5</td>\n",
       "      <td>10.0</td>\n",
       "      <td>10</td>\n",
       "      <td>0</td>\n",
       "      <td>38532</td>\n",
       "      <td>388036</td>\n",
       "      <td>0.099300</td>\n",
       "      <td>0.0</td>\n",
       "    </tr>\n",
       "    <tr>\n",
       "      <th>3</th>\n",
       "      <td>176242</td>\n",
       "      <td>727.0</td>\n",
       "      <td>780083.0</td>\n",
       "      <td>65006.92</td>\n",
       "      <td>16771.87</td>\n",
       "      <td>0.258001</td>\n",
       "      <td>16.5</td>\n",
       "      <td>27.0</td>\n",
       "      <td>16</td>\n",
       "      <td>1</td>\n",
       "      <td>156940</td>\n",
       "      <td>531322</td>\n",
       "      <td>0.295376</td>\n",
       "      <td>1.0</td>\n",
       "    </tr>\n",
       "    <tr>\n",
       "      <th>4</th>\n",
       "      <td>321992</td>\n",
       "      <td>744.0</td>\n",
       "      <td>1761148.0</td>\n",
       "      <td>146762.33</td>\n",
       "      <td>39478.77</td>\n",
       "      <td>0.268998</td>\n",
       "      <td>26.0</td>\n",
       "      <td>44.0</td>\n",
       "      <td>14</td>\n",
       "      <td>0</td>\n",
       "      <td>359765</td>\n",
       "      <td>468072</td>\n",
       "      <td>0.768610</td>\n",
       "      <td>0.0</td>\n",
       "    </tr>\n",
       "  </tbody>\n",
       "</table>\n",
       "</div>"
      ],
      "text/plain": [
       "   Current Loan Amount  Credit Score  Annual Income  Monthly Income  \\\n",
       "0               611314         747.0      2074116.0       172843.00   \n",
       "1               266662         734.0      1919190.0       159932.50   \n",
       "2               153494         709.0       871112.0        72592.67   \n",
       "3               176242         727.0       780083.0        65006.92   \n",
       "4               321992         744.0      1761148.0       146762.33   \n",
       "\n",
       "   Monthly Debt  Debt / Income Ratio  Credit History(Years)  \\\n",
       "0      42000.83             0.243000                   21.8   \n",
       "1      36624.40             0.228999                   19.4   \n",
       "2       8391.73             0.115600                   12.5   \n",
       "3      16771.87             0.258001                   16.5   \n",
       "4      39478.77             0.268998                   26.0   \n",
       "\n",
       "   Months Delinquent  Open Accounts  Credit Problems  Credit Balance  \\\n",
       "0                0.0              9                0          621908   \n",
       "1                0.0             11                0          679573   \n",
       "2               10.0             10                0           38532   \n",
       "3               27.0             16                1          156940   \n",
       "4               44.0             14                0          359765   \n",
       "\n",
       "   Total Credit  Credit Usage Ratio  Bankruptcies  \n",
       "0       1058970            0.587276           0.0  \n",
       "1        904442            0.751373           0.0  \n",
       "2        388036            0.099300           0.0  \n",
       "3        531322            0.295376           1.0  \n",
       "4        468072            0.768610           0.0  "
      ]
     },
     "execution_count": 23,
     "metadata": {},
     "output_type": "execute_result"
    }
   ],
   "source": [
    "# Create reference to CSV file\n",
    "RF_csv_path = Path(\"../output_data/ETL/csv/ETL_credit_data.csv\")\n",
    "\n",
    "# Import the CSV into a pandas DataFrame\n",
    "RF_credit_data_df = pd.read_csv(RF_csv_path)\n",
    "\n",
    "# Display dataframe\n",
    "RF_credit_data_df.head()"
   ]
  },
  {
   "cell_type": "markdown",
   "id": "0262e1d6",
   "metadata": {},
   "source": [
    "## Loading and Preprocessing Data"
   ]
  },
  {
   "cell_type": "code",
   "execution_count": 24,
   "id": "8c281598",
   "metadata": {},
   "outputs": [
    {
     "data": {
      "text/html": [
       "<div>\n",
       "<style scoped>\n",
       "    .dataframe tbody tr th:only-of-type {\n",
       "        vertical-align: middle;\n",
       "    }\n",
       "\n",
       "    .dataframe tbody tr th {\n",
       "        vertical-align: top;\n",
       "    }\n",
       "\n",
       "    .dataframe thead th {\n",
       "        text-align: right;\n",
       "    }\n",
       "</style>\n",
       "<table border=\"1\" class=\"dataframe\">\n",
       "  <thead>\n",
       "    <tr style=\"text-align: right;\">\n",
       "      <th></th>\n",
       "      <th>Current Loan Amount</th>\n",
       "      <th>Credit Score</th>\n",
       "      <th>Annual Income</th>\n",
       "      <th>Monthly Income</th>\n",
       "      <th>Monthly Debt</th>\n",
       "      <th>Debt / Income Ratio</th>\n",
       "      <th>Credit History(Years)</th>\n",
       "      <th>Months Delinquent</th>\n",
       "      <th>Open Accounts</th>\n",
       "      <th>Credit Problems</th>\n",
       "      <th>Credit Balance</th>\n",
       "      <th>Total Credit</th>\n",
       "      <th>Credit Usage Ratio</th>\n",
       "    </tr>\n",
       "  </thead>\n",
       "  <tbody>\n",
       "    <tr>\n",
       "      <th>0</th>\n",
       "      <td>611314</td>\n",
       "      <td>747.0</td>\n",
       "      <td>2074116.0</td>\n",
       "      <td>172843.00</td>\n",
       "      <td>42000.83</td>\n",
       "      <td>0.243000</td>\n",
       "      <td>21.8</td>\n",
       "      <td>0.0</td>\n",
       "      <td>9</td>\n",
       "      <td>0</td>\n",
       "      <td>621908</td>\n",
       "      <td>1058970</td>\n",
       "      <td>0.587276</td>\n",
       "    </tr>\n",
       "    <tr>\n",
       "      <th>1</th>\n",
       "      <td>266662</td>\n",
       "      <td>734.0</td>\n",
       "      <td>1919190.0</td>\n",
       "      <td>159932.50</td>\n",
       "      <td>36624.40</td>\n",
       "      <td>0.228999</td>\n",
       "      <td>19.4</td>\n",
       "      <td>0.0</td>\n",
       "      <td>11</td>\n",
       "      <td>0</td>\n",
       "      <td>679573</td>\n",
       "      <td>904442</td>\n",
       "      <td>0.751373</td>\n",
       "    </tr>\n",
       "    <tr>\n",
       "      <th>2</th>\n",
       "      <td>153494</td>\n",
       "      <td>709.0</td>\n",
       "      <td>871112.0</td>\n",
       "      <td>72592.67</td>\n",
       "      <td>8391.73</td>\n",
       "      <td>0.115600</td>\n",
       "      <td>12.5</td>\n",
       "      <td>10.0</td>\n",
       "      <td>10</td>\n",
       "      <td>0</td>\n",
       "      <td>38532</td>\n",
       "      <td>388036</td>\n",
       "      <td>0.099300</td>\n",
       "    </tr>\n",
       "    <tr>\n",
       "      <th>3</th>\n",
       "      <td>176242</td>\n",
       "      <td>727.0</td>\n",
       "      <td>780083.0</td>\n",
       "      <td>65006.92</td>\n",
       "      <td>16771.87</td>\n",
       "      <td>0.258001</td>\n",
       "      <td>16.5</td>\n",
       "      <td>27.0</td>\n",
       "      <td>16</td>\n",
       "      <td>1</td>\n",
       "      <td>156940</td>\n",
       "      <td>531322</td>\n",
       "      <td>0.295376</td>\n",
       "    </tr>\n",
       "    <tr>\n",
       "      <th>4</th>\n",
       "      <td>321992</td>\n",
       "      <td>744.0</td>\n",
       "      <td>1761148.0</td>\n",
       "      <td>146762.33</td>\n",
       "      <td>39478.77</td>\n",
       "      <td>0.268998</td>\n",
       "      <td>26.0</td>\n",
       "      <td>44.0</td>\n",
       "      <td>14</td>\n",
       "      <td>0</td>\n",
       "      <td>359765</td>\n",
       "      <td>468072</td>\n",
       "      <td>0.768610</td>\n",
       "    </tr>\n",
       "  </tbody>\n",
       "</table>\n",
       "</div>"
      ],
      "text/plain": [
       "   Current Loan Amount  Credit Score  Annual Income  Monthly Income  \\\n",
       "0               611314         747.0      2074116.0       172843.00   \n",
       "1               266662         734.0      1919190.0       159932.50   \n",
       "2               153494         709.0       871112.0        72592.67   \n",
       "3               176242         727.0       780083.0        65006.92   \n",
       "4               321992         744.0      1761148.0       146762.33   \n",
       "\n",
       "   Monthly Debt  Debt / Income Ratio  Credit History(Years)  \\\n",
       "0      42000.83             0.243000                   21.8   \n",
       "1      36624.40             0.228999                   19.4   \n",
       "2       8391.73             0.115600                   12.5   \n",
       "3      16771.87             0.258001                   16.5   \n",
       "4      39478.77             0.268998                   26.0   \n",
       "\n",
       "   Months Delinquent  Open Accounts  Credit Problems  Credit Balance  \\\n",
       "0                0.0              9                0          621908   \n",
       "1                0.0             11                0          679573   \n",
       "2               10.0             10                0           38532   \n",
       "3               27.0             16                1          156940   \n",
       "4               44.0             14                0          359765   \n",
       "\n",
       "   Total Credit  Credit Usage Ratio  \n",
       "0       1058970            0.587276  \n",
       "1        904442            0.751373  \n",
       "2        388036            0.099300  \n",
       "3        531322            0.295376  \n",
       "4        468072            0.768610  "
      ]
     },
     "execution_count": 24,
     "metadata": {},
     "output_type": "execute_result"
    }
   ],
   "source": [
    "# Define features set\n",
    "RF_X = RF_credit_data_df.copy()\n",
    "RF_X.drop(\"Bankruptcies\", axis=1, inplace=True)\n",
    "RF_X.head()"
   ]
  },
  {
   "cell_type": "code",
   "execution_count": 25,
   "id": "12eeb92c",
   "metadata": {},
   "outputs": [
    {
     "data": {
      "text/plain": [
       "array([0., 0., 0., 1., 0.])"
      ]
     },
     "execution_count": 25,
     "metadata": {},
     "output_type": "execute_result"
    }
   ],
   "source": [
    "# Define target vector\n",
    "RF_y = RF_credit_data_df[\"Bankruptcies\"].ravel()\n",
    "RF_y[:5]"
   ]
  },
  {
   "cell_type": "code",
   "execution_count": 26,
   "id": "2518065e",
   "metadata": {},
   "outputs": [],
   "source": [
    "# Splitting into Train and Test sets\n",
    "RF_X_train, RF_X_test, RF_y_train, RF_y_test = train_test_split(RF_X, RF_y, random_state=1)"
   ]
  },
  {
   "cell_type": "code",
   "execution_count": 27,
   "id": "c0fd3825",
   "metadata": {},
   "outputs": [],
   "source": [
    "# Creating StandardScaler instance\n",
    "scaler = StandardScaler()"
   ]
  },
  {
   "cell_type": "code",
   "execution_count": 28,
   "id": "8f8b38a1",
   "metadata": {},
   "outputs": [],
   "source": [
    "# Fitting Standard Scaller\n",
    "X_scaler = scaler.fit(RF_X_train)"
   ]
  },
  {
   "cell_type": "code",
   "execution_count": 29,
   "id": "2e22604d",
   "metadata": {},
   "outputs": [],
   "source": [
    "# Scaling data\n",
    "X_train_scaled = X_scaler.transform(RF_X_train)\n",
    "X_test_scaled = X_scaler.transform(RF_X_test)"
   ]
  },
  {
   "cell_type": "markdown",
   "id": "b4925a8b",
   "metadata": {},
   "source": [
    "## Fitting the Random Forest Model"
   ]
  },
  {
   "cell_type": "code",
   "execution_count": 30,
   "id": "cf17d694",
   "metadata": {},
   "outputs": [],
   "source": [
    "# Create a random forest classifier\n",
    "rf_model = RandomForestClassifier(n_estimators=500, random_state=78)"
   ]
  },
  {
   "cell_type": "code",
   "execution_count": 31,
   "id": "c60931c2",
   "metadata": {},
   "outputs": [],
   "source": [
    "# Fitting the model\n",
    "rf_model = rf_model.fit(X_train_scaled, RF_y_train)"
   ]
  },
  {
   "cell_type": "markdown",
   "id": "4435c850",
   "metadata": {},
   "source": [
    "## Making Predictions Using the Random Forest Model"
   ]
  },
  {
   "cell_type": "code",
   "execution_count": 32,
   "id": "2a0d45a0",
   "metadata": {},
   "outputs": [
    {
     "data": {
      "text/plain": [
       "array([0., 0., 0., ..., 1., 1., 0.])"
      ]
     },
     "execution_count": 32,
     "metadata": {},
     "output_type": "execute_result"
    }
   ],
   "source": [
    "# Making predictions using the testing data\n",
    "RF_testing_predictions = rf_model.predict(X_test_scaled)\n",
    "RF_testing_predictions"
   ]
  },
  {
   "cell_type": "markdown",
   "id": "cd262cf7",
   "metadata": {},
   "source": [
    "## Model Evaluation"
   ]
  },
  {
   "cell_type": "code",
   "execution_count": 33,
   "id": "0d355a87",
   "metadata": {},
   "outputs": [
    {
     "data": {
      "text/plain": [
       "array([[2180,   72],\n",
       "       [   8,  239]], dtype=int64)"
      ]
     },
     "execution_count": 33,
     "metadata": {},
     "output_type": "execute_result"
    }
   ],
   "source": [
    "# Generate a confusion matrix for the model\n",
    "confusion_matrix(RF_y_test, RF_testing_predictions)"
   ]
  },
  {
   "cell_type": "code",
   "execution_count": 34,
   "id": "f8fae300",
   "metadata": {},
   "outputs": [
    {
     "name": "stdout",
     "output_type": "stream",
     "text": [
      "Testing Data Accuracy Score: 0.9679871948779512\n"
     ]
    }
   ],
   "source": [
    "# Calculating the testing data accuracy score\n",
    "RF_testing_acc_score = accuracy_score(RF_y_test, RF_testing_predictions)\n",
    "\n",
    "# Print testing data accuracy score\n",
    "print(f\"Testing Data Accuracy Score: {RF_testing_acc_score}\")"
   ]
  },
  {
   "cell_type": "code",
   "execution_count": 35,
   "id": "07c47002",
   "metadata": {},
   "outputs": [
    {
     "name": "stdout",
     "output_type": "stream",
     "text": [
      "Testing Data Precision Score Averages: [0.99634369 0.76848875]\n"
     ]
    }
   ],
   "source": [
    "# Calculating Precision Score Averages of the testing data\n",
    "RF_testing_prec_score = precision_score(RF_y_test, RF_testing_predictions, average=None)\n",
    "\n",
    "# Print Precision Score Averages of the testing data\n",
    "print(f\"Testing Data Precision Score Averages: {RF_testing_prec_score}\")"
   ]
  },
  {
   "cell_type": "code",
   "execution_count": 36,
   "id": "7f74354a",
   "metadata": {},
   "outputs": [
    {
     "name": "stdout",
     "output_type": "stream",
     "text": [
      "Testing Data Recall Score Averages: [0.96802842 0.96761134]\n"
     ]
    }
   ],
   "source": [
    "# Calculating Recall Score Averages of the testing data\n",
    "RF_testing_rec_score = recall_score(RF_y_test, RF_testing_predictions, average=None)\n",
    "\n",
    "# Print Recall Score Averages of the testing data\n",
    "print(f\"Testing Data Recall Score Averages: {RF_testing_rec_score}\")"
   ]
  },
  {
   "cell_type": "code",
   "execution_count": 37,
   "id": "6ebaf535",
   "metadata": {
    "scrolled": false
   },
   "outputs": [
    {
     "name": "stdout",
     "output_type": "stream",
     "text": [
      "                    precision    recall  f1-score   support\n",
      "\n",
      "Loan Not Defaulted       1.00      0.97      0.98      2252\n",
      "    Loan Defaulted       0.77      0.97      0.86       247\n",
      "\n",
      "          accuracy                           0.97      2499\n",
      "         macro avg       0.88      0.97      0.92      2499\n",
      "      weighted avg       0.97      0.97      0.97      2499\n",
      "\n"
     ]
    }
   ],
   "source": [
    "# Printing Classification Report\n",
    "RF_target_names = [\"Loan Not Defaulted\", \"Loan Defaulted\"]\n",
    "print(classification_report(RF_y_test, RF_testing_predictions, target_names=RF_target_names))"
   ]
  }
 ],
 "metadata": {
  "kernelspec": {
   "display_name": "Python 3 (ipykernel)",
   "language": "python",
   "name": "python3"
  },
  "language_info": {
   "codemirror_mode": {
    "name": "ipython",
    "version": 3
   },
   "file_extension": ".py",
   "mimetype": "text/x-python",
   "name": "python",
   "nbconvert_exporter": "python",
   "pygments_lexer": "ipython3",
   "version": "3.10.10"
  }
 },
 "nbformat": 4,
 "nbformat_minor": 5
}
