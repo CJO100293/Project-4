{
  "cells": [
    {
      "cell_type": "markdown",
      "metadata": {
        "id": "view-in-github",
        "colab_type": "text"
      },
      "source": [
        "<a href=\"https://colab.research.google.com/github/CJO100293/Project-4/blob/main/ML/ML_Colab.ipynb\" target=\"_parent\"><img src=\"https://colab.research.google.com/assets/colab-badge.svg\" alt=\"Open In Colab\"/></a>"
      ]
    },
    {
      "cell_type": "code",
      "execution_count": null,
      "id": "4d538a20",
      "metadata": {
        "id": "4d538a20"
      },
      "outputs": [],
      "source": [
        "# Importing the Needed Dependencies\n",
        "import warnings\n",
        "from warnings import simplefilter\n",
        "warnings.simplefilter(action='ignore', category=FutureWarning)\n",
        "import numpy as np\n",
        "import pandas as pd\n",
        "from pathlib import Path\n",
        "from sklearn.metrics import balanced_accuracy_score, confusion_matrix, classification_report\n",
        "from sklearn.utils.validation import check_array\n",
        "from sklearn.metrics import accuracy_score\n",
        "from sklearn.metrics import precision_score\n",
        "from sklearn.metrics import recall_score\n",
        "from sklearn.model_selection import train_test_split\n",
        "from sklearn.linear_model import LogisticRegression\n",
        "from sklearn.ensemble import RandomForestClassifier\n",
        "from sklearn.preprocessing import StandardScaler\n",
        "from imblearn.over_sampling import RandomOverSampler\n",
        "from sklearn.neighbors import KNeighborsClassifier\n",
        "from pprint import pprint\n",
        "import csv"
      ]
    },
    {
      "cell_type": "markdown",
      "id": "d4147d57",
      "metadata": {
        "id": "d4147d57"
      },
      "source": [
        "# Creating Model To Train Data Using Logistic Regression Algorithm"
      ]
    },
    {
      "cell_type": "markdown",
      "id": "994f2e62",
      "metadata": {
        "id": "994f2e62"
      },
      "source": [
        "## Loading \"ETL_credit_data.csv\" Into Dataframe"
      ]
    },
    {
      "cell_type": "code",
      "execution_count": null,
      "id": "7041656b",
      "metadata": {
        "colab": {
          "base_uri": "https://localhost:8080/",
          "height": 206
        },
        "id": "7041656b",
        "outputId": "a8aa2343-ea4f-46f2-f548-f6048743ca2b"
      },
      "outputs": [
        {
          "data": {
            "text/html": [
              "<div>\n",
              "<style scoped>\n",
              "    .dataframe tbody tr th:only-of-type {\n",
              "        vertical-align: middle;\n",
              "    }\n",
              "\n",
              "    .dataframe tbody tr th {\n",
              "        vertical-align: top;\n",
              "    }\n",
              "\n",
              "    .dataframe thead th {\n",
              "        text-align: right;\n",
              "    }\n",
              "</style>\n",
              "<table border=\"1\" class=\"dataframe\">\n",
              "  <thead>\n",
              "    <tr style=\"text-align: right;\">\n",
              "      <th></th>\n",
              "      <th>Current Loan Amount</th>\n",
              "      <th>Credit Score</th>\n",
              "      <th>Annual Income</th>\n",
              "      <th>Monthly Income</th>\n",
              "      <th>Monthly Debt</th>\n",
              "      <th>Debt / Income Ratio</th>\n",
              "      <th>Credit History(Years)</th>\n",
              "      <th>Months Delinquent</th>\n",
              "      <th>Open Accounts</th>\n",
              "      <th>Credit Problems</th>\n",
              "      <th>Credit Balance</th>\n",
              "      <th>Total Credit</th>\n",
              "      <th>Credit Usage Ratio</th>\n",
              "      <th>Bankruptcies</th>\n",
              "    </tr>\n",
              "  </thead>\n",
              "  <tbody>\n",
              "    <tr>\n",
              "      <th>0</th>\n",
              "      <td>611314</td>\n",
              "      <td>747.0</td>\n",
              "      <td>2074116.0</td>\n",
              "      <td>172843.00</td>\n",
              "      <td>42000.83</td>\n",
              "      <td>0.243000</td>\n",
              "      <td>21.8</td>\n",
              "      <td>0.0</td>\n",
              "      <td>9</td>\n",
              "      <td>0</td>\n",
              "      <td>621908</td>\n",
              "      <td>1058970</td>\n",
              "      <td>0.587276</td>\n",
              "      <td>0.0</td>\n",
              "    </tr>\n",
              "    <tr>\n",
              "      <th>1</th>\n",
              "      <td>266662</td>\n",
              "      <td>734.0</td>\n",
              "      <td>1919190.0</td>\n",
              "      <td>159932.50</td>\n",
              "      <td>36624.40</td>\n",
              "      <td>0.228999</td>\n",
              "      <td>19.4</td>\n",
              "      <td>0.0</td>\n",
              "      <td>11</td>\n",
              "      <td>0</td>\n",
              "      <td>679573</td>\n",
              "      <td>904442</td>\n",
              "      <td>0.751373</td>\n",
              "      <td>0.0</td>\n",
              "    </tr>\n",
              "    <tr>\n",
              "      <th>2</th>\n",
              "      <td>153494</td>\n",
              "      <td>709.0</td>\n",
              "      <td>871112.0</td>\n",
              "      <td>72592.67</td>\n",
              "      <td>8391.73</td>\n",
              "      <td>0.115600</td>\n",
              "      <td>12.5</td>\n",
              "      <td>10.0</td>\n",
              "      <td>10</td>\n",
              "      <td>0</td>\n",
              "      <td>38532</td>\n",
              "      <td>388036</td>\n",
              "      <td>0.099300</td>\n",
              "      <td>0.0</td>\n",
              "    </tr>\n",
              "    <tr>\n",
              "      <th>3</th>\n",
              "      <td>176242</td>\n",
              "      <td>727.0</td>\n",
              "      <td>780083.0</td>\n",
              "      <td>65006.92</td>\n",
              "      <td>16771.87</td>\n",
              "      <td>0.258001</td>\n",
              "      <td>16.5</td>\n",
              "      <td>27.0</td>\n",
              "      <td>16</td>\n",
              "      <td>1</td>\n",
              "      <td>156940</td>\n",
              "      <td>531322</td>\n",
              "      <td>0.295376</td>\n",
              "      <td>1.0</td>\n",
              "    </tr>\n",
              "    <tr>\n",
              "      <th>4</th>\n",
              "      <td>321992</td>\n",
              "      <td>744.0</td>\n",
              "      <td>1761148.0</td>\n",
              "      <td>146762.33</td>\n",
              "      <td>39478.77</td>\n",
              "      <td>0.268998</td>\n",
              "      <td>26.0</td>\n",
              "      <td>44.0</td>\n",
              "      <td>14</td>\n",
              "      <td>0</td>\n",
              "      <td>359765</td>\n",
              "      <td>468072</td>\n",
              "      <td>0.768610</td>\n",
              "      <td>0.0</td>\n",
              "    </tr>\n",
              "  </tbody>\n",
              "</table>\n",
              "</div>"
            ],
            "text/plain": [
              "   Current Loan Amount  Credit Score  Annual Income  Monthly Income  \\\n",
              "0               611314         747.0      2074116.0       172843.00   \n",
              "1               266662         734.0      1919190.0       159932.50   \n",
              "2               153494         709.0       871112.0        72592.67   \n",
              "3               176242         727.0       780083.0        65006.92   \n",
              "4               321992         744.0      1761148.0       146762.33   \n",
              "\n",
              "   Monthly Debt  Debt / Income Ratio  Credit History(Years)  \\\n",
              "0      42000.83             0.243000                   21.8   \n",
              "1      36624.40             0.228999                   19.4   \n",
              "2       8391.73             0.115600                   12.5   \n",
              "3      16771.87             0.258001                   16.5   \n",
              "4      39478.77             0.268998                   26.0   \n",
              "\n",
              "   Months Delinquent  Open Accounts  Credit Problems  Credit Balance  \\\n",
              "0                0.0              9                0          621908   \n",
              "1                0.0             11                0          679573   \n",
              "2               10.0             10                0           38532   \n",
              "3               27.0             16                1          156940   \n",
              "4               44.0             14                0          359765   \n",
              "\n",
              "   Total Credit  Credit Usage Ratio  Bankruptcies  \n",
              "0       1058970            0.587276           0.0  \n",
              "1        904442            0.751373           0.0  \n",
              "2        388036            0.099300           0.0  \n",
              "3        531322            0.295376           1.0  \n",
              "4        468072            0.768610           0.0  "
            ]
          },
          "execution_count": 2,
          "metadata": {},
          "output_type": "execute_result"
        }
      ],
      "source": [
        "# Create reference to CSV file\n",
        "LR_url = \"https://nextcloud.unknowntunnel.com/s/ybcswYZDTBWi3Nx/download/ETL_credit_data.csv\"\n",
        "\n",
        "# Import the CSV into a pandas DataFrame\n",
        "LR_credit_data_df = pd.read_csv(LR_url)\n",
        "\n",
        "# Display dataframe\n",
        "LR_credit_data_df.head()"
      ]
    },
    {
      "cell_type": "markdown",
      "id": "650913a2",
      "metadata": {
        "id": "650913a2"
      },
      "source": [
        "### Create the labels set (`y`)  from the “loan_status” column, and then create the features (`X`) DataFrame from the remaining columns."
      ]
    },
    {
      "cell_type": "code",
      "execution_count": null,
      "id": "9c9acc76",
      "metadata": {
        "id": "9c9acc76"
      },
      "outputs": [],
      "source": [
        "# Separate the data into labels and features\n",
        "# Separate the y variable, the labels\n",
        "LR_y = LR_credit_data_df['Bankruptcies']\n",
        "\n",
        "# Separate the X variable, the features\n",
        "LR_X = LR_credit_data_df.drop(columns='Bankruptcies')"
      ]
    },
    {
      "cell_type": "code",
      "execution_count": null,
      "id": "f0ce74b6",
      "metadata": {
        "id": "f0ce74b6",
        "outputId": "5b76b119-4f04-4051-a3ac-e2335537e659"
      },
      "outputs": [
        {
          "data": {
            "text/plain": [
              "0    0.0\n",
              "1    0.0\n",
              "2    0.0\n",
              "3    1.0\n",
              "4    0.0\n",
              "Name: Bankruptcies, dtype: float64"
            ]
          },
          "execution_count": 4,
          "metadata": {},
          "output_type": "execute_result"
        }
      ],
      "source": [
        "# Review the y variable Series\n",
        "LR_y.head()"
      ]
    },
    {
      "cell_type": "code",
      "execution_count": null,
      "id": "48853686",
      "metadata": {
        "id": "48853686",
        "outputId": "a3a703db-b864-4214-8670-16238131883b"
      },
      "outputs": [
        {
          "data": {
            "text/html": [
              "<div>\n",
              "<style scoped>\n",
              "    .dataframe tbody tr th:only-of-type {\n",
              "        vertical-align: middle;\n",
              "    }\n",
              "\n",
              "    .dataframe tbody tr th {\n",
              "        vertical-align: top;\n",
              "    }\n",
              "\n",
              "    .dataframe thead th {\n",
              "        text-align: right;\n",
              "    }\n",
              "</style>\n",
              "<table border=\"1\" class=\"dataframe\">\n",
              "  <thead>\n",
              "    <tr style=\"text-align: right;\">\n",
              "      <th></th>\n",
              "      <th>Current Loan Amount</th>\n",
              "      <th>Credit Score</th>\n",
              "      <th>Annual Income</th>\n",
              "      <th>Monthly Income</th>\n",
              "      <th>Monthly Debt</th>\n",
              "      <th>Debt / Income Ratio</th>\n",
              "      <th>Credit History(Years)</th>\n",
              "      <th>Months Delinquent</th>\n",
              "      <th>Open Accounts</th>\n",
              "      <th>Credit Problems</th>\n",
              "      <th>Credit Balance</th>\n",
              "      <th>Total Credit</th>\n",
              "      <th>Credit Usage Ratio</th>\n",
              "    </tr>\n",
              "  </thead>\n",
              "  <tbody>\n",
              "    <tr>\n",
              "      <th>0</th>\n",
              "      <td>611314</td>\n",
              "      <td>747.0</td>\n",
              "      <td>2074116.0</td>\n",
              "      <td>172843.00</td>\n",
              "      <td>42000.83</td>\n",
              "      <td>0.243000</td>\n",
              "      <td>21.8</td>\n",
              "      <td>0.0</td>\n",
              "      <td>9</td>\n",
              "      <td>0</td>\n",
              "      <td>621908</td>\n",
              "      <td>1058970</td>\n",
              "      <td>0.587276</td>\n",
              "    </tr>\n",
              "    <tr>\n",
              "      <th>1</th>\n",
              "      <td>266662</td>\n",
              "      <td>734.0</td>\n",
              "      <td>1919190.0</td>\n",
              "      <td>159932.50</td>\n",
              "      <td>36624.40</td>\n",
              "      <td>0.228999</td>\n",
              "      <td>19.4</td>\n",
              "      <td>0.0</td>\n",
              "      <td>11</td>\n",
              "      <td>0</td>\n",
              "      <td>679573</td>\n",
              "      <td>904442</td>\n",
              "      <td>0.751373</td>\n",
              "    </tr>\n",
              "    <tr>\n",
              "      <th>2</th>\n",
              "      <td>153494</td>\n",
              "      <td>709.0</td>\n",
              "      <td>871112.0</td>\n",
              "      <td>72592.67</td>\n",
              "      <td>8391.73</td>\n",
              "      <td>0.115600</td>\n",
              "      <td>12.5</td>\n",
              "      <td>10.0</td>\n",
              "      <td>10</td>\n",
              "      <td>0</td>\n",
              "      <td>38532</td>\n",
              "      <td>388036</td>\n",
              "      <td>0.099300</td>\n",
              "    </tr>\n",
              "    <tr>\n",
              "      <th>3</th>\n",
              "      <td>176242</td>\n",
              "      <td>727.0</td>\n",
              "      <td>780083.0</td>\n",
              "      <td>65006.92</td>\n",
              "      <td>16771.87</td>\n",
              "      <td>0.258001</td>\n",
              "      <td>16.5</td>\n",
              "      <td>27.0</td>\n",
              "      <td>16</td>\n",
              "      <td>1</td>\n",
              "      <td>156940</td>\n",
              "      <td>531322</td>\n",
              "      <td>0.295376</td>\n",
              "    </tr>\n",
              "    <tr>\n",
              "      <th>4</th>\n",
              "      <td>321992</td>\n",
              "      <td>744.0</td>\n",
              "      <td>1761148.0</td>\n",
              "      <td>146762.33</td>\n",
              "      <td>39478.77</td>\n",
              "      <td>0.268998</td>\n",
              "      <td>26.0</td>\n",
              "      <td>44.0</td>\n",
              "      <td>14</td>\n",
              "      <td>0</td>\n",
              "      <td>359765</td>\n",
              "      <td>468072</td>\n",
              "      <td>0.768610</td>\n",
              "    </tr>\n",
              "  </tbody>\n",
              "</table>\n",
              "</div>"
            ],
            "text/plain": [
              "   Current Loan Amount  Credit Score  Annual Income  Monthly Income  \\\n",
              "0               611314         747.0      2074116.0       172843.00   \n",
              "1               266662         734.0      1919190.0       159932.50   \n",
              "2               153494         709.0       871112.0        72592.67   \n",
              "3               176242         727.0       780083.0        65006.92   \n",
              "4               321992         744.0      1761148.0       146762.33   \n",
              "\n",
              "   Monthly Debt  Debt / Income Ratio  Credit History(Years)  \\\n",
              "0      42000.83             0.243000                   21.8   \n",
              "1      36624.40             0.228999                   19.4   \n",
              "2       8391.73             0.115600                   12.5   \n",
              "3      16771.87             0.258001                   16.5   \n",
              "4      39478.77             0.268998                   26.0   \n",
              "\n",
              "   Months Delinquent  Open Accounts  Credit Problems  Credit Balance  \\\n",
              "0                0.0              9                0          621908   \n",
              "1                0.0             11                0          679573   \n",
              "2               10.0             10                0           38532   \n",
              "3               27.0             16                1          156940   \n",
              "4               44.0             14                0          359765   \n",
              "\n",
              "   Total Credit  Credit Usage Ratio  \n",
              "0       1058970            0.587276  \n",
              "1        904442            0.751373  \n",
              "2        388036            0.099300  \n",
              "3        531322            0.295376  \n",
              "4        468072            0.768610  "
            ]
          },
          "execution_count": 5,
          "metadata": {},
          "output_type": "execute_result"
        }
      ],
      "source": [
        "# Review the X variable DataFrame\n",
        "LR_X.head()"
      ]
    },
    {
      "cell_type": "markdown",
      "id": "0a014784",
      "metadata": {
        "id": "0a014784"
      },
      "source": [
        "### Check the balance of the labels variable (`y`) by using the `value_counts` function."
      ]
    },
    {
      "cell_type": "code",
      "execution_count": null,
      "id": "5a81b095",
      "metadata": {
        "id": "5a81b095",
        "outputId": "f533664d-2c49-49dc-ca5f-0ddbe87d2d5e"
      },
      "outputs": [
        {
          "data": {
            "text/plain": [
              "Bankruptcies\n",
              "0.0    8911\n",
              "1.0    1082\n",
              "Name: count, dtype: int64"
            ]
          },
          "execution_count": 6,
          "metadata": {},
          "output_type": "execute_result"
        }
      ],
      "source": [
        "# Check the balance of our target values\n",
        "LR_y.value_counts()"
      ]
    },
    {
      "cell_type": "code",
      "execution_count": null,
      "id": "f4405456",
      "metadata": {
        "id": "f4405456"
      },
      "outputs": [],
      "source": [
        "### Split the data into training and testing datasets by using `train_test_split`."
      ]
    },
    {
      "cell_type": "code",
      "execution_count": null,
      "id": "6a2618be",
      "metadata": {
        "id": "6a2618be",
        "outputId": "ac23fdc2-a158-4fff-c0df-34de89a69388"
      },
      "outputs": [
        {
          "data": {
            "text/plain": [
              "(7494, 13)"
            ]
          },
          "execution_count": 8,
          "metadata": {},
          "output_type": "execute_result"
        }
      ],
      "source": [
        "# Split the data using train_test_split\n",
        "# Assign a random_state of 1 to the function\n",
        "LR_X_train, LR_X_test, LR_y_train, LR_y_test = train_test_split(LR_X,\n",
        "                                                    LR_y,\n",
        "                                                    random_state=1,\n",
        "                                                    stratify=LR_y)\n",
        "LR_X_train.shape"
      ]
    },
    {
      "cell_type": "markdown",
      "id": "ca742c01",
      "metadata": {
        "id": "ca742c01"
      },
      "source": [
        "## Create a Logistic Regression Model with the Original Data"
      ]
    },
    {
      "cell_type": "markdown",
      "id": "380d1f1e",
      "metadata": {
        "id": "380d1f1e"
      },
      "source": [
        "###  Fit a logistic regression model by using the training data (`X_train` and `y_train`)."
      ]
    },
    {
      "cell_type": "code",
      "execution_count": null,
      "id": "096d0272",
      "metadata": {
        "id": "096d0272",
        "outputId": "073eda21-8933-432f-9683-3a1a41dbcb94"
      },
      "outputs": [
        {
          "data": {
            "text/html": [
              "<style>#sk-container-id-1 {color: black;background-color: white;}#sk-container-id-1 pre{padding: 0;}#sk-container-id-1 div.sk-toggleable {background-color: white;}#sk-container-id-1 label.sk-toggleable__label {cursor: pointer;display: block;width: 100%;margin-bottom: 0;padding: 0.3em;box-sizing: border-box;text-align: center;}#sk-container-id-1 label.sk-toggleable__label-arrow:before {content: \"▸\";float: left;margin-right: 0.25em;color: #696969;}#sk-container-id-1 label.sk-toggleable__label-arrow:hover:before {color: black;}#sk-container-id-1 div.sk-estimator:hover label.sk-toggleable__label-arrow:before {color: black;}#sk-container-id-1 div.sk-toggleable__content {max-height: 0;max-width: 0;overflow: hidden;text-align: left;background-color: #f0f8ff;}#sk-container-id-1 div.sk-toggleable__content pre {margin: 0.2em;color: black;border-radius: 0.25em;background-color: #f0f8ff;}#sk-container-id-1 input.sk-toggleable__control:checked~div.sk-toggleable__content {max-height: 200px;max-width: 100%;overflow: auto;}#sk-container-id-1 input.sk-toggleable__control:checked~label.sk-toggleable__label-arrow:before {content: \"▾\";}#sk-container-id-1 div.sk-estimator input.sk-toggleable__control:checked~label.sk-toggleable__label {background-color: #d4ebff;}#sk-container-id-1 div.sk-label input.sk-toggleable__control:checked~label.sk-toggleable__label {background-color: #d4ebff;}#sk-container-id-1 input.sk-hidden--visually {border: 0;clip: rect(1px 1px 1px 1px);clip: rect(1px, 1px, 1px, 1px);height: 1px;margin: -1px;overflow: hidden;padding: 0;position: absolute;width: 1px;}#sk-container-id-1 div.sk-estimator {font-family: monospace;background-color: #f0f8ff;border: 1px dotted black;border-radius: 0.25em;box-sizing: border-box;margin-bottom: 0.5em;}#sk-container-id-1 div.sk-estimator:hover {background-color: #d4ebff;}#sk-container-id-1 div.sk-parallel-item::after {content: \"\";width: 100%;border-bottom: 1px solid gray;flex-grow: 1;}#sk-container-id-1 div.sk-label:hover label.sk-toggleable__label {background-color: #d4ebff;}#sk-container-id-1 div.sk-serial::before {content: \"\";position: absolute;border-left: 1px solid gray;box-sizing: border-box;top: 0;bottom: 0;left: 50%;z-index: 0;}#sk-container-id-1 div.sk-serial {display: flex;flex-direction: column;align-items: center;background-color: white;padding-right: 0.2em;padding-left: 0.2em;position: relative;}#sk-container-id-1 div.sk-item {position: relative;z-index: 1;}#sk-container-id-1 div.sk-parallel {display: flex;align-items: stretch;justify-content: center;background-color: white;position: relative;}#sk-container-id-1 div.sk-item::before, #sk-container-id-1 div.sk-parallel-item::before {content: \"\";position: absolute;border-left: 1px solid gray;box-sizing: border-box;top: 0;bottom: 0;left: 50%;z-index: -1;}#sk-container-id-1 div.sk-parallel-item {display: flex;flex-direction: column;z-index: 1;position: relative;background-color: white;}#sk-container-id-1 div.sk-parallel-item:first-child::after {align-self: flex-end;width: 50%;}#sk-container-id-1 div.sk-parallel-item:last-child::after {align-self: flex-start;width: 50%;}#sk-container-id-1 div.sk-parallel-item:only-child::after {width: 0;}#sk-container-id-1 div.sk-dashed-wrapped {border: 1px dashed gray;margin: 0 0.4em 0.5em 0.4em;box-sizing: border-box;padding-bottom: 0.4em;background-color: white;}#sk-container-id-1 div.sk-label label {font-family: monospace;font-weight: bold;display: inline-block;line-height: 1.2em;}#sk-container-id-1 div.sk-label-container {text-align: center;}#sk-container-id-1 div.sk-container {/* jupyter's `normalize.less` sets `[hidden] { display: none; }` but bootstrap.min.css set `[hidden] { display: none !important; }` so we also need the `!important` here to be able to override the default hidden behavior on the sphinx rendered scikit-learn.org. See: https://github.com/scikit-learn/scikit-learn/issues/21755 */display: inline-block !important;position: relative;}#sk-container-id-1 div.sk-text-repr-fallback {display: none;}</style><div id=\"sk-container-id-1\" class=\"sk-top-container\"><div class=\"sk-text-repr-fallback\"><pre>LogisticRegression(max_iter=200, random_state=1)</pre><b>In a Jupyter environment, please rerun this cell to show the HTML representation or trust the notebook. <br />On GitHub, the HTML representation is unable to render, please try loading this page with nbviewer.org.</b></div><div class=\"sk-container\" hidden><div class=\"sk-item\"><div class=\"sk-estimator sk-toggleable\"><input class=\"sk-toggleable__control sk-hidden--visually\" id=\"sk-estimator-id-1\" type=\"checkbox\" checked><label for=\"sk-estimator-id-1\" class=\"sk-toggleable__label sk-toggleable__label-arrow\">LogisticRegression</label><div class=\"sk-toggleable__content\"><pre>LogisticRegression(max_iter=200, random_state=1)</pre></div></div></div></div></div>"
            ],
            "text/plain": [
              "LogisticRegression(max_iter=200, random_state=1)"
            ]
          },
          "execution_count": 9,
          "metadata": {},
          "output_type": "execute_result"
        }
      ],
      "source": [
        "# Instantiate the Logistic Regression model\n",
        "Log_Reg_Model = LogisticRegression(solver='lbfgs',\n",
        "                                max_iter=200,\n",
        "                                random_state=1)\n",
        "Log_Reg_Model"
      ]
    },
    {
      "cell_type": "code",
      "execution_count": null,
      "id": "6868f0ea",
      "metadata": {
        "id": "6868f0ea",
        "outputId": "7391b459-eb1d-40b8-9dac-133aeec1ef02"
      },
      "outputs": [
        {
          "data": {
            "text/html": [
              "<style>#sk-container-id-2 {color: black;background-color: white;}#sk-container-id-2 pre{padding: 0;}#sk-container-id-2 div.sk-toggleable {background-color: white;}#sk-container-id-2 label.sk-toggleable__label {cursor: pointer;display: block;width: 100%;margin-bottom: 0;padding: 0.3em;box-sizing: border-box;text-align: center;}#sk-container-id-2 label.sk-toggleable__label-arrow:before {content: \"▸\";float: left;margin-right: 0.25em;color: #696969;}#sk-container-id-2 label.sk-toggleable__label-arrow:hover:before {color: black;}#sk-container-id-2 div.sk-estimator:hover label.sk-toggleable__label-arrow:before {color: black;}#sk-container-id-2 div.sk-toggleable__content {max-height: 0;max-width: 0;overflow: hidden;text-align: left;background-color: #f0f8ff;}#sk-container-id-2 div.sk-toggleable__content pre {margin: 0.2em;color: black;border-radius: 0.25em;background-color: #f0f8ff;}#sk-container-id-2 input.sk-toggleable__control:checked~div.sk-toggleable__content {max-height: 200px;max-width: 100%;overflow: auto;}#sk-container-id-2 input.sk-toggleable__control:checked~label.sk-toggleable__label-arrow:before {content: \"▾\";}#sk-container-id-2 div.sk-estimator input.sk-toggleable__control:checked~label.sk-toggleable__label {background-color: #d4ebff;}#sk-container-id-2 div.sk-label input.sk-toggleable__control:checked~label.sk-toggleable__label {background-color: #d4ebff;}#sk-container-id-2 input.sk-hidden--visually {border: 0;clip: rect(1px 1px 1px 1px);clip: rect(1px, 1px, 1px, 1px);height: 1px;margin: -1px;overflow: hidden;padding: 0;position: absolute;width: 1px;}#sk-container-id-2 div.sk-estimator {font-family: monospace;background-color: #f0f8ff;border: 1px dotted black;border-radius: 0.25em;box-sizing: border-box;margin-bottom: 0.5em;}#sk-container-id-2 div.sk-estimator:hover {background-color: #d4ebff;}#sk-container-id-2 div.sk-parallel-item::after {content: \"\";width: 100%;border-bottom: 1px solid gray;flex-grow: 1;}#sk-container-id-2 div.sk-label:hover label.sk-toggleable__label {background-color: #d4ebff;}#sk-container-id-2 div.sk-serial::before {content: \"\";position: absolute;border-left: 1px solid gray;box-sizing: border-box;top: 0;bottom: 0;left: 50%;z-index: 0;}#sk-container-id-2 div.sk-serial {display: flex;flex-direction: column;align-items: center;background-color: white;padding-right: 0.2em;padding-left: 0.2em;position: relative;}#sk-container-id-2 div.sk-item {position: relative;z-index: 1;}#sk-container-id-2 div.sk-parallel {display: flex;align-items: stretch;justify-content: center;background-color: white;position: relative;}#sk-container-id-2 div.sk-item::before, #sk-container-id-2 div.sk-parallel-item::before {content: \"\";position: absolute;border-left: 1px solid gray;box-sizing: border-box;top: 0;bottom: 0;left: 50%;z-index: -1;}#sk-container-id-2 div.sk-parallel-item {display: flex;flex-direction: column;z-index: 1;position: relative;background-color: white;}#sk-container-id-2 div.sk-parallel-item:first-child::after {align-self: flex-end;width: 50%;}#sk-container-id-2 div.sk-parallel-item:last-child::after {align-self: flex-start;width: 50%;}#sk-container-id-2 div.sk-parallel-item:only-child::after {width: 0;}#sk-container-id-2 div.sk-dashed-wrapped {border: 1px dashed gray;margin: 0 0.4em 0.5em 0.4em;box-sizing: border-box;padding-bottom: 0.4em;background-color: white;}#sk-container-id-2 div.sk-label label {font-family: monospace;font-weight: bold;display: inline-block;line-height: 1.2em;}#sk-container-id-2 div.sk-label-container {text-align: center;}#sk-container-id-2 div.sk-container {/* jupyter's `normalize.less` sets `[hidden] { display: none; }` but bootstrap.min.css set `[hidden] { display: none !important; }` so we also need the `!important` here to be able to override the default hidden behavior on the sphinx rendered scikit-learn.org. See: https://github.com/scikit-learn/scikit-learn/issues/21755 */display: inline-block !important;position: relative;}#sk-container-id-2 div.sk-text-repr-fallback {display: none;}</style><div id=\"sk-container-id-2\" class=\"sk-top-container\"><div class=\"sk-text-repr-fallback\"><pre>LogisticRegression(max_iter=200, random_state=1)</pre><b>In a Jupyter environment, please rerun this cell to show the HTML representation or trust the notebook. <br />On GitHub, the HTML representation is unable to render, please try loading this page with nbviewer.org.</b></div><div class=\"sk-container\" hidden><div class=\"sk-item\"><div class=\"sk-estimator sk-toggleable\"><input class=\"sk-toggleable__control sk-hidden--visually\" id=\"sk-estimator-id-2\" type=\"checkbox\" checked><label for=\"sk-estimator-id-2\" class=\"sk-toggleable__label sk-toggleable__label-arrow\">LogisticRegression</label><div class=\"sk-toggleable__content\"><pre>LogisticRegression(max_iter=200, random_state=1)</pre></div></div></div></div></div>"
            ],
            "text/plain": [
              "LogisticRegression(max_iter=200, random_state=1)"
            ]
          },
          "execution_count": 10,
          "metadata": {},
          "output_type": "execute_result"
        }
      ],
      "source": [
        "# Fit the model using training data\n",
        "Log_Reg_Model.fit(LR_X_train, LR_y_train)"
      ]
    },
    {
      "cell_type": "markdown",
      "id": "e5a03de6",
      "metadata": {
        "id": "e5a03de6"
      },
      "source": [
        "### Save the predictions on the testing data labels by using the testing feature data (`X_test`) and the fitted model."
      ]
    },
    {
      "cell_type": "code",
      "execution_count": null,
      "id": "34947c57",
      "metadata": {
        "id": "34947c57"
      },
      "outputs": [],
      "source": [
        "# Make a prediction using the testing data\n",
        "Log_Reg_Model_Predictions = Log_Reg_Model.predict(LR_X_test)"
      ]
    },
    {
      "cell_type": "markdown",
      "id": "c86bd4fd",
      "metadata": {
        "id": "c86bd4fd"
      },
      "source": [
        "### Evaluate the model’s performance by doing the following:\n",
        "\n",
        "* Calculate the accuracy score of the model.\n",
        "\n",
        "* Generate a confusion matrix.\n",
        "\n",
        "* Print the classification report."
      ]
    },
    {
      "cell_type": "code",
      "execution_count": null,
      "id": "ffd3acfe",
      "metadata": {
        "id": "ffd3acfe",
        "outputId": "55b20b60-467a-4ea9-c709-84cebd6e678a"
      },
      "outputs": [
        {
          "data": {
            "text/plain": [
              "array([[2228,    0],\n",
              "       [ 271,    0]], dtype=int64)"
            ]
          },
          "execution_count": 12,
          "metadata": {},
          "output_type": "execute_result"
        }
      ],
      "source": [
        "# Generate a confusion matrix for the model\n",
        "confusion_matrix(LR_y_test, Log_Reg_Model_Predictions)"
      ]
    },
    {
      "cell_type": "code",
      "execution_count": null,
      "id": "34706fa1",
      "metadata": {
        "id": "34706fa1",
        "outputId": "7ecb5b2e-37e5-4670-dd82-50d49fa2b6dc"
      },
      "outputs": [
        {
          "name": "stdout",
          "output_type": "stream",
          "text": [
            "Testing Data Accuracy Score: 0.8915566226490597\n"
          ]
        }
      ],
      "source": [
        "# Calculating the testing data accuracy score for Logistic Regression Algorithm\n",
        "LR_acc_score = accuracy_score(LR_y_test, Log_Reg_Model_Predictions)\n",
        "\n",
        "# Print testing data accuracy score\n",
        "print(f\"Testing Data Accuracy Score: {LR_acc_score}\")"
      ]
    },
    {
      "cell_type": "code",
      "execution_count": null,
      "id": "a70113d3",
      "metadata": {
        "id": "a70113d3",
        "outputId": "6a1e1cbf-3ec5-4d24-c278-8b8482b0c5ca"
      },
      "outputs": [
        {
          "name": "stdout",
          "output_type": "stream",
          "text": [
            "                    precision    recall  f1-score   support\n",
            "\n",
            "Loan Not Defaulted       0.89      1.00      0.94      2228\n",
            "    Loan Defaulted       0.00      0.00      0.00       271\n",
            "\n",
            "          accuracy                           0.89      2499\n",
            "         macro avg       0.45      0.50      0.47      2499\n",
            "      weighted avg       0.79      0.89      0.84      2499\n",
            "\n"
          ]
        },
        {
          "name": "stderr",
          "output_type": "stream",
          "text": [
            "C:\\Users\\Cody\\anaconda3\\envs\\dev\\lib\\site-packages\\sklearn\\metrics\\_classification.py:1344: UndefinedMetricWarning: Precision and F-score are ill-defined and being set to 0.0 in labels with no predicted samples. Use `zero_division` parameter to control this behavior.\n",
            "  _warn_prf(average, modifier, msg_start, len(result))\n",
            "C:\\Users\\Cody\\anaconda3\\envs\\dev\\lib\\site-packages\\sklearn\\metrics\\_classification.py:1344: UndefinedMetricWarning: Precision and F-score are ill-defined and being set to 0.0 in labels with no predicted samples. Use `zero_division` parameter to control this behavior.\n",
            "  _warn_prf(average, modifier, msg_start, len(result))\n",
            "C:\\Users\\Cody\\anaconda3\\envs\\dev\\lib\\site-packages\\sklearn\\metrics\\_classification.py:1344: UndefinedMetricWarning: Precision and F-score are ill-defined and being set to 0.0 in labels with no predicted samples. Use `zero_division` parameter to control this behavior.\n",
            "  _warn_prf(average, modifier, msg_start, len(result))\n"
          ]
        }
      ],
      "source": [
        "# Printing Classification Report for Logistic Regression Algorithm\n",
        "target_names = [\"Loan Not Defaulted\", \"Loan Defaulted\"]\n",
        "print(classification_report(LR_y_test, Log_Reg_Model_Predictions, target_names=target_names))"
      ]
    },
    {
      "cell_type": "markdown",
      "id": "12599df5",
      "metadata": {
        "id": "12599df5"
      },
      "source": [
        "## Predict a Logistic Regression Model with Resampled Training Data"
      ]
    },
    {
      "cell_type": "markdown",
      "id": "bd52e232",
      "metadata": {
        "id": "bd52e232"
      },
      "source": [
        "### Use the `RandomOverSampler` module from the imbalanced-learn library to resample the data. Be sure to confirm that the labels have an equal number of data points."
      ]
    },
    {
      "cell_type": "code",
      "execution_count": null,
      "id": "a68490e0",
      "metadata": {
        "id": "a68490e0"
      },
      "outputs": [],
      "source": [
        "# Instantiate the random oversampler model\n",
        "# # Assign a random_state parameter of 1 to the model\n",
        "ROS = RandomOverSampler(random_state = 1)\n",
        "\n",
        "# Fit the original training data to the random_oversampler model\n",
        "X_ROS, y_ROS = ROS.fit_resample(LR_X_train, LR_y_train)"
      ]
    },
    {
      "cell_type": "code",
      "execution_count": null,
      "id": "18e6ab19",
      "metadata": {
        "id": "18e6ab19",
        "outputId": "d3554ee9-51e5-41fa-af8f-a319ceb026ba"
      },
      "outputs": [
        {
          "data": {
            "text/plain": [
              "Bankruptcies\n",
              "0.0    6683\n",
              "1.0    6683\n",
              "Name: count, dtype: int64"
            ]
          },
          "execution_count": 16,
          "metadata": {},
          "output_type": "execute_result"
        }
      ],
      "source": [
        "# Count the distinct values of the resampled labels data\n",
        "y_ROS.value_counts()"
      ]
    },
    {
      "cell_type": "code",
      "execution_count": null,
      "id": "707e274b",
      "metadata": {
        "id": "707e274b"
      },
      "outputs": [],
      "source": [
        "# Instantiate the Logistic Regression model\n",
        "Log_Reg_ROS = LogisticRegression(solver='lbfgs',\n",
        "                                max_iter=200,\n",
        "                                random_state=1)\n",
        "Log_Reg_ROS\n",
        "\n",
        "# Fit the model using the resampled training data\n",
        "Log_Reg_ROS.fit(X_ROS, y_ROS)\n",
        "\n",
        "# Make a prediction using the testing data\n",
        "Log_Reg_ROS_Predictions = Log_Reg_ROS.predict(LR_X_test)"
      ]
    },
    {
      "cell_type": "markdown",
      "id": "6e8a4eac",
      "metadata": {
        "id": "6e8a4eac"
      },
      "source": [
        "### Evaluate the model’s performance by doing the following:\n",
        "\n",
        "* Calculate the accuracy score of the model.\n",
        "\n",
        "* Generate a confusion matrix.\n",
        "\n",
        "* Print the classification report."
      ]
    },
    {
      "cell_type": "code",
      "execution_count": null,
      "id": "c56e518d",
      "metadata": {
        "id": "c56e518d",
        "outputId": "b2fcce72-4b47-4884-a921-4ae5ce730d38"
      },
      "outputs": [
        {
          "data": {
            "text/plain": [
              "array([[1564,  664],\n",
              "       [ 141,  130]], dtype=int64)"
            ]
          },
          "execution_count": 18,
          "metadata": {},
          "output_type": "execute_result"
        }
      ],
      "source": [
        "# Generate a confusion matrix for the model\n",
        "confusion_matrix(LR_y_test, Log_Reg_ROS_Predictions)"
      ]
    },
    {
      "cell_type": "code",
      "execution_count": null,
      "id": "109cb7f1",
      "metadata": {
        "id": "109cb7f1",
        "outputId": "5c70ec12-37d9-4981-d7ae-4e09b9e74834"
      },
      "outputs": [
        {
          "name": "stdout",
          "output_type": "stream",
          "text": [
            "Testing Data Accuracy Score: 0.6778711484593838\n"
          ]
        }
      ],
      "source": [
        "# Calculating the testing data accuracy score for Logistic Regression Algorithm\n",
        "LR_testing_acc_score = accuracy_score(LR_y_test, Log_Reg_ROS_Predictions)\n",
        "\n",
        "# Print testing data accuracy score\n",
        "print(f\"Testing Data Accuracy Score: {LR_testing_acc_score}\")"
      ]
    },
    {
      "cell_type": "code",
      "execution_count": null,
      "id": "311ba020",
      "metadata": {
        "id": "311ba020",
        "outputId": "11ddc416-1d1a-4e80-fb41-d531e9f9ca1b"
      },
      "outputs": [
        {
          "name": "stdout",
          "output_type": "stream",
          "text": [
            "Testing Data Precision Score Averages: [0.91730205 0.16372796]\n"
          ]
        }
      ],
      "source": [
        "# Calculating Precision Score Averages of the testing data for Logistic Regression Algorithm\n",
        "LR_testing_prec_score = precision_score(LR_y_test, Log_Reg_ROS_Predictions, average=None)\n",
        "\n",
        "# Print Precision Score Averages of the testing data\n",
        "print(f\"Testing Data Precision Score Averages: {LR_testing_prec_score}\")"
      ]
    },
    {
      "cell_type": "code",
      "execution_count": null,
      "id": "3fc0c6de",
      "metadata": {
        "id": "3fc0c6de",
        "outputId": "7a0cc4ea-3a51-4c6a-99b0-3f25ba59ae3c"
      },
      "outputs": [
        {
          "name": "stdout",
          "output_type": "stream",
          "text": [
            "Testing Data Recall Score Averages: [0.70197487 0.4797048 ]\n"
          ]
        }
      ],
      "source": [
        "# Calculating Recall Score Averages of the testing data for Logistic Regression Algorithm\n",
        "LR_testing_rec_score = recall_score(LR_y_test, Log_Reg_ROS_Predictions, average=None)\n",
        "\n",
        "# Print Recall Score Averages of the testing data\n",
        "print(f\"Testing Data Recall Score Averages: {LR_testing_rec_score}\")"
      ]
    },
    {
      "cell_type": "code",
      "execution_count": null,
      "id": "2bfc04bc",
      "metadata": {
        "id": "2bfc04bc",
        "outputId": "bd2ea48e-f71d-47f5-819a-e8260ebfb688"
      },
      "outputs": [
        {
          "name": "stdout",
          "output_type": "stream",
          "text": [
            "                    precision    recall  f1-score   support\n",
            "\n",
            "Loan Not Defaulted       0.92      0.70      0.80      2228\n",
            "    Loan Defaulted       0.16      0.48      0.24       271\n",
            "\n",
            "          accuracy                           0.68      2499\n",
            "         macro avg       0.54      0.59      0.52      2499\n",
            "      weighted avg       0.84      0.68      0.74      2499\n",
            "\n"
          ]
        }
      ],
      "source": [
        "# Printing Classification Report for Logistic Regression Algorithm\n",
        "LR_target_names = [\"Loan Not Defaulted\", \"Loan Defaulted\"]\n",
        "print(classification_report(LR_y_test, Log_Reg_ROS_Predictions, target_names=LR_target_names))"
      ]
    },
    {
      "cell_type": "markdown",
      "id": "175837ac",
      "metadata": {
        "id": "175837ac"
      },
      "source": [
        "# Creating Model To Train Data Using KNeighbors Algorithm"
      ]
    },
    {
      "cell_type": "markdown",
      "id": "0a1977a7",
      "metadata": {
        "id": "0a1977a7"
      },
      "source": [
        "## Reloading \"ETL_credit_data.csv\" Into Dataframe"
      ]
    },
    {
      "cell_type": "code",
      "execution_count": null,
      "id": "669288ce",
      "metadata": {
        "id": "669288ce",
        "outputId": "070d4f14-2490-4330-c297-3a1f1d069c1e"
      },
      "outputs": [
        {
          "data": {
            "text/html": [
              "<div>\n",
              "<style scoped>\n",
              "    .dataframe tbody tr th:only-of-type {\n",
              "        vertical-align: middle;\n",
              "    }\n",
              "\n",
              "    .dataframe tbody tr th {\n",
              "        vertical-align: top;\n",
              "    }\n",
              "\n",
              "    .dataframe thead th {\n",
              "        text-align: right;\n",
              "    }\n",
              "</style>\n",
              "<table border=\"1\" class=\"dataframe\">\n",
              "  <thead>\n",
              "    <tr style=\"text-align: right;\">\n",
              "      <th></th>\n",
              "      <th>Current Loan Amount</th>\n",
              "      <th>Credit Score</th>\n",
              "      <th>Annual Income</th>\n",
              "      <th>Monthly Income</th>\n",
              "      <th>Monthly Debt</th>\n",
              "      <th>Debt / Income Ratio</th>\n",
              "      <th>Credit History(Years)</th>\n",
              "      <th>Months Delinquent</th>\n",
              "      <th>Open Accounts</th>\n",
              "      <th>Credit Problems</th>\n",
              "      <th>Credit Balance</th>\n",
              "      <th>Total Credit</th>\n",
              "      <th>Credit Usage Ratio</th>\n",
              "      <th>Bankruptcies</th>\n",
              "    </tr>\n",
              "  </thead>\n",
              "  <tbody>\n",
              "    <tr>\n",
              "      <th>0</th>\n",
              "      <td>611314</td>\n",
              "      <td>747.0</td>\n",
              "      <td>2074116.0</td>\n",
              "      <td>172843.00</td>\n",
              "      <td>42000.83</td>\n",
              "      <td>0.243000</td>\n",
              "      <td>21.8</td>\n",
              "      <td>0.0</td>\n",
              "      <td>9</td>\n",
              "      <td>0</td>\n",
              "      <td>621908</td>\n",
              "      <td>1058970</td>\n",
              "      <td>0.587276</td>\n",
              "      <td>0.0</td>\n",
              "    </tr>\n",
              "    <tr>\n",
              "      <th>1</th>\n",
              "      <td>266662</td>\n",
              "      <td>734.0</td>\n",
              "      <td>1919190.0</td>\n",
              "      <td>159932.50</td>\n",
              "      <td>36624.40</td>\n",
              "      <td>0.228999</td>\n",
              "      <td>19.4</td>\n",
              "      <td>0.0</td>\n",
              "      <td>11</td>\n",
              "      <td>0</td>\n",
              "      <td>679573</td>\n",
              "      <td>904442</td>\n",
              "      <td>0.751373</td>\n",
              "      <td>0.0</td>\n",
              "    </tr>\n",
              "    <tr>\n",
              "      <th>2</th>\n",
              "      <td>153494</td>\n",
              "      <td>709.0</td>\n",
              "      <td>871112.0</td>\n",
              "      <td>72592.67</td>\n",
              "      <td>8391.73</td>\n",
              "      <td>0.115600</td>\n",
              "      <td>12.5</td>\n",
              "      <td>10.0</td>\n",
              "      <td>10</td>\n",
              "      <td>0</td>\n",
              "      <td>38532</td>\n",
              "      <td>388036</td>\n",
              "      <td>0.099300</td>\n",
              "      <td>0.0</td>\n",
              "    </tr>\n",
              "    <tr>\n",
              "      <th>3</th>\n",
              "      <td>176242</td>\n",
              "      <td>727.0</td>\n",
              "      <td>780083.0</td>\n",
              "      <td>65006.92</td>\n",
              "      <td>16771.87</td>\n",
              "      <td>0.258001</td>\n",
              "      <td>16.5</td>\n",
              "      <td>27.0</td>\n",
              "      <td>16</td>\n",
              "      <td>1</td>\n",
              "      <td>156940</td>\n",
              "      <td>531322</td>\n",
              "      <td>0.295376</td>\n",
              "      <td>1.0</td>\n",
              "    </tr>\n",
              "    <tr>\n",
              "      <th>4</th>\n",
              "      <td>321992</td>\n",
              "      <td>744.0</td>\n",
              "      <td>1761148.0</td>\n",
              "      <td>146762.33</td>\n",
              "      <td>39478.77</td>\n",
              "      <td>0.268998</td>\n",
              "      <td>26.0</td>\n",
              "      <td>44.0</td>\n",
              "      <td>14</td>\n",
              "      <td>0</td>\n",
              "      <td>359765</td>\n",
              "      <td>468072</td>\n",
              "      <td>0.768610</td>\n",
              "      <td>0.0</td>\n",
              "    </tr>\n",
              "  </tbody>\n",
              "</table>\n",
              "</div>"
            ],
            "text/plain": [
              "   Current Loan Amount  Credit Score  Annual Income  Monthly Income  \\\n",
              "0               611314         747.0      2074116.0       172843.00   \n",
              "1               266662         734.0      1919190.0       159932.50   \n",
              "2               153494         709.0       871112.0        72592.67   \n",
              "3               176242         727.0       780083.0        65006.92   \n",
              "4               321992         744.0      1761148.0       146762.33   \n",
              "\n",
              "   Monthly Debt  Debt / Income Ratio  Credit History(Years)  \\\n",
              "0      42000.83             0.243000                   21.8   \n",
              "1      36624.40             0.228999                   19.4   \n",
              "2       8391.73             0.115600                   12.5   \n",
              "3      16771.87             0.258001                   16.5   \n",
              "4      39478.77             0.268998                   26.0   \n",
              "\n",
              "   Months Delinquent  Open Accounts  Credit Problems  Credit Balance  \\\n",
              "0                0.0              9                0          621908   \n",
              "1                0.0             11                0          679573   \n",
              "2               10.0             10                0           38532   \n",
              "3               27.0             16                1          156940   \n",
              "4               44.0             14                0          359765   \n",
              "\n",
              "   Total Credit  Credit Usage Ratio  Bankruptcies  \n",
              "0       1058970            0.587276           0.0  \n",
              "1        904442            0.751373           0.0  \n",
              "2        388036            0.099300           0.0  \n",
              "3        531322            0.295376           1.0  \n",
              "4        468072            0.768610           0.0  "
            ]
          },
          "execution_count": 23,
          "metadata": {},
          "output_type": "execute_result"
        }
      ],
      "source": [
        "# Create reference to CSV file\n",
        "KN_url = \"https://nextcloud.unknowntunnel.com/s/ybcswYZDTBWi3Nx/download/ETL_credit_data.csv\"\n",
        "\n",
        "# Import the CSV into a pandas DataFrame\n",
        "KN_credit_data_df = pd.read_csv(KN_url)\n",
        "\n",
        "# Display dataframe\n",
        "KN_credit_data_df.head()"
      ]
    },
    {
      "cell_type": "code",
      "execution_count": null,
      "id": "462ba348",
      "metadata": {
        "id": "462ba348"
      },
      "outputs": [],
      "source": [
        "# Split target column from dataset\n",
        "KN_y = KN_credit_data_df['Bankruptcies']\n",
        "KN_X = KN_credit_data_df.drop(columns='Bankruptcies')"
      ]
    },
    {
      "cell_type": "code",
      "execution_count": null,
      "id": "82f24d5a",
      "metadata": {
        "id": "82f24d5a",
        "outputId": "cba6dfbc-5581-4f3e-b7dc-a62d0926e3c6"
      },
      "outputs": [
        {
          "data": {
            "text/html": [
              "<div>\n",
              "<style scoped>\n",
              "    .dataframe tbody tr th:only-of-type {\n",
              "        vertical-align: middle;\n",
              "    }\n",
              "\n",
              "    .dataframe tbody tr th {\n",
              "        vertical-align: top;\n",
              "    }\n",
              "\n",
              "    .dataframe thead th {\n",
              "        text-align: right;\n",
              "    }\n",
              "</style>\n",
              "<table border=\"1\" class=\"dataframe\">\n",
              "  <thead>\n",
              "    <tr style=\"text-align: right;\">\n",
              "      <th></th>\n",
              "      <th>Current Loan Amount</th>\n",
              "      <th>Credit Score</th>\n",
              "      <th>Annual Income</th>\n",
              "      <th>Monthly Income</th>\n",
              "      <th>Monthly Debt</th>\n",
              "      <th>Debt / Income Ratio</th>\n",
              "      <th>Credit History(Years)</th>\n",
              "      <th>Months Delinquent</th>\n",
              "      <th>Open Accounts</th>\n",
              "      <th>Credit Problems</th>\n",
              "      <th>Credit Balance</th>\n",
              "      <th>Total Credit</th>\n",
              "      <th>Credit Usage Ratio</th>\n",
              "    </tr>\n",
              "  </thead>\n",
              "  <tbody>\n",
              "    <tr>\n",
              "      <th>0</th>\n",
              "      <td>611314</td>\n",
              "      <td>747.0</td>\n",
              "      <td>2074116.0</td>\n",
              "      <td>172843.00</td>\n",
              "      <td>42000.83</td>\n",
              "      <td>0.243000</td>\n",
              "      <td>21.8</td>\n",
              "      <td>0.0</td>\n",
              "      <td>9</td>\n",
              "      <td>0</td>\n",
              "      <td>621908</td>\n",
              "      <td>1058970</td>\n",
              "      <td>0.587276</td>\n",
              "    </tr>\n",
              "    <tr>\n",
              "      <th>1</th>\n",
              "      <td>266662</td>\n",
              "      <td>734.0</td>\n",
              "      <td>1919190.0</td>\n",
              "      <td>159932.50</td>\n",
              "      <td>36624.40</td>\n",
              "      <td>0.228999</td>\n",
              "      <td>19.4</td>\n",
              "      <td>0.0</td>\n",
              "      <td>11</td>\n",
              "      <td>0</td>\n",
              "      <td>679573</td>\n",
              "      <td>904442</td>\n",
              "      <td>0.751373</td>\n",
              "    </tr>\n",
              "    <tr>\n",
              "      <th>2</th>\n",
              "      <td>153494</td>\n",
              "      <td>709.0</td>\n",
              "      <td>871112.0</td>\n",
              "      <td>72592.67</td>\n",
              "      <td>8391.73</td>\n",
              "      <td>0.115600</td>\n",
              "      <td>12.5</td>\n",
              "      <td>10.0</td>\n",
              "      <td>10</td>\n",
              "      <td>0</td>\n",
              "      <td>38532</td>\n",
              "      <td>388036</td>\n",
              "      <td>0.099300</td>\n",
              "    </tr>\n",
              "    <tr>\n",
              "      <th>3</th>\n",
              "      <td>176242</td>\n",
              "      <td>727.0</td>\n",
              "      <td>780083.0</td>\n",
              "      <td>65006.92</td>\n",
              "      <td>16771.87</td>\n",
              "      <td>0.258001</td>\n",
              "      <td>16.5</td>\n",
              "      <td>27.0</td>\n",
              "      <td>16</td>\n",
              "      <td>1</td>\n",
              "      <td>156940</td>\n",
              "      <td>531322</td>\n",
              "      <td>0.295376</td>\n",
              "    </tr>\n",
              "    <tr>\n",
              "      <th>4</th>\n",
              "      <td>321992</td>\n",
              "      <td>744.0</td>\n",
              "      <td>1761148.0</td>\n",
              "      <td>146762.33</td>\n",
              "      <td>39478.77</td>\n",
              "      <td>0.268998</td>\n",
              "      <td>26.0</td>\n",
              "      <td>44.0</td>\n",
              "      <td>14</td>\n",
              "      <td>0</td>\n",
              "      <td>359765</td>\n",
              "      <td>468072</td>\n",
              "      <td>0.768610</td>\n",
              "    </tr>\n",
              "  </tbody>\n",
              "</table>\n",
              "</div>"
            ],
            "text/plain": [
              "   Current Loan Amount  Credit Score  Annual Income  Monthly Income  \\\n",
              "0               611314         747.0      2074116.0       172843.00   \n",
              "1               266662         734.0      1919190.0       159932.50   \n",
              "2               153494         709.0       871112.0        72592.67   \n",
              "3               176242         727.0       780083.0        65006.92   \n",
              "4               321992         744.0      1761148.0       146762.33   \n",
              "\n",
              "   Monthly Debt  Debt / Income Ratio  Credit History(Years)  \\\n",
              "0      42000.83             0.243000                   21.8   \n",
              "1      36624.40             0.228999                   19.4   \n",
              "2       8391.73             0.115600                   12.5   \n",
              "3      16771.87             0.258001                   16.5   \n",
              "4      39478.77             0.268998                   26.0   \n",
              "\n",
              "   Months Delinquent  Open Accounts  Credit Problems  Credit Balance  \\\n",
              "0                0.0              9                0          621908   \n",
              "1                0.0             11                0          679573   \n",
              "2               10.0             10                0           38532   \n",
              "3               27.0             16                1          156940   \n",
              "4               44.0             14                0          359765   \n",
              "\n",
              "   Total Credit  Credit Usage Ratio  \n",
              "0       1058970            0.587276  \n",
              "1        904442            0.751373  \n",
              "2        388036            0.099300  \n",
              "3        531322            0.295376  \n",
              "4        468072            0.768610  "
            ]
          },
          "execution_count": 25,
          "metadata": {},
          "output_type": "execute_result"
        }
      ],
      "source": [
        "# Preview the data\n",
        "KN_X[:5]"
      ]
    },
    {
      "cell_type": "code",
      "execution_count": null,
      "id": "aa0b12ec",
      "metadata": {
        "id": "aa0b12ec",
        "outputId": "72f01f0e-2931-4cfb-a5f0-88ef29663006"
      },
      "outputs": [
        {
          "data": {
            "text/plain": [
              "0    0.0\n",
              "1    0.0\n",
              "2    0.0\n",
              "3    1.0\n",
              "4    0.0\n",
              "Name: Bankruptcies, dtype: float64"
            ]
          },
          "execution_count": 26,
          "metadata": {},
          "output_type": "execute_result"
        }
      ],
      "source": [
        "# Print first five entries for target\n",
        "KN_y[:5]"
      ]
    },
    {
      "cell_type": "code",
      "execution_count": null,
      "id": "f52f7e3c",
      "metadata": {
        "id": "f52f7e3c"
      },
      "outputs": [],
      "source": [
        "# Encode the categorical variables using get_dummies\n",
        "KN_X = pd.get_dummies(KN_X)"
      ]
    },
    {
      "cell_type": "code",
      "execution_count": null,
      "id": "d3fca71e",
      "metadata": {
        "id": "d3fca71e",
        "outputId": "0988c34d-8bc9-4f44-e2f2-3728dc288419"
      },
      "outputs": [
        {
          "data": {
            "text/html": [
              "<div>\n",
              "<style scoped>\n",
              "    .dataframe tbody tr th:only-of-type {\n",
              "        vertical-align: middle;\n",
              "    }\n",
              "\n",
              "    .dataframe tbody tr th {\n",
              "        vertical-align: top;\n",
              "    }\n",
              "\n",
              "    .dataframe thead th {\n",
              "        text-align: right;\n",
              "    }\n",
              "</style>\n",
              "<table border=\"1\" class=\"dataframe\">\n",
              "  <thead>\n",
              "    <tr style=\"text-align: right;\">\n",
              "      <th></th>\n",
              "      <th>Current Loan Amount</th>\n",
              "      <th>Credit Score</th>\n",
              "      <th>Annual Income</th>\n",
              "      <th>Monthly Income</th>\n",
              "      <th>Monthly Debt</th>\n",
              "      <th>Debt / Income Ratio</th>\n",
              "      <th>Credit History(Years)</th>\n",
              "      <th>Months Delinquent</th>\n",
              "      <th>Open Accounts</th>\n",
              "      <th>Credit Problems</th>\n",
              "      <th>Credit Balance</th>\n",
              "      <th>Total Credit</th>\n",
              "      <th>Credit Usage Ratio</th>\n",
              "    </tr>\n",
              "  </thead>\n",
              "  <tbody>\n",
              "    <tr>\n",
              "      <th>0</th>\n",
              "      <td>611314</td>\n",
              "      <td>747.0</td>\n",
              "      <td>2074116.0</td>\n",
              "      <td>172843.00</td>\n",
              "      <td>42000.83</td>\n",
              "      <td>0.243000</td>\n",
              "      <td>21.8</td>\n",
              "      <td>0.0</td>\n",
              "      <td>9</td>\n",
              "      <td>0</td>\n",
              "      <td>621908</td>\n",
              "      <td>1058970</td>\n",
              "      <td>0.587276</td>\n",
              "    </tr>\n",
              "    <tr>\n",
              "      <th>1</th>\n",
              "      <td>266662</td>\n",
              "      <td>734.0</td>\n",
              "      <td>1919190.0</td>\n",
              "      <td>159932.50</td>\n",
              "      <td>36624.40</td>\n",
              "      <td>0.228999</td>\n",
              "      <td>19.4</td>\n",
              "      <td>0.0</td>\n",
              "      <td>11</td>\n",
              "      <td>0</td>\n",
              "      <td>679573</td>\n",
              "      <td>904442</td>\n",
              "      <td>0.751373</td>\n",
              "    </tr>\n",
              "    <tr>\n",
              "      <th>2</th>\n",
              "      <td>153494</td>\n",
              "      <td>709.0</td>\n",
              "      <td>871112.0</td>\n",
              "      <td>72592.67</td>\n",
              "      <td>8391.73</td>\n",
              "      <td>0.115600</td>\n",
              "      <td>12.5</td>\n",
              "      <td>10.0</td>\n",
              "      <td>10</td>\n",
              "      <td>0</td>\n",
              "      <td>38532</td>\n",
              "      <td>388036</td>\n",
              "      <td>0.099300</td>\n",
              "    </tr>\n",
              "    <tr>\n",
              "      <th>3</th>\n",
              "      <td>176242</td>\n",
              "      <td>727.0</td>\n",
              "      <td>780083.0</td>\n",
              "      <td>65006.92</td>\n",
              "      <td>16771.87</td>\n",
              "      <td>0.258001</td>\n",
              "      <td>16.5</td>\n",
              "      <td>27.0</td>\n",
              "      <td>16</td>\n",
              "      <td>1</td>\n",
              "      <td>156940</td>\n",
              "      <td>531322</td>\n",
              "      <td>0.295376</td>\n",
              "    </tr>\n",
              "    <tr>\n",
              "      <th>4</th>\n",
              "      <td>321992</td>\n",
              "      <td>744.0</td>\n",
              "      <td>1761148.0</td>\n",
              "      <td>146762.33</td>\n",
              "      <td>39478.77</td>\n",
              "      <td>0.268998</td>\n",
              "      <td>26.0</td>\n",
              "      <td>44.0</td>\n",
              "      <td>14</td>\n",
              "      <td>0</td>\n",
              "      <td>359765</td>\n",
              "      <td>468072</td>\n",
              "      <td>0.768610</td>\n",
              "    </tr>\n",
              "  </tbody>\n",
              "</table>\n",
              "</div>"
            ],
            "text/plain": [
              "   Current Loan Amount  Credit Score  Annual Income  Monthly Income  \\\n",
              "0               611314         747.0      2074116.0       172843.00   \n",
              "1               266662         734.0      1919190.0       159932.50   \n",
              "2               153494         709.0       871112.0        72592.67   \n",
              "3               176242         727.0       780083.0        65006.92   \n",
              "4               321992         744.0      1761148.0       146762.33   \n",
              "\n",
              "   Monthly Debt  Debt / Income Ratio  Credit History(Years)  \\\n",
              "0      42000.83             0.243000                   21.8   \n",
              "1      36624.40             0.228999                   19.4   \n",
              "2       8391.73             0.115600                   12.5   \n",
              "3      16771.87             0.258001                   16.5   \n",
              "4      39478.77             0.268998                   26.0   \n",
              "\n",
              "   Months Delinquent  Open Accounts  Credit Problems  Credit Balance  \\\n",
              "0                0.0              9                0          621908   \n",
              "1                0.0             11                0          679573   \n",
              "2               10.0             10                0           38532   \n",
              "3               27.0             16                1          156940   \n",
              "4               44.0             14                0          359765   \n",
              "\n",
              "   Total Credit  Credit Usage Ratio  \n",
              "0       1058970            0.587276  \n",
              "1        904442            0.751373  \n",
              "2        388036            0.099300  \n",
              "3        531322            0.295376  \n",
              "4        468072            0.768610  "
            ]
          },
          "execution_count": 28,
          "metadata": {},
          "output_type": "execute_result"
        }
      ],
      "source": [
        "# Preview the data\n",
        "KN_X.head()"
      ]
    },
    {
      "cell_type": "code",
      "execution_count": null,
      "id": "6f87ca02",
      "metadata": {
        "id": "6f87ca02"
      },
      "outputs": [],
      "source": [
        "# Split the dataset\n",
        "KN_X_train, KN_X_test, KN_y_train, KN_y_test = train_test_split(KN_X, KN_y, random_state=1)"
      ]
    },
    {
      "cell_type": "code",
      "execution_count": null,
      "id": "f273ba8c",
      "metadata": {
        "id": "f273ba8c"
      },
      "outputs": [],
      "source": [
        "# Create the StandardScaler instance\n",
        "KN_scaler = StandardScaler()\n",
        "# Fit the Standard Scaler with the training data\n",
        "KN_X_scaler = KN_scaler.fit(KN_X_train)\n",
        "# Scale the training data\n",
        "KN_X_train_scaled = KN_X_scaler.transform(KN_X_train)\n",
        "KN_X_test_scaled = KN_X_scaler.transform(KN_X_test)"
      ]
    },
    {
      "cell_type": "code",
      "execution_count": null,
      "id": "9aaf87bc",
      "metadata": {
        "id": "9aaf87bc"
      },
      "outputs": [],
      "source": [
        "# Instantiate the model with k = 3 neighbors\n",
        "KN_model = KNeighborsClassifier(n_neighbors=3)"
      ]
    },
    {
      "cell_type": "code",
      "execution_count": null,
      "id": "a499d19b",
      "metadata": {
        "id": "a499d19b",
        "outputId": "f1f22dcb-2bbb-4716-e748-3cf0d6ef1199"
      },
      "outputs": [
        {
          "data": {
            "text/html": [
              "<style>#sk-container-id-3 {color: black;background-color: white;}#sk-container-id-3 pre{padding: 0;}#sk-container-id-3 div.sk-toggleable {background-color: white;}#sk-container-id-3 label.sk-toggleable__label {cursor: pointer;display: block;width: 100%;margin-bottom: 0;padding: 0.3em;box-sizing: border-box;text-align: center;}#sk-container-id-3 label.sk-toggleable__label-arrow:before {content: \"▸\";float: left;margin-right: 0.25em;color: #696969;}#sk-container-id-3 label.sk-toggleable__label-arrow:hover:before {color: black;}#sk-container-id-3 div.sk-estimator:hover label.sk-toggleable__label-arrow:before {color: black;}#sk-container-id-3 div.sk-toggleable__content {max-height: 0;max-width: 0;overflow: hidden;text-align: left;background-color: #f0f8ff;}#sk-container-id-3 div.sk-toggleable__content pre {margin: 0.2em;color: black;border-radius: 0.25em;background-color: #f0f8ff;}#sk-container-id-3 input.sk-toggleable__control:checked~div.sk-toggleable__content {max-height: 200px;max-width: 100%;overflow: auto;}#sk-container-id-3 input.sk-toggleable__control:checked~label.sk-toggleable__label-arrow:before {content: \"▾\";}#sk-container-id-3 div.sk-estimator input.sk-toggleable__control:checked~label.sk-toggleable__label {background-color: #d4ebff;}#sk-container-id-3 div.sk-label input.sk-toggleable__control:checked~label.sk-toggleable__label {background-color: #d4ebff;}#sk-container-id-3 input.sk-hidden--visually {border: 0;clip: rect(1px 1px 1px 1px);clip: rect(1px, 1px, 1px, 1px);height: 1px;margin: -1px;overflow: hidden;padding: 0;position: absolute;width: 1px;}#sk-container-id-3 div.sk-estimator {font-family: monospace;background-color: #f0f8ff;border: 1px dotted black;border-radius: 0.25em;box-sizing: border-box;margin-bottom: 0.5em;}#sk-container-id-3 div.sk-estimator:hover {background-color: #d4ebff;}#sk-container-id-3 div.sk-parallel-item::after {content: \"\";width: 100%;border-bottom: 1px solid gray;flex-grow: 1;}#sk-container-id-3 div.sk-label:hover label.sk-toggleable__label {background-color: #d4ebff;}#sk-container-id-3 div.sk-serial::before {content: \"\";position: absolute;border-left: 1px solid gray;box-sizing: border-box;top: 0;bottom: 0;left: 50%;z-index: 0;}#sk-container-id-3 div.sk-serial {display: flex;flex-direction: column;align-items: center;background-color: white;padding-right: 0.2em;padding-left: 0.2em;position: relative;}#sk-container-id-3 div.sk-item {position: relative;z-index: 1;}#sk-container-id-3 div.sk-parallel {display: flex;align-items: stretch;justify-content: center;background-color: white;position: relative;}#sk-container-id-3 div.sk-item::before, #sk-container-id-3 div.sk-parallel-item::before {content: \"\";position: absolute;border-left: 1px solid gray;box-sizing: border-box;top: 0;bottom: 0;left: 50%;z-index: -1;}#sk-container-id-3 div.sk-parallel-item {display: flex;flex-direction: column;z-index: 1;position: relative;background-color: white;}#sk-container-id-3 div.sk-parallel-item:first-child::after {align-self: flex-end;width: 50%;}#sk-container-id-3 div.sk-parallel-item:last-child::after {align-self: flex-start;width: 50%;}#sk-container-id-3 div.sk-parallel-item:only-child::after {width: 0;}#sk-container-id-3 div.sk-dashed-wrapped {border: 1px dashed gray;margin: 0 0.4em 0.5em 0.4em;box-sizing: border-box;padding-bottom: 0.4em;background-color: white;}#sk-container-id-3 div.sk-label label {font-family: monospace;font-weight: bold;display: inline-block;line-height: 1.2em;}#sk-container-id-3 div.sk-label-container {text-align: center;}#sk-container-id-3 div.sk-container {/* jupyter's `normalize.less` sets `[hidden] { display: none; }` but bootstrap.min.css set `[hidden] { display: none !important; }` so we also need the `!important` here to be able to override the default hidden behavior on the sphinx rendered scikit-learn.org. See: https://github.com/scikit-learn/scikit-learn/issues/21755 */display: inline-block !important;position: relative;}#sk-container-id-3 div.sk-text-repr-fallback {display: none;}</style><div id=\"sk-container-id-3\" class=\"sk-top-container\"><div class=\"sk-text-repr-fallback\"><pre>KNeighborsClassifier(n_neighbors=3)</pre><b>In a Jupyter environment, please rerun this cell to show the HTML representation or trust the notebook. <br />On GitHub, the HTML representation is unable to render, please try loading this page with nbviewer.org.</b></div><div class=\"sk-container\" hidden><div class=\"sk-item\"><div class=\"sk-estimator sk-toggleable\"><input class=\"sk-toggleable__control sk-hidden--visually\" id=\"sk-estimator-id-3\" type=\"checkbox\" checked><label for=\"sk-estimator-id-3\" class=\"sk-toggleable__label sk-toggleable__label-arrow\">KNeighborsClassifier</label><div class=\"sk-toggleable__content\"><pre>KNeighborsClassifier(n_neighbors=3)</pre></div></div></div></div></div>"
            ],
            "text/plain": [
              "KNeighborsClassifier(n_neighbors=3)"
            ]
          },
          "execution_count": 32,
          "metadata": {},
          "output_type": "execute_result"
        }
      ],
      "source": [
        "# Train the model\n",
        "KN_model.fit(KN_X_train_scaled, KN_y_train)"
      ]
    },
    {
      "cell_type": "code",
      "execution_count": null,
      "id": "02627c66",
      "metadata": {
        "id": "02627c66",
        "outputId": "5903ef87-1267-4b33-a876-399c143ae853"
      },
      "outputs": [
        {
          "data": {
            "text/plain": [
              "array([0., 0., 0., ..., 1., 1., 0.])"
            ]
          },
          "execution_count": 33,
          "metadata": {},
          "output_type": "execute_result"
        }
      ],
      "source": [
        "# Create predictions\n",
        "KN_testing_predictions = KN_model.predict(KN_X_test_scaled)\n",
        "\n",
        "# Review the predictions\n",
        "KN_testing_predictions"
      ]
    },
    {
      "cell_type": "code",
      "execution_count": null,
      "id": "312da321",
      "metadata": {
        "id": "312da321",
        "outputId": "1cff3c0a-64d3-4dfc-9b4e-d02c18fdd434"
      },
      "outputs": [
        {
          "data": {
            "text/plain": [
              "array([[2186,   19],\n",
              "       [  66,  228]], dtype=int64)"
            ]
          },
          "execution_count": 34,
          "metadata": {},
          "output_type": "execute_result"
        }
      ],
      "source": [
        "# Print confusion matrix\n",
        "confusion_matrix(KN_testing_predictions,KN_y_test)"
      ]
    },
    {
      "cell_type": "code",
      "execution_count": null,
      "id": "a78867de",
      "metadata": {
        "id": "a78867de",
        "outputId": "c4b35e8c-e291-46ce-d2eb-a938f5bf08ae"
      },
      "outputs": [
        {
          "name": "stdout",
          "output_type": "stream",
          "text": [
            "Testing Data Accuracy Score: 0.9659863945578231\n"
          ]
        }
      ],
      "source": [
        "# Calculating the testing data accuracy score for KNeighbors Algorithm\n",
        "KN_testing_acc_score = accuracy_score(KN_y_test, KN_testing_predictions)\n",
        "\n",
        "# Print testing data accuracy score\n",
        "print(f\"Testing Data Accuracy Score: {KN_testing_acc_score}\")"
      ]
    },
    {
      "cell_type": "code",
      "execution_count": null,
      "id": "80c4cc67",
      "metadata": {
        "id": "80c4cc67",
        "outputId": "9c3c1174-697f-4f33-e925-1e828f564a66"
      },
      "outputs": [
        {
          "name": "stdout",
          "output_type": "stream",
          "text": [
            "Testing Data Precision Score Averages: [0.99138322 0.7755102 ]\n"
          ]
        }
      ],
      "source": [
        "# Calculating Precision Score Averages of the testing data for KNeighbors Algorithm\n",
        "KN_testing_prec_score = precision_score(KN_y_test, KN_testing_predictions, average=None)\n",
        "\n",
        "# Print Precision Score Averages of the testing data\n",
        "print(f\"Testing Data Precision Score Averages: {KN_testing_prec_score}\")"
      ]
    },
    {
      "cell_type": "code",
      "execution_count": null,
      "id": "5baab60b",
      "metadata": {
        "id": "5baab60b",
        "outputId": "8dbefcf6-70d4-4574-84ce-3b7396d36576"
      },
      "outputs": [
        {
          "name": "stdout",
          "output_type": "stream",
          "text": [
            "Testing Data Recall Score Averages: [0.97069272 0.92307692]\n"
          ]
        }
      ],
      "source": [
        "# Calculating Recall Score Averages of the testing data for KNeighbors Algorithm\n",
        "KN_testing_rec_score = recall_score(KN_y_test, KN_testing_predictions, average=None)\n",
        "\n",
        "# Print Recall Score Averages of the testing data\n",
        "print(f\"Testing Data Recall Score Averages: {KN_testing_rec_score}\")"
      ]
    },
    {
      "cell_type": "code",
      "execution_count": null,
      "id": "ab01f474",
      "metadata": {
        "id": "ab01f474",
        "outputId": "0c47c5af-ccaa-412c-952c-990bfab0c5c5"
      },
      "outputs": [
        {
          "name": "stdout",
          "output_type": "stream",
          "text": [
            "                    precision    recall  f1-score   support\n",
            "\n",
            "Loan Not Defaulted       0.99      0.97      0.98      2252\n",
            "    Loan Defaulted       0.78      0.92      0.84       247\n",
            "\n",
            "          accuracy                           0.97      2499\n",
            "         macro avg       0.88      0.95      0.91      2499\n",
            "      weighted avg       0.97      0.97      0.97      2499\n",
            "\n"
          ]
        }
      ],
      "source": [
        "# Printing Classification Report for KNeighbors Algorithm\n",
        "KN_target_names = [\"Loan Not Defaulted\", \"Loan Defaulted\"]\n",
        "print(classification_report(KN_y_test, KN_testing_predictions, target_names=KN_target_names))"
      ]
    },
    {
      "cell_type": "markdown",
      "id": "687dd6ee",
      "metadata": {
        "id": "687dd6ee"
      },
      "source": [
        "# Creating Model To Train Data Using Random Forest Algorithm"
      ]
    },
    {
      "cell_type": "markdown",
      "id": "c6f35d2a",
      "metadata": {
        "id": "c6f35d2a"
      },
      "source": [
        "## Reloading \"ETL_credit_data.csv\" Into Dataframe One Last Time"
      ]
    },
    {
      "cell_type": "code",
      "execution_count": null,
      "id": "f16157b4",
      "metadata": {
        "id": "f16157b4",
        "outputId": "ff9fa90e-0c88-49f1-8abd-d190ef77da5f"
      },
      "outputs": [
        {
          "data": {
            "text/html": [
              "<div>\n",
              "<style scoped>\n",
              "    .dataframe tbody tr th:only-of-type {\n",
              "        vertical-align: middle;\n",
              "    }\n",
              "\n",
              "    .dataframe tbody tr th {\n",
              "        vertical-align: top;\n",
              "    }\n",
              "\n",
              "    .dataframe thead th {\n",
              "        text-align: right;\n",
              "    }\n",
              "</style>\n",
              "<table border=\"1\" class=\"dataframe\">\n",
              "  <thead>\n",
              "    <tr style=\"text-align: right;\">\n",
              "      <th></th>\n",
              "      <th>Current Loan Amount</th>\n",
              "      <th>Credit Score</th>\n",
              "      <th>Annual Income</th>\n",
              "      <th>Monthly Income</th>\n",
              "      <th>Monthly Debt</th>\n",
              "      <th>Debt / Income Ratio</th>\n",
              "      <th>Credit History(Years)</th>\n",
              "      <th>Months Delinquent</th>\n",
              "      <th>Open Accounts</th>\n",
              "      <th>Credit Problems</th>\n",
              "      <th>Credit Balance</th>\n",
              "      <th>Total Credit</th>\n",
              "      <th>Credit Usage Ratio</th>\n",
              "      <th>Bankruptcies</th>\n",
              "    </tr>\n",
              "  </thead>\n",
              "  <tbody>\n",
              "    <tr>\n",
              "      <th>0</th>\n",
              "      <td>611314</td>\n",
              "      <td>747.0</td>\n",
              "      <td>2074116.0</td>\n",
              "      <td>172843.00</td>\n",
              "      <td>42000.83</td>\n",
              "      <td>0.243000</td>\n",
              "      <td>21.8</td>\n",
              "      <td>0.0</td>\n",
              "      <td>9</td>\n",
              "      <td>0</td>\n",
              "      <td>621908</td>\n",
              "      <td>1058970</td>\n",
              "      <td>0.587276</td>\n",
              "      <td>0.0</td>\n",
              "    </tr>\n",
              "    <tr>\n",
              "      <th>1</th>\n",
              "      <td>266662</td>\n",
              "      <td>734.0</td>\n",
              "      <td>1919190.0</td>\n",
              "      <td>159932.50</td>\n",
              "      <td>36624.40</td>\n",
              "      <td>0.228999</td>\n",
              "      <td>19.4</td>\n",
              "      <td>0.0</td>\n",
              "      <td>11</td>\n",
              "      <td>0</td>\n",
              "      <td>679573</td>\n",
              "      <td>904442</td>\n",
              "      <td>0.751373</td>\n",
              "      <td>0.0</td>\n",
              "    </tr>\n",
              "    <tr>\n",
              "      <th>2</th>\n",
              "      <td>153494</td>\n",
              "      <td>709.0</td>\n",
              "      <td>871112.0</td>\n",
              "      <td>72592.67</td>\n",
              "      <td>8391.73</td>\n",
              "      <td>0.115600</td>\n",
              "      <td>12.5</td>\n",
              "      <td>10.0</td>\n",
              "      <td>10</td>\n",
              "      <td>0</td>\n",
              "      <td>38532</td>\n",
              "      <td>388036</td>\n",
              "      <td>0.099300</td>\n",
              "      <td>0.0</td>\n",
              "    </tr>\n",
              "    <tr>\n",
              "      <th>3</th>\n",
              "      <td>176242</td>\n",
              "      <td>727.0</td>\n",
              "      <td>780083.0</td>\n",
              "      <td>65006.92</td>\n",
              "      <td>16771.87</td>\n",
              "      <td>0.258001</td>\n",
              "      <td>16.5</td>\n",
              "      <td>27.0</td>\n",
              "      <td>16</td>\n",
              "      <td>1</td>\n",
              "      <td>156940</td>\n",
              "      <td>531322</td>\n",
              "      <td>0.295376</td>\n",
              "      <td>1.0</td>\n",
              "    </tr>\n",
              "    <tr>\n",
              "      <th>4</th>\n",
              "      <td>321992</td>\n",
              "      <td>744.0</td>\n",
              "      <td>1761148.0</td>\n",
              "      <td>146762.33</td>\n",
              "      <td>39478.77</td>\n",
              "      <td>0.268998</td>\n",
              "      <td>26.0</td>\n",
              "      <td>44.0</td>\n",
              "      <td>14</td>\n",
              "      <td>0</td>\n",
              "      <td>359765</td>\n",
              "      <td>468072</td>\n",
              "      <td>0.768610</td>\n",
              "      <td>0.0</td>\n",
              "    </tr>\n",
              "  </tbody>\n",
              "</table>\n",
              "</div>"
            ],
            "text/plain": [
              "   Current Loan Amount  Credit Score  Annual Income  Monthly Income  \\\n",
              "0               611314         747.0      2074116.0       172843.00   \n",
              "1               266662         734.0      1919190.0       159932.50   \n",
              "2               153494         709.0       871112.0        72592.67   \n",
              "3               176242         727.0       780083.0        65006.92   \n",
              "4               321992         744.0      1761148.0       146762.33   \n",
              "\n",
              "   Monthly Debt  Debt / Income Ratio  Credit History(Years)  \\\n",
              "0      42000.83             0.243000                   21.8   \n",
              "1      36624.40             0.228999                   19.4   \n",
              "2       8391.73             0.115600                   12.5   \n",
              "3      16771.87             0.258001                   16.5   \n",
              "4      39478.77             0.268998                   26.0   \n",
              "\n",
              "   Months Delinquent  Open Accounts  Credit Problems  Credit Balance  \\\n",
              "0                0.0              9                0          621908   \n",
              "1                0.0             11                0          679573   \n",
              "2               10.0             10                0           38532   \n",
              "3               27.0             16                1          156940   \n",
              "4               44.0             14                0          359765   \n",
              "\n",
              "   Total Credit  Credit Usage Ratio  Bankruptcies  \n",
              "0       1058970            0.587276           0.0  \n",
              "1        904442            0.751373           0.0  \n",
              "2        388036            0.099300           0.0  \n",
              "3        531322            0.295376           1.0  \n",
              "4        468072            0.768610           0.0  "
            ]
          },
          "execution_count": 39,
          "metadata": {},
          "output_type": "execute_result"
        }
      ],
      "source": [
        "# Create reference to CSV file\n",
        "RF_url = \"https://nextcloud.unknowntunnel.com/s/ybcswYZDTBWi3Nx/download/ETL_credit_data.csv\"\n",
        "\n",
        "# Import the CSV into a pandas DataFrame\n",
        "RF_credit_data_df = pd.read_csv(RF_url)\n",
        "\n",
        "# Display dataframe\n",
        "RF_credit_data_df.head()"
      ]
    },
    {
      "cell_type": "markdown",
      "id": "270fd782",
      "metadata": {
        "id": "270fd782"
      },
      "source": [
        "## Loading and Preprocessing Data"
      ]
    },
    {
      "cell_type": "code",
      "execution_count": null,
      "id": "e0a27caa",
      "metadata": {
        "id": "e0a27caa",
        "outputId": "80a01534-4300-46f5-e2a6-cb6c0a56fc6e"
      },
      "outputs": [
        {
          "data": {
            "text/html": [
              "<div>\n",
              "<style scoped>\n",
              "    .dataframe tbody tr th:only-of-type {\n",
              "        vertical-align: middle;\n",
              "    }\n",
              "\n",
              "    .dataframe tbody tr th {\n",
              "        vertical-align: top;\n",
              "    }\n",
              "\n",
              "    .dataframe thead th {\n",
              "        text-align: right;\n",
              "    }\n",
              "</style>\n",
              "<table border=\"1\" class=\"dataframe\">\n",
              "  <thead>\n",
              "    <tr style=\"text-align: right;\">\n",
              "      <th></th>\n",
              "      <th>Current Loan Amount</th>\n",
              "      <th>Credit Score</th>\n",
              "      <th>Annual Income</th>\n",
              "      <th>Monthly Income</th>\n",
              "      <th>Monthly Debt</th>\n",
              "      <th>Debt / Income Ratio</th>\n",
              "      <th>Credit History(Years)</th>\n",
              "      <th>Months Delinquent</th>\n",
              "      <th>Open Accounts</th>\n",
              "      <th>Credit Problems</th>\n",
              "      <th>Credit Balance</th>\n",
              "      <th>Total Credit</th>\n",
              "      <th>Credit Usage Ratio</th>\n",
              "    </tr>\n",
              "  </thead>\n",
              "  <tbody>\n",
              "    <tr>\n",
              "      <th>0</th>\n",
              "      <td>611314</td>\n",
              "      <td>747.0</td>\n",
              "      <td>2074116.0</td>\n",
              "      <td>172843.00</td>\n",
              "      <td>42000.83</td>\n",
              "      <td>0.243000</td>\n",
              "      <td>21.8</td>\n",
              "      <td>0.0</td>\n",
              "      <td>9</td>\n",
              "      <td>0</td>\n",
              "      <td>621908</td>\n",
              "      <td>1058970</td>\n",
              "      <td>0.587276</td>\n",
              "    </tr>\n",
              "    <tr>\n",
              "      <th>1</th>\n",
              "      <td>266662</td>\n",
              "      <td>734.0</td>\n",
              "      <td>1919190.0</td>\n",
              "      <td>159932.50</td>\n",
              "      <td>36624.40</td>\n",
              "      <td>0.228999</td>\n",
              "      <td>19.4</td>\n",
              "      <td>0.0</td>\n",
              "      <td>11</td>\n",
              "      <td>0</td>\n",
              "      <td>679573</td>\n",
              "      <td>904442</td>\n",
              "      <td>0.751373</td>\n",
              "    </tr>\n",
              "    <tr>\n",
              "      <th>2</th>\n",
              "      <td>153494</td>\n",
              "      <td>709.0</td>\n",
              "      <td>871112.0</td>\n",
              "      <td>72592.67</td>\n",
              "      <td>8391.73</td>\n",
              "      <td>0.115600</td>\n",
              "      <td>12.5</td>\n",
              "      <td>10.0</td>\n",
              "      <td>10</td>\n",
              "      <td>0</td>\n",
              "      <td>38532</td>\n",
              "      <td>388036</td>\n",
              "      <td>0.099300</td>\n",
              "    </tr>\n",
              "    <tr>\n",
              "      <th>3</th>\n",
              "      <td>176242</td>\n",
              "      <td>727.0</td>\n",
              "      <td>780083.0</td>\n",
              "      <td>65006.92</td>\n",
              "      <td>16771.87</td>\n",
              "      <td>0.258001</td>\n",
              "      <td>16.5</td>\n",
              "      <td>27.0</td>\n",
              "      <td>16</td>\n",
              "      <td>1</td>\n",
              "      <td>156940</td>\n",
              "      <td>531322</td>\n",
              "      <td>0.295376</td>\n",
              "    </tr>\n",
              "    <tr>\n",
              "      <th>4</th>\n",
              "      <td>321992</td>\n",
              "      <td>744.0</td>\n",
              "      <td>1761148.0</td>\n",
              "      <td>146762.33</td>\n",
              "      <td>39478.77</td>\n",
              "      <td>0.268998</td>\n",
              "      <td>26.0</td>\n",
              "      <td>44.0</td>\n",
              "      <td>14</td>\n",
              "      <td>0</td>\n",
              "      <td>359765</td>\n",
              "      <td>468072</td>\n",
              "      <td>0.768610</td>\n",
              "    </tr>\n",
              "  </tbody>\n",
              "</table>\n",
              "</div>"
            ],
            "text/plain": [
              "   Current Loan Amount  Credit Score  Annual Income  Monthly Income  \\\n",
              "0               611314         747.0      2074116.0       172843.00   \n",
              "1               266662         734.0      1919190.0       159932.50   \n",
              "2               153494         709.0       871112.0        72592.67   \n",
              "3               176242         727.0       780083.0        65006.92   \n",
              "4               321992         744.0      1761148.0       146762.33   \n",
              "\n",
              "   Monthly Debt  Debt / Income Ratio  Credit History(Years)  \\\n",
              "0      42000.83             0.243000                   21.8   \n",
              "1      36624.40             0.228999                   19.4   \n",
              "2       8391.73             0.115600                   12.5   \n",
              "3      16771.87             0.258001                   16.5   \n",
              "4      39478.77             0.268998                   26.0   \n",
              "\n",
              "   Months Delinquent  Open Accounts  Credit Problems  Credit Balance  \\\n",
              "0                0.0              9                0          621908   \n",
              "1                0.0             11                0          679573   \n",
              "2               10.0             10                0           38532   \n",
              "3               27.0             16                1          156940   \n",
              "4               44.0             14                0          359765   \n",
              "\n",
              "   Total Credit  Credit Usage Ratio  \n",
              "0       1058970            0.587276  \n",
              "1        904442            0.751373  \n",
              "2        388036            0.099300  \n",
              "3        531322            0.295376  \n",
              "4        468072            0.768610  "
            ]
          },
          "execution_count": 40,
          "metadata": {},
          "output_type": "execute_result"
        }
      ],
      "source": [
        "# Define features set\n",
        "RF_X = RF_credit_data_df.copy()\n",
        "RF_X.drop(\"Bankruptcies\", axis=1, inplace=True)\n",
        "RF_X.head()"
      ]
    },
    {
      "cell_type": "code",
      "execution_count": null,
      "id": "5f62318e",
      "metadata": {
        "id": "5f62318e",
        "outputId": "a7635e50-4261-43b0-f811-8effd4bcc40c"
      },
      "outputs": [
        {
          "data": {
            "text/plain": [
              "array([0., 0., 0., 1., 0.])"
            ]
          },
          "execution_count": 41,
          "metadata": {},
          "output_type": "execute_result"
        }
      ],
      "source": [
        "# Define target vector\n",
        "RF_y = RF_credit_data_df[\"Bankruptcies\"].ravel()\n",
        "RF_y[:5]"
      ]
    },
    {
      "cell_type": "code",
      "execution_count": null,
      "id": "952a401f",
      "metadata": {
        "id": "952a401f"
      },
      "outputs": [],
      "source": [
        "# Splitting into Train and Test sets\n",
        "RF_X_train, RF_X_test, RF_y_train, RF_y_test = train_test_split(RF_X, RF_y, random_state=1)"
      ]
    },
    {
      "cell_type": "code",
      "execution_count": null,
      "id": "df7a165b",
      "metadata": {
        "id": "df7a165b"
      },
      "outputs": [],
      "source": [
        "# Creating StandardScaler instance\n",
        "RF_scaler = StandardScaler()"
      ]
    },
    {
      "cell_type": "code",
      "execution_count": null,
      "id": "03809cba",
      "metadata": {
        "id": "03809cba"
      },
      "outputs": [],
      "source": [
        "# Fitting Standard Scaller\n",
        "RF_X_scaler = RF_scaler.fit(RF_X_train)"
      ]
    },
    {
      "cell_type": "code",
      "execution_count": null,
      "id": "3f153008",
      "metadata": {
        "id": "3f153008"
      },
      "outputs": [],
      "source": [
        "# Scaling data\n",
        "RF_X_train_scaled = RF_X_scaler.transform(RF_X_train)\n",
        "RF_X_test_scaled = RF_X_scaler.transform(RF_X_test)"
      ]
    },
    {
      "cell_type": "markdown",
      "id": "8d72f121",
      "metadata": {
        "id": "8d72f121"
      },
      "source": [
        "## Fitting the Random Forest Model"
      ]
    },
    {
      "cell_type": "code",
      "execution_count": null,
      "id": "87a7be16",
      "metadata": {
        "id": "87a7be16"
      },
      "outputs": [],
      "source": [
        "# Create a random forest classifier\n",
        "rf_model = RandomForestClassifier(n_estimators=500, random_state=78)"
      ]
    },
    {
      "cell_type": "code",
      "execution_count": null,
      "id": "872517a7",
      "metadata": {
        "id": "872517a7"
      },
      "outputs": [],
      "source": [
        "# Fitting the model\n",
        "rf_model = rf_model.fit(RF_X_train_scaled, RF_y_train)"
      ]
    },
    {
      "cell_type": "markdown",
      "id": "c2e3ff3e",
      "metadata": {
        "id": "c2e3ff3e"
      },
      "source": [
        "## Making Predictions Using the Random Forest Model"
      ]
    },
    {
      "cell_type": "code",
      "execution_count": null,
      "id": "8e2a8657",
      "metadata": {
        "id": "8e2a8657",
        "outputId": "c5d3ef13-1b54-4e09-c9fb-e268e7352c83"
      },
      "outputs": [
        {
          "data": {
            "text/plain": [
              "array([0., 0., 0., ..., 1., 1., 0.])"
            ]
          },
          "execution_count": 48,
          "metadata": {},
          "output_type": "execute_result"
        }
      ],
      "source": [
        "# Making predictions using the testing data\n",
        "RF_testing_predictions = rf_model.predict(RF_X_test_scaled)\n",
        "RF_testing_predictions"
      ]
    },
    {
      "cell_type": "markdown",
      "id": "8aeae39a",
      "metadata": {
        "id": "8aeae39a"
      },
      "source": [
        "## Model Evaluation"
      ]
    },
    {
      "cell_type": "code",
      "execution_count": null,
      "id": "80d73c85",
      "metadata": {
        "id": "80d73c85",
        "outputId": "42409df8-f2e6-4854-dfbd-89e022bd99dd"
      },
      "outputs": [
        {
          "data": {
            "text/plain": [
              "array([[2180,   72],\n",
              "       [   8,  239]], dtype=int64)"
            ]
          },
          "execution_count": 49,
          "metadata": {},
          "output_type": "execute_result"
        }
      ],
      "source": [
        "# Generate a confusion matrix for the model\n",
        "confusion_matrix(RF_y_test, RF_testing_predictions)"
      ]
    },
    {
      "cell_type": "code",
      "execution_count": null,
      "id": "e041d04b",
      "metadata": {
        "id": "e041d04b",
        "outputId": "569082ab-5197-4bd0-dc5e-af84f63feb4c"
      },
      "outputs": [
        {
          "name": "stdout",
          "output_type": "stream",
          "text": [
            "Testing Data Accuracy Score: 0.9679871948779512\n"
          ]
        }
      ],
      "source": [
        "# Calculating the testing data accuracy score for Random Forest Algorithm\n",
        "RF_testing_acc_score = accuracy_score(RF_y_test, RF_testing_predictions)\n",
        "\n",
        "# Print testing data accuracy score\n",
        "print(f\"Testing Data Accuracy Score: {RF_testing_acc_score}\")"
      ]
    },
    {
      "cell_type": "code",
      "execution_count": null,
      "id": "2d29a683",
      "metadata": {
        "id": "2d29a683",
        "outputId": "887e84b0-8cd3-4614-83d6-3879139c227d"
      },
      "outputs": [
        {
          "name": "stdout",
          "output_type": "stream",
          "text": [
            "Testing Data Precision Score Averages: [0.99634369 0.76848875]\n"
          ]
        }
      ],
      "source": [
        "# Calculating Precision Score Averages of the testing data for Random Forest Algorithm\n",
        "RF_testing_prec_score = precision_score(RF_y_test, RF_testing_predictions, average=None)\n",
        "\n",
        "# Print Precision Score Averages of the testing data\n",
        "print(f\"Testing Data Precision Score Averages: {RF_testing_prec_score}\")"
      ]
    },
    {
      "cell_type": "code",
      "execution_count": null,
      "id": "51ccab43",
      "metadata": {
        "id": "51ccab43",
        "outputId": "c977a296-839c-4805-a6e1-351a613289e0"
      },
      "outputs": [
        {
          "name": "stdout",
          "output_type": "stream",
          "text": [
            "Testing Data Recall Score Averages: [0.96802842 0.96761134]\n"
          ]
        }
      ],
      "source": [
        "# Calculating Recall Score Averages of the testing data for Random Forest Algorithm\n",
        "RF_testing_rec_score = recall_score(RF_y_test, RF_testing_predictions, average=None)\n",
        "\n",
        "# Print Recall Score Averages of the testing data\n",
        "print(f\"Testing Data Recall Score Averages: {RF_testing_rec_score}\")"
      ]
    },
    {
      "cell_type": "code",
      "execution_count": null,
      "id": "1f33678e",
      "metadata": {
        "id": "1f33678e",
        "outputId": "1612c617-e08a-4f1d-9db0-aae26953438d"
      },
      "outputs": [
        {
          "name": "stdout",
          "output_type": "stream",
          "text": [
            "                    precision    recall  f1-score   support\n",
            "\n",
            "Loan Not Defaulted       1.00      0.97      0.98      2252\n",
            "    Loan Defaulted       0.77      0.97      0.86       247\n",
            "\n",
            "          accuracy                           0.97      2499\n",
            "         macro avg       0.88      0.97      0.92      2499\n",
            "      weighted avg       0.97      0.97      0.97      2499\n",
            "\n"
          ]
        }
      ],
      "source": [
        "# Printing Classification Report for Random Forest Algorithm\n",
        "RF_target_names = [\"Loan Not Defaulted\", \"Loan Defaulted\"]\n",
        "print(classification_report(RF_y_test, RF_testing_predictions, target_names=RF_target_names))"
      ]
    }
  ],
  "metadata": {
    "colab": {
      "provenance": [],
      "include_colab_link": true
    },
    "kernelspec": {
      "display_name": "Python 3 (ipykernel)",
      "language": "python",
      "name": "python3"
    },
    "language_info": {
      "codemirror_mode": {
        "name": "ipython",
        "version": 3
      },
      "file_extension": ".py",
      "mimetype": "text/x-python",
      "name": "python",
      "nbconvert_exporter": "python",
      "pygments_lexer": "ipython3",
      "version": "3.9.13"
    }
  },
  "nbformat": 4,
  "nbformat_minor": 5
}